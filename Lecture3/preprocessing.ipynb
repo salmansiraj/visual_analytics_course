{
 "cells": [
  {
   "cell_type": "markdown",
   "metadata": {},
   "source": [
    "# Taxi Preprocessing Data Lab\n",
    "## Lab #2"
   ]
  },
  {
   "cell_type": "code",
   "execution_count": 4,
   "metadata": {},
   "outputs": [],
   "source": [
    "import pandas as pd\n",
    "import numpy as np\n",
    "import seaborn as sns"
   ]
  },
  {
   "cell_type": "code",
   "execution_count": 5,
   "metadata": {},
   "outputs": [
    {
     "name": "stdout",
     "output_type": "stream",
     "text": [
      "(100000, 18)\n"
     ]
    }
   ],
   "source": [
    "df1 = pd.read_csv(filepath_or_buffer=\"sampled_taxi.csv\", sep=',',\n",
    "                     header=0, index_col=None, lineterminator='\\n')\n",
    "print(df1.shape)"
   ]
  },
  {
   "cell_type": "code",
   "execution_count": 6,
   "metadata": {},
   "outputs": [
    {
     "data": {
      "text/html": [
       "<div>\n",
       "<style scoped>\n",
       "    .dataframe tbody tr th:only-of-type {\n",
       "        vertical-align: middle;\n",
       "    }\n",
       "\n",
       "    .dataframe tbody tr th {\n",
       "        vertical-align: top;\n",
       "    }\n",
       "\n",
       "    .dataframe thead th {\n",
       "        text-align: right;\n",
       "    }\n",
       "</style>\n",
       "<table border=\"1\" class=\"dataframe\">\n",
       "  <thead>\n",
       "    <tr style=\"text-align: right;\">\n",
       "      <th></th>\n",
       "      <th>VendorID</th>\n",
       "      <th>pickup_datetime</th>\n",
       "      <th>dropoff_datetime</th>\n",
       "      <th>Pickup_longitude</th>\n",
       "      <th>Pickup_latitude</th>\n",
       "      <th>Dropoff_longitude</th>\n",
       "      <th>Dropoff_latitude</th>\n",
       "      <th>Passenger_count</th>\n",
       "      <th>Trip_distance</th>\n",
       "      <th>Fare_amount</th>\n",
       "      <th>Extra</th>\n",
       "      <th>MTA_tax</th>\n",
       "      <th>Tip_amount</th>\n",
       "      <th>Tolls_amount</th>\n",
       "      <th>improvement_surcharge</th>\n",
       "      <th>Total_amount</th>\n",
       "      <th>Payment_type</th>\n",
       "      <th>Trip_type</th>\n",
       "    </tr>\n",
       "  </thead>\n",
       "  <tbody>\n",
       "    <tr>\n",
       "      <th>0</th>\n",
       "      <td>2</td>\n",
       "      <td>06/16/2016 10:18:09 AM</td>\n",
       "      <td>06/16/2016 10:32:32 AM</td>\n",
       "      <td>-73.978424</td>\n",
       "      <td>40.666683</td>\n",
       "      <td>-73.950439</td>\n",
       "      <td>40.681030</td>\n",
       "      <td>1</td>\n",
       "      <td>2.58</td>\n",
       "      <td>11.5</td>\n",
       "      <td>0.0</td>\n",
       "      <td>0.5</td>\n",
       "      <td>0.00</td>\n",
       "      <td>0.0</td>\n",
       "      <td>0.3</td>\n",
       "      <td>12.30</td>\n",
       "      <td>2</td>\n",
       "      <td>1.0</td>\n",
       "    </tr>\n",
       "    <tr>\n",
       "      <th>1</th>\n",
       "      <td>2</td>\n",
       "      <td>06/19/2016 04:09:59 PM</td>\n",
       "      <td>06/19/2016 04:24:11 PM</td>\n",
       "      <td>-73.991203</td>\n",
       "      <td>40.685532</td>\n",
       "      <td>-73.985603</td>\n",
       "      <td>40.668816</td>\n",
       "      <td>1</td>\n",
       "      <td>1.87</td>\n",
       "      <td>11.0</td>\n",
       "      <td>0.0</td>\n",
       "      <td>0.5</td>\n",
       "      <td>2.95</td>\n",
       "      <td>0.0</td>\n",
       "      <td>0.3</td>\n",
       "      <td>14.75</td>\n",
       "      <td>1</td>\n",
       "      <td>1.0</td>\n",
       "    </tr>\n",
       "    <tr>\n",
       "      <th>2</th>\n",
       "      <td>1</td>\n",
       "      <td>06/15/2016 11:22:07 AM</td>\n",
       "      <td>06/15/2016 11:34:03 AM</td>\n",
       "      <td>-73.954796</td>\n",
       "      <td>40.789211</td>\n",
       "      <td>-73.941444</td>\n",
       "      <td>40.788609</td>\n",
       "      <td>1</td>\n",
       "      <td>1.00</td>\n",
       "      <td>9.0</td>\n",
       "      <td>0.0</td>\n",
       "      <td>0.5</td>\n",
       "      <td>1.95</td>\n",
       "      <td>0.0</td>\n",
       "      <td>0.3</td>\n",
       "      <td>11.75</td>\n",
       "      <td>1</td>\n",
       "      <td>1.0</td>\n",
       "    </tr>\n",
       "    <tr>\n",
       "      <th>3</th>\n",
       "      <td>2</td>\n",
       "      <td>06/18/2016 06:30:07 AM</td>\n",
       "      <td>06/18/2016 06:37:29 AM</td>\n",
       "      <td>-73.951561</td>\n",
       "      <td>40.811962</td>\n",
       "      <td>-73.967468</td>\n",
       "      <td>40.792873</td>\n",
       "      <td>1</td>\n",
       "      <td>1.78</td>\n",
       "      <td>8.0</td>\n",
       "      <td>0.0</td>\n",
       "      <td>0.5</td>\n",
       "      <td>1.76</td>\n",
       "      <td>0.0</td>\n",
       "      <td>0.3</td>\n",
       "      <td>10.56</td>\n",
       "      <td>1</td>\n",
       "      <td>1.0</td>\n",
       "    </tr>\n",
       "    <tr>\n",
       "      <th>4</th>\n",
       "      <td>2</td>\n",
       "      <td>06/17/2016 08:53:31 PM</td>\n",
       "      <td>06/17/2016 09:05:34 PM</td>\n",
       "      <td>-73.986336</td>\n",
       "      <td>40.703938</td>\n",
       "      <td>-73.997955</td>\n",
       "      <td>40.682999</td>\n",
       "      <td>1</td>\n",
       "      <td>2.29</td>\n",
       "      <td>10.0</td>\n",
       "      <td>0.5</td>\n",
       "      <td>0.5</td>\n",
       "      <td>3.39</td>\n",
       "      <td>0.0</td>\n",
       "      <td>0.3</td>\n",
       "      <td>14.69</td>\n",
       "      <td>1</td>\n",
       "      <td>1.0</td>\n",
       "    </tr>\n",
       "  </tbody>\n",
       "</table>\n",
       "</div>"
      ],
      "text/plain": [
       "   VendorID         pickup_datetime        dropoff_datetime  Pickup_longitude  \\\n",
       "0         2  06/16/2016 10:18:09 AM  06/16/2016 10:32:32 AM        -73.978424   \n",
       "1         2  06/19/2016 04:09:59 PM  06/19/2016 04:24:11 PM        -73.991203   \n",
       "2         1  06/15/2016 11:22:07 AM  06/15/2016 11:34:03 AM        -73.954796   \n",
       "3         2  06/18/2016 06:30:07 AM  06/18/2016 06:37:29 AM        -73.951561   \n",
       "4         2  06/17/2016 08:53:31 PM  06/17/2016 09:05:34 PM        -73.986336   \n",
       "\n",
       "   Pickup_latitude  Dropoff_longitude  Dropoff_latitude  Passenger_count  \\\n",
       "0        40.666683         -73.950439         40.681030                1   \n",
       "1        40.685532         -73.985603         40.668816                1   \n",
       "2        40.789211         -73.941444         40.788609                1   \n",
       "3        40.811962         -73.967468         40.792873                1   \n",
       "4        40.703938         -73.997955         40.682999                1   \n",
       "\n",
       "   Trip_distance  Fare_amount  Extra  MTA_tax  Tip_amount  Tolls_amount  \\\n",
       "0           2.58         11.5    0.0      0.5        0.00           0.0   \n",
       "1           1.87         11.0    0.0      0.5        2.95           0.0   \n",
       "2           1.00          9.0    0.0      0.5        1.95           0.0   \n",
       "3           1.78          8.0    0.0      0.5        1.76           0.0   \n",
       "4           2.29         10.0    0.5      0.5        3.39           0.0   \n",
       "\n",
       "   improvement_surcharge  Total_amount  Payment_type  Trip_type   \n",
       "0                    0.3         12.30             2         1.0  \n",
       "1                    0.3         14.75             1         1.0  \n",
       "2                    0.3         11.75             1         1.0  \n",
       "3                    0.3         10.56             1         1.0  \n",
       "4                    0.3         14.69             1         1.0  "
      ]
     },
     "execution_count": 6,
     "metadata": {},
     "output_type": "execute_result"
    }
   ],
   "source": [
    "df1.head()"
   ]
  },
  {
   "cell_type": "markdown",
   "metadata": {},
   "source": [
    "## Q1: Payment types in number of trips"
   ]
  },
  {
   "cell_type": "code",
   "execution_count": 9,
   "metadata": {},
   "outputs": [
    {
     "data": {
      "text/plain": [
       "2    50433\n",
       "1    48880\n",
       "3      389\n",
       "4      295\n",
       "5        3\n",
       "Name: Payment_type, dtype: int64"
      ]
     },
     "execution_count": 9,
     "metadata": {},
     "output_type": "execute_result"
    }
   ],
   "source": [
    "df1['Payment_type'].value_counts()"
   ]
  },
  {
   "cell_type": "code",
   "execution_count": 10,
   "metadata": {},
   "outputs": [
    {
     "data": {
      "text/plain": [
       "06/16/2016 07:18:01 PM    6\n",
       "06/18/2016 05:07:57 PM    5\n",
       "06/19/2016 01:12:07 AM    5\n",
       "06/16/2016 05:07:34 PM    5\n",
       "06/20/2016 11:30:31 AM    5\n",
       "                         ..\n",
       "06/15/2016 06:23:11 PM    1\n",
       "06/20/2016 04:40:38 PM    1\n",
       "06/17/2016 07:28:05 PM    1\n",
       "06/15/2016 07:17:03 PM    1\n",
       "06/19/2016 12:49:50 AM    1\n",
       "Name: pickup_datetime, Length: 89158, dtype: int64"
      ]
     },
     "execution_count": 10,
     "metadata": {},
     "output_type": "execute_result"
    }
   ],
   "source": [
    "df1['pickup_datetime'].value_counts()"
   ]
  },
  {
   "cell_type": "code",
   "execution_count": 13,
   "metadata": {},
   "outputs": [
    {
     "name": "stdout",
     "output_type": "stream",
     "text": [
      "1    84441\n",
      "2     7614\n",
      "5     3492\n",
      "3     2095\n",
      "6     1616\n",
      "4      703\n",
      "0       24\n",
      "7        8\n",
      "8        7\n",
      "Name: Passenger_count, dtype: int64\n"
     ]
    }
   ],
   "source": [
    "passcount = df1['Passenger_count'].value_counts()\n",
    "print(passcount)"
   ]
  },
  {
   "cell_type": "code",
   "execution_count": 20,
   "metadata": {},
   "outputs": [
    {
     "data": {
      "text/plain": [
       "1    84441\n",
       "2     7614\n",
       "5     3492\n",
       "3     2095\n",
       "6     1616\n",
       "4      703\n",
       "0       24\n",
       "7        8\n",
       "8        7\n",
       "Name: Passenger_count, dtype: int64"
      ]
     },
     "execution_count": 20,
     "metadata": {},
     "output_type": "execute_result"
    }
   ],
   "source": [
    "passcount = df1['Passenger_count'].value_counts()\n",
    "passcount"
   ]
  },
  {
   "cell_type": "markdown",
   "metadata": {},
   "source": [
    "## Q2: Trips recorded on different days"
   ]
  },
  {
   "cell_type": "code",
   "execution_count": 31,
   "metadata": {},
   "outputs": [
    {
     "data": {
      "text/plain": [
       "18    20837\n",
       "17    17977\n",
       "19    17736\n",
       "16    15661\n",
       "15    14517\n",
       "20    13272\n",
       "Name: day, dtype: int64"
      ]
     },
     "execution_count": 31,
     "metadata": {},
     "output_type": "execute_result"
    }
   ],
   "source": [
    "df1[\"pickup_datetime\"] = pd.to_datetime(df1.pickup_datetime)\n",
    "df1['month'] = df1.pickup_datetime.dt.month\n",
    "df1['week'] = df1.pickup_datetime.dt.week\n",
    "df1['day'] = df1.pickup_datetime.dt.day\n",
    "df1['weekday'] = df1.pickup_datetime.dt.weekday\n",
    "df1['hour'] = df1.pickup_datetime.dt.hour\n",
    "\n",
    "df1['day'].value_counts()"
   ]
  },
  {
   "cell_type": "code",
   "execution_count": 35,
   "metadata": {},
   "outputs": [
    {
     "data": {
      "text/plain": [
       "18    6661\n",
       "19    6195\n",
       "17    6092\n",
       "23    5572\n",
       "16    5536\n",
       "22    5340\n",
       "15    5252\n",
       "0     5239\n",
       "21    5011\n",
       "14    4822\n",
       "20    4523\n",
       "8     4130\n",
       "12    4107\n",
       "9     4017\n",
       "13    4013\n",
       "1     3961\n",
       "11    3930\n",
       "10    3839\n",
       "7     2719\n",
       "2     2707\n",
       "3     1821\n",
       "4     1656\n",
       "6     1623\n",
       "5     1234\n",
       "Name: hour, dtype: int64"
      ]
     },
     "execution_count": 35,
     "metadata": {},
     "output_type": "execute_result"
    }
   ],
   "source": [
    "df1['hour'].value_counts()"
   ]
  },
  {
   "cell_type": "code",
   "execution_count": 38,
   "metadata": {},
   "outputs": [
    {
     "data": {
      "text/html": [
       "<div>\n",
       "<style scoped>\n",
       "    .dataframe tbody tr th:only-of-type {\n",
       "        vertical-align: middle;\n",
       "    }\n",
       "\n",
       "    .dataframe tbody tr th {\n",
       "        vertical-align: top;\n",
       "    }\n",
       "\n",
       "    .dataframe thead th {\n",
       "        text-align: right;\n",
       "    }\n",
       "</style>\n",
       "<table border=\"1\" class=\"dataframe\">\n",
       "  <thead>\n",
       "    <tr style=\"text-align: right;\">\n",
       "      <th></th>\n",
       "      <th>VendorID</th>\n",
       "      <th>pickup_datetime</th>\n",
       "      <th>dropoff_datetime</th>\n",
       "      <th>Pickup_longitude</th>\n",
       "      <th>Pickup_latitude</th>\n",
       "      <th>Dropoff_longitude</th>\n",
       "      <th>Dropoff_latitude</th>\n",
       "      <th>Passenger_count</th>\n",
       "      <th>Trip_distance</th>\n",
       "      <th>Fare_amount</th>\n",
       "      <th>...</th>\n",
       "      <th>Tolls_amount</th>\n",
       "      <th>improvement_surcharge</th>\n",
       "      <th>Total_amount</th>\n",
       "      <th>Payment_type</th>\n",
       "      <th>Trip_type</th>\n",
       "      <th>month</th>\n",
       "      <th>week</th>\n",
       "      <th>day</th>\n",
       "      <th>weekday</th>\n",
       "      <th>hour</th>\n",
       "    </tr>\n",
       "  </thead>\n",
       "  <tbody>\n",
       "    <tr>\n",
       "      <th>0</th>\n",
       "      <td>2</td>\n",
       "      <td>2016-06-16 10:18:09</td>\n",
       "      <td>06/16/2016 10:32:32 AM</td>\n",
       "      <td>-73.978424</td>\n",
       "      <td>40.666683</td>\n",
       "      <td>-73.950439</td>\n",
       "      <td>40.681030</td>\n",
       "      <td>1</td>\n",
       "      <td>2.58</td>\n",
       "      <td>11.5</td>\n",
       "      <td>...</td>\n",
       "      <td>0.0</td>\n",
       "      <td>0.3</td>\n",
       "      <td>12.30</td>\n",
       "      <td>2</td>\n",
       "      <td>1.0</td>\n",
       "      <td>6</td>\n",
       "      <td>24</td>\n",
       "      <td>16</td>\n",
       "      <td>3</td>\n",
       "      <td>10</td>\n",
       "    </tr>\n",
       "    <tr>\n",
       "      <th>5</th>\n",
       "      <td>2</td>\n",
       "      <td>2016-06-16 06:16:53</td>\n",
       "      <td>06/16/2016 06:24:33 AM</td>\n",
       "      <td>-73.885307</td>\n",
       "      <td>40.813763</td>\n",
       "      <td>-73.891014</td>\n",
       "      <td>40.820473</td>\n",
       "      <td>1</td>\n",
       "      <td>0.60</td>\n",
       "      <td>7.0</td>\n",
       "      <td>...</td>\n",
       "      <td>0.0</td>\n",
       "      <td>0.0</td>\n",
       "      <td>7.00</td>\n",
       "      <td>2</td>\n",
       "      <td>2.0</td>\n",
       "      <td>6</td>\n",
       "      <td>24</td>\n",
       "      <td>16</td>\n",
       "      <td>3</td>\n",
       "      <td>6</td>\n",
       "    </tr>\n",
       "    <tr>\n",
       "      <th>9</th>\n",
       "      <td>2</td>\n",
       "      <td>2016-06-16 11:26:03</td>\n",
       "      <td>06/16/2016 11:35:21 AM</td>\n",
       "      <td>-73.890862</td>\n",
       "      <td>40.746910</td>\n",
       "      <td>-73.872650</td>\n",
       "      <td>40.774330</td>\n",
       "      <td>5</td>\n",
       "      <td>3.33</td>\n",
       "      <td>12.0</td>\n",
       "      <td>...</td>\n",
       "      <td>0.0</td>\n",
       "      <td>0.3</td>\n",
       "      <td>12.80</td>\n",
       "      <td>1</td>\n",
       "      <td>1.0</td>\n",
       "      <td>6</td>\n",
       "      <td>24</td>\n",
       "      <td>16</td>\n",
       "      <td>3</td>\n",
       "      <td>11</td>\n",
       "    </tr>\n",
       "    <tr>\n",
       "      <th>13</th>\n",
       "      <td>1</td>\n",
       "      <td>2016-06-16 15:33:29</td>\n",
       "      <td>06/16/2016 03:36:40 PM</td>\n",
       "      <td>-73.951408</td>\n",
       "      <td>40.791168</td>\n",
       "      <td>-73.940819</td>\n",
       "      <td>40.805565</td>\n",
       "      <td>1</td>\n",
       "      <td>1.10</td>\n",
       "      <td>5.0</td>\n",
       "      <td>...</td>\n",
       "      <td>0.0</td>\n",
       "      <td>0.3</td>\n",
       "      <td>5.80</td>\n",
       "      <td>2</td>\n",
       "      <td>1.0</td>\n",
       "      <td>6</td>\n",
       "      <td>24</td>\n",
       "      <td>16</td>\n",
       "      <td>3</td>\n",
       "      <td>15</td>\n",
       "    </tr>\n",
       "    <tr>\n",
       "      <th>16</th>\n",
       "      <td>1</td>\n",
       "      <td>2016-06-16 17:09:41</td>\n",
       "      <td>06/16/2016 05:21:25 PM</td>\n",
       "      <td>-73.898598</td>\n",
       "      <td>40.657326</td>\n",
       "      <td>0.000000</td>\n",
       "      <td>0.000000</td>\n",
       "      <td>1</td>\n",
       "      <td>2.10</td>\n",
       "      <td>9.5</td>\n",
       "      <td>...</td>\n",
       "      <td>0.0</td>\n",
       "      <td>0.3</td>\n",
       "      <td>13.55</td>\n",
       "      <td>1</td>\n",
       "      <td>1.0</td>\n",
       "      <td>6</td>\n",
       "      <td>24</td>\n",
       "      <td>16</td>\n",
       "      <td>3</td>\n",
       "      <td>17</td>\n",
       "    </tr>\n",
       "    <tr>\n",
       "      <th>...</th>\n",
       "      <td>...</td>\n",
       "      <td>...</td>\n",
       "      <td>...</td>\n",
       "      <td>...</td>\n",
       "      <td>...</td>\n",
       "      <td>...</td>\n",
       "      <td>...</td>\n",
       "      <td>...</td>\n",
       "      <td>...</td>\n",
       "      <td>...</td>\n",
       "      <td>...</td>\n",
       "      <td>...</td>\n",
       "      <td>...</td>\n",
       "      <td>...</td>\n",
       "      <td>...</td>\n",
       "      <td>...</td>\n",
       "      <td>...</td>\n",
       "      <td>...</td>\n",
       "      <td>...</td>\n",
       "      <td>...</td>\n",
       "      <td>...</td>\n",
       "    </tr>\n",
       "    <tr>\n",
       "      <th>99981</th>\n",
       "      <td>2</td>\n",
       "      <td>2016-06-16 16:23:52</td>\n",
       "      <td>06/16/2016 04:32:24 PM</td>\n",
       "      <td>-73.893898</td>\n",
       "      <td>40.754585</td>\n",
       "      <td>-73.869728</td>\n",
       "      <td>40.749683</td>\n",
       "      <td>1</td>\n",
       "      <td>1.56</td>\n",
       "      <td>8.0</td>\n",
       "      <td>...</td>\n",
       "      <td>0.0</td>\n",
       "      <td>0.3</td>\n",
       "      <td>9.80</td>\n",
       "      <td>2</td>\n",
       "      <td>1.0</td>\n",
       "      <td>6</td>\n",
       "      <td>24</td>\n",
       "      <td>16</td>\n",
       "      <td>3</td>\n",
       "      <td>16</td>\n",
       "    </tr>\n",
       "    <tr>\n",
       "      <th>99982</th>\n",
       "      <td>2</td>\n",
       "      <td>2016-06-16 19:41:40</td>\n",
       "      <td>06/16/2016 07:45:51 PM</td>\n",
       "      <td>-73.925522</td>\n",
       "      <td>40.761520</td>\n",
       "      <td>-73.934853</td>\n",
       "      <td>40.764343</td>\n",
       "      <td>1</td>\n",
       "      <td>0.76</td>\n",
       "      <td>5.0</td>\n",
       "      <td>...</td>\n",
       "      <td>0.0</td>\n",
       "      <td>0.3</td>\n",
       "      <td>6.80</td>\n",
       "      <td>2</td>\n",
       "      <td>1.0</td>\n",
       "      <td>6</td>\n",
       "      <td>24</td>\n",
       "      <td>16</td>\n",
       "      <td>3</td>\n",
       "      <td>19</td>\n",
       "    </tr>\n",
       "    <tr>\n",
       "      <th>99985</th>\n",
       "      <td>2</td>\n",
       "      <td>2016-06-16 07:58:44</td>\n",
       "      <td>06/16/2016 08:11:06 AM</td>\n",
       "      <td>-73.950638</td>\n",
       "      <td>40.800873</td>\n",
       "      <td>-73.941887</td>\n",
       "      <td>40.831120</td>\n",
       "      <td>1</td>\n",
       "      <td>2.44</td>\n",
       "      <td>11.0</td>\n",
       "      <td>...</td>\n",
       "      <td>0.0</td>\n",
       "      <td>0.3</td>\n",
       "      <td>11.80</td>\n",
       "      <td>1</td>\n",
       "      <td>1.0</td>\n",
       "      <td>6</td>\n",
       "      <td>24</td>\n",
       "      <td>16</td>\n",
       "      <td>3</td>\n",
       "      <td>7</td>\n",
       "    </tr>\n",
       "    <tr>\n",
       "      <th>99993</th>\n",
       "      <td>1</td>\n",
       "      <td>2016-06-16 19:36:44</td>\n",
       "      <td>06/16/2016 07:41:18 PM</td>\n",
       "      <td>-73.844238</td>\n",
       "      <td>40.722492</td>\n",
       "      <td>-73.849731</td>\n",
       "      <td>40.733288</td>\n",
       "      <td>1</td>\n",
       "      <td>0.80</td>\n",
       "      <td>5.0</td>\n",
       "      <td>...</td>\n",
       "      <td>0.0</td>\n",
       "      <td>0.3</td>\n",
       "      <td>7.85</td>\n",
       "      <td>1</td>\n",
       "      <td>1.0</td>\n",
       "      <td>6</td>\n",
       "      <td>24</td>\n",
       "      <td>16</td>\n",
       "      <td>3</td>\n",
       "      <td>19</td>\n",
       "    </tr>\n",
       "    <tr>\n",
       "      <th>99999</th>\n",
       "      <td>2</td>\n",
       "      <td>2016-06-16 18:25:51</td>\n",
       "      <td>06/16/2016 06:33:18 PM</td>\n",
       "      <td>-73.903091</td>\n",
       "      <td>40.745632</td>\n",
       "      <td>-73.920807</td>\n",
       "      <td>40.743298</td>\n",
       "      <td>1</td>\n",
       "      <td>1.45</td>\n",
       "      <td>7.5</td>\n",
       "      <td>...</td>\n",
       "      <td>0.0</td>\n",
       "      <td>0.3</td>\n",
       "      <td>9.30</td>\n",
       "      <td>2</td>\n",
       "      <td>1.0</td>\n",
       "      <td>6</td>\n",
       "      <td>24</td>\n",
       "      <td>16</td>\n",
       "      <td>3</td>\n",
       "      <td>18</td>\n",
       "    </tr>\n",
       "  </tbody>\n",
       "</table>\n",
       "<p>15661 rows × 23 columns</p>\n",
       "</div>"
      ],
      "text/plain": [
       "       VendorID     pickup_datetime        dropoff_datetime  Pickup_longitude  \\\n",
       "0             2 2016-06-16 10:18:09  06/16/2016 10:32:32 AM        -73.978424   \n",
       "5             2 2016-06-16 06:16:53  06/16/2016 06:24:33 AM        -73.885307   \n",
       "9             2 2016-06-16 11:26:03  06/16/2016 11:35:21 AM        -73.890862   \n",
       "13            1 2016-06-16 15:33:29  06/16/2016 03:36:40 PM        -73.951408   \n",
       "16            1 2016-06-16 17:09:41  06/16/2016 05:21:25 PM        -73.898598   \n",
       "...         ...                 ...                     ...               ...   \n",
       "99981         2 2016-06-16 16:23:52  06/16/2016 04:32:24 PM        -73.893898   \n",
       "99982         2 2016-06-16 19:41:40  06/16/2016 07:45:51 PM        -73.925522   \n",
       "99985         2 2016-06-16 07:58:44  06/16/2016 08:11:06 AM        -73.950638   \n",
       "99993         1 2016-06-16 19:36:44  06/16/2016 07:41:18 PM        -73.844238   \n",
       "99999         2 2016-06-16 18:25:51  06/16/2016 06:33:18 PM        -73.903091   \n",
       "\n",
       "       Pickup_latitude  Dropoff_longitude  Dropoff_latitude  Passenger_count  \\\n",
       "0            40.666683         -73.950439         40.681030                1   \n",
       "5            40.813763         -73.891014         40.820473                1   \n",
       "9            40.746910         -73.872650         40.774330                5   \n",
       "13           40.791168         -73.940819         40.805565                1   \n",
       "16           40.657326           0.000000          0.000000                1   \n",
       "...                ...                ...               ...              ...   \n",
       "99981        40.754585         -73.869728         40.749683                1   \n",
       "99982        40.761520         -73.934853         40.764343                1   \n",
       "99985        40.800873         -73.941887         40.831120                1   \n",
       "99993        40.722492         -73.849731         40.733288                1   \n",
       "99999        40.745632         -73.920807         40.743298                1   \n",
       "\n",
       "       Trip_distance  Fare_amount  ...  Tolls_amount  improvement_surcharge  \\\n",
       "0               2.58         11.5  ...           0.0                    0.3   \n",
       "5               0.60          7.0  ...           0.0                    0.0   \n",
       "9               3.33         12.0  ...           0.0                    0.3   \n",
       "13              1.10          5.0  ...           0.0                    0.3   \n",
       "16              2.10          9.5  ...           0.0                    0.3   \n",
       "...              ...          ...  ...           ...                    ...   \n",
       "99981           1.56          8.0  ...           0.0                    0.3   \n",
       "99982           0.76          5.0  ...           0.0                    0.3   \n",
       "99985           2.44         11.0  ...           0.0                    0.3   \n",
       "99993           0.80          5.0  ...           0.0                    0.3   \n",
       "99999           1.45          7.5  ...           0.0                    0.3   \n",
       "\n",
       "       Total_amount  Payment_type  Trip_type   month  week  day  weekday  hour  \n",
       "0             12.30             2         1.0      6    24   16        3    10  \n",
       "5              7.00             2         2.0      6    24   16        3     6  \n",
       "9             12.80             1         1.0      6    24   16        3    11  \n",
       "13             5.80             2         1.0      6    24   16        3    15  \n",
       "16            13.55             1         1.0      6    24   16        3    17  \n",
       "...             ...           ...         ...    ...   ...  ...      ...   ...  \n",
       "99981          9.80             2         1.0      6    24   16        3    16  \n",
       "99982          6.80             2         1.0      6    24   16        3    19  \n",
       "99985         11.80             1         1.0      6    24   16        3     7  \n",
       "99993          7.85             1         1.0      6    24   16        3    19  \n",
       "99999          9.30             2         1.0      6    24   16        3    18  \n",
       "\n",
       "[15661 rows x 23 columns]"
      ]
     },
     "execution_count": 38,
     "metadata": {},
     "output_type": "execute_result"
    }
   ],
   "source": [
    "junesix = df1[df1['day'] == 16]\n",
    "junesix"
   ]
  },
  {
   "cell_type": "code",
   "execution_count": 39,
   "metadata": {},
   "outputs": [
    {
     "data": {
      "text/plain": [
       "18    1126\n",
       "17    1058\n",
       "19     978\n",
       "8      915\n",
       "16     870\n",
       "23     854\n",
       "22     841\n",
       "21     828\n",
       "14     799\n",
       "9      786\n",
       "15     783\n",
       "20     740\n",
       "0      638\n",
       "12     632\n",
       "10     629\n",
       "11     611\n",
       "13     600\n",
       "7      596\n",
       "1      384\n",
       "6      325\n",
       "2      250\n",
       "5      145\n",
       "4      137\n",
       "3      136\n",
       "Name: hour, dtype: int64"
      ]
     },
     "execution_count": 39,
     "metadata": {},
     "output_type": "execute_result"
    }
   ],
   "source": [
    "junesix['hour'].value_counts()"
   ]
  },
  {
   "cell_type": "markdown",
   "metadata": {},
   "source": [
    "## Q3: Average Trip Distance"
   ]
  },
  {
   "cell_type": "code",
   "execution_count": 47,
   "metadata": {},
   "outputs": [
    {
     "data": {
      "text/plain": [
       "<pandas.core.groupby.generic.DataFrameGroupBy object at 0x114d68c88>"
      ]
     },
     "execution_count": 47,
     "metadata": {},
     "output_type": "execute_result"
    }
   ],
   "source": [
    "df1.groupby('day')"
   ]
  },
  {
   "cell_type": "code",
   "execution_count": 46,
   "metadata": {},
   "outputs": [
    {
     "data": {
      "text/plain": [
       "2.9162334"
      ]
     },
     "execution_count": 46,
     "metadata": {},
     "output_type": "execute_result"
    }
   ],
   "source": [
    "df1['Trip_distance'].mean()"
   ]
  },
  {
   "cell_type": "code",
   "execution_count": 49,
   "metadata": {},
   "outputs": [
    {
     "data": {
      "text/plain": [
       "day\n",
       "15    2.769824\n",
       "16    2.845922\n",
       "17    2.858854\n",
       "18    3.024568\n",
       "19    3.091389\n",
       "20    2.832912\n",
       "Name: Trip_distance, dtype: float64"
      ]
     },
     "execution_count": 49,
     "metadata": {},
     "output_type": "execute_result"
    }
   ],
   "source": [
    "df1.groupby('day')['Trip_distance'].mean()"
   ]
  },
  {
   "cell_type": "code",
   "execution_count": 50,
   "metadata": {},
   "outputs": [
    {
     "data": {
      "text/plain": [
       "VendorID\n",
       "1    2.938456\n",
       "2    2.910564\n",
       "Name: Trip_distance, dtype: float64"
      ]
     },
     "execution_count": 50,
     "metadata": {},
     "output_type": "execute_result"
    }
   ],
   "source": [
    "df1.groupby('VendorID')['Trip_distance'].mean()"
   ]
  },
  {
   "cell_type": "code",
   "execution_count": 54,
   "metadata": {},
   "outputs": [],
   "source": [
    "newdf = df1[df1['VendorID'] == 1]"
   ]
  },
  {
   "cell_type": "code",
   "execution_count": 55,
   "metadata": {},
   "outputs": [],
   "source": [
    "newdf = newdf[['day','Trip_distance']]"
   ]
  },
  {
   "cell_type": "code",
   "execution_count": 56,
   "metadata": {},
   "outputs": [
    {
     "data": {
      "text/html": [
       "<div>\n",
       "<style scoped>\n",
       "    .dataframe tbody tr th:only-of-type {\n",
       "        vertical-align: middle;\n",
       "    }\n",
       "\n",
       "    .dataframe tbody tr th {\n",
       "        vertical-align: top;\n",
       "    }\n",
       "\n",
       "    .dataframe thead th {\n",
       "        text-align: right;\n",
       "    }\n",
       "</style>\n",
       "<table border=\"1\" class=\"dataframe\">\n",
       "  <thead>\n",
       "    <tr style=\"text-align: right;\">\n",
       "      <th></th>\n",
       "      <th>Trip_distance</th>\n",
       "    </tr>\n",
       "    <tr>\n",
       "      <th>day</th>\n",
       "      <th></th>\n",
       "    </tr>\n",
       "  </thead>\n",
       "  <tbody>\n",
       "    <tr>\n",
       "      <th>15</th>\n",
       "      <td>2.776409</td>\n",
       "    </tr>\n",
       "    <tr>\n",
       "      <th>16</th>\n",
       "      <td>2.928970</td>\n",
       "    </tr>\n",
       "    <tr>\n",
       "      <th>17</th>\n",
       "      <td>2.757233</td>\n",
       "    </tr>\n",
       "    <tr>\n",
       "      <th>18</th>\n",
       "      <td>3.059743</td>\n",
       "    </tr>\n",
       "    <tr>\n",
       "      <th>19</th>\n",
       "      <td>3.141023</td>\n",
       "    </tr>\n",
       "    <tr>\n",
       "      <th>20</th>\n",
       "      <td>2.914884</td>\n",
       "    </tr>\n",
       "  </tbody>\n",
       "</table>\n",
       "</div>"
      ],
      "text/plain": [
       "     Trip_distance\n",
       "day               \n",
       "15        2.776409\n",
       "16        2.928970\n",
       "17        2.757233\n",
       "18        3.059743\n",
       "19        3.141023\n",
       "20        2.914884"
      ]
     },
     "execution_count": 56,
     "metadata": {},
     "output_type": "execute_result"
    }
   ],
   "source": [
    "newdf.groupby('day').mean()"
   ]
  },
  {
   "cell_type": "markdown",
   "metadata": {},
   "source": [
    "## Q4: Total trip duration of each vendor over time"
   ]
  },
  {
   "cell_type": "code",
   "execution_count": 87,
   "metadata": {},
   "outputs": [],
   "source": [
    "df1['dropoff_datetime'] = pd.to_datetime(df1.dropoff_datetime)\n",
    "df1['duration'] =  df1['dropoff_datetime'] - df1['pickup_datetime']"
   ]
  },
  {
   "cell_type": "code",
   "execution_count": 88,
   "metadata": {},
   "outputs": [],
   "source": [
    "transformation = lambda x: x.components.hours*60 + x.components.minutes + x.components.seconds/60.0\n",
    "df1['duration'] = df1['duration'].apply(transformation)"
   ]
  },
  {
   "cell_type": "code",
   "execution_count": 89,
   "metadata": {},
   "outputs": [
    {
     "data": {
      "text/plain": [
       "VendorID  day\n",
       "1         15     13.852144\n",
       "          16     14.534665\n",
       "          17     13.925629\n",
       "          18     13.488258\n",
       "          19     12.817184\n",
       "          20     13.372027\n",
       "2         15     25.294721\n",
       "          16     25.025885\n",
       "          17     24.865018\n",
       "          18     26.847148\n",
       "          19     29.485932\n",
       "          20     22.926710\n",
       "Name: duration, dtype: float64"
      ]
     },
     "execution_count": 89,
     "metadata": {},
     "output_type": "execute_result"
    }
   ],
   "source": [
    "df1.groupby(['VendorID','day'])['duration'].mean()"
   ]
  },
  {
   "cell_type": "markdown",
   "metadata": {},
   "source": [
    "# Practice 1: total fare_amount of Vendor 1 on different days"
   ]
  },
  {
   "cell_type": "code",
   "execution_count": 91,
   "metadata": {},
   "outputs": [
    {
     "data": {
      "text/plain": [
       "day\n",
       "15    36078.10\n",
       "16    39386.96\n",
       "17    44226.21\n",
       "18    52942.14\n",
       "19    44368.74\n",
       "20    34865.24\n",
       "Name: Fare_amount, dtype: float64"
      ]
     },
     "execution_count": 91,
     "metadata": {},
     "output_type": "execute_result"
    }
   ],
   "source": [
    "df1[df1['VendorID']==1].groupby('day')['Fare_amount'].sum()"
   ]
  },
  {
   "cell_type": "markdown",
   "metadata": {},
   "source": [
    "# Practice 2: Total num of trips from Vendor 1 on different days"
   ]
  },
  {
   "cell_type": "code",
   "execution_count": 92,
   "metadata": {},
   "outputs": [
    {
     "data": {
      "text/plain": [
       "18    4203\n",
       "17    3643\n",
       "19    3576\n",
       "16    3117\n",
       "15    2946\n",
       "20    2842\n",
       "Name: day, dtype: int64"
      ]
     },
     "execution_count": 92,
     "metadata": {},
     "output_type": "execute_result"
    }
   ],
   "source": [
    "df1[df1['VendorID']==1]['day'].value_counts()"
   ]
  },
  {
   "cell_type": "markdown",
   "metadata": {},
   "source": [
    "# Practice 2: Total num of trips from Vendor 2 for distances great than 10 miles"
   ]
  },
  {
   "cell_type": "code",
   "execution_count": 95,
   "metadata": {},
   "outputs": [
    {
     "data": {
      "text/plain": [
       "18    553\n",
       "19    536\n",
       "17    493\n",
       "16    427\n",
       "15    386\n",
       "20    334\n",
       "Name: day, dtype: int64"
      ]
     },
     "execution_count": 95,
     "metadata": {},
     "output_type": "execute_result"
    }
   ],
   "source": [
    "df1[(df1['VendorID']==2) & (df1['Trip_distance'] > 10)]['day'].value_counts()"
   ]
  },
  {
   "cell_type": "code",
   "execution_count": null,
   "metadata": {},
   "outputs": [],
   "source": []
  }
 ],
 "metadata": {
  "kernelspec": {
   "display_name": "Python 2",
   "language": "python",
   "name": "python2"
  },
  "language_info": {
   "codemirror_mode": {
    "name": "ipython",
    "version": 2
   },
   "file_extension": ".py",
   "mimetype": "text/x-python",
   "name": "python",
   "nbconvert_exporter": "python",
   "pygments_lexer": "ipython2",
   "version": "2.7.15"
  }
 },
 "nbformat": 4,
 "nbformat_minor": 4
}
