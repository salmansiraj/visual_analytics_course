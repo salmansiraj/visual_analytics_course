{
 "cells": [
  {
   "cell_type": "code",
   "execution_count": 200,
   "metadata": {},
   "outputs": [],
   "source": [
    "import altair as alt\n",
    "import pandas as pd\n"
   ]
  },
  {
   "cell_type": "markdown",
   "metadata": {},
   "source": [
    "## Question 1: How many restaurants are in each borough?"
   ]
  },
  {
   "cell_type": "code",
   "execution_count": 201,
   "metadata": {},
   "outputs": [
    {
     "data": {
      "text/html": [
       "\n",
       "<div id=\"altair-viz-1ea157a6a482460a888e4a7aa9678ffd\"></div>\n",
       "<script type=\"text/javascript\">\n",
       "  (function(spec, embedOpt){\n",
       "    const outputDiv = document.getElementById(\"altair-viz-1ea157a6a482460a888e4a7aa9678ffd\");\n",
       "    const paths = {\n",
       "      \"vega\": \"https://cdn.jsdelivr.net/npm//vega@5?noext\",\n",
       "      \"vega-lib\": \"https://cdn.jsdelivr.net/npm//vega-lib?noext\",\n",
       "      \"vega-lite\": \"https://cdn.jsdelivr.net/npm//vega-lite@4.0.2?noext\",\n",
       "      \"vega-embed\": \"https://cdn.jsdelivr.net/npm//vega-embed@6?noext\",\n",
       "    };\n",
       "\n",
       "    function loadScript(lib) {\n",
       "      return new Promise(function(resolve, reject) {\n",
       "        var s = document.createElement('script');\n",
       "        s.src = paths[lib];\n",
       "        s.async = true;\n",
       "        s.onload = () => resolve(paths[lib]);\n",
       "        s.onerror = () => reject(`Error loading script: ${paths[lib]}`);\n",
       "        document.getElementsByTagName(\"head\")[0].appendChild(s);\n",
       "      });\n",
       "    }\n",
       "\n",
       "    function showError(err) {\n",
       "      outputDiv.innerHTML = `<div class=\"error\" style=\"color:red;\">${err}</div>`;\n",
       "      throw err;\n",
       "    }\n",
       "\n",
       "    function displayChart(vegaEmbed) {\n",
       "      vegaEmbed(outputDiv, spec, embedOpt)\n",
       "        .catch(err => showError(`Javascript Error: ${err.message}<br>This usually means there's a typo in your chart specification. See the javascript console for the full traceback.`));\n",
       "    }\n",
       "\n",
       "    if(typeof define === \"function\" && define.amd) {\n",
       "      requirejs.config({paths});\n",
       "      require([\"vega-embed\"], displayChart, err => showError(`Error loading script: ${err.message}`));\n",
       "    } else if (typeof vegaEmbed === \"function\") {\n",
       "      displayChart(vegaEmbed);\n",
       "    } else {\n",
       "      loadScript(\"vega\")\n",
       "        .then(() => loadScript(\"vega-lite\"))\n",
       "        .then(() => loadScript(\"vega-embed\"))\n",
       "        .catch(showError)\n",
       "        .then(() => displayChart(vegaEmbed));\n",
       "    }\n",
       "  })({\"config\": {\"view\": {\"continuousWidth\": 400, \"continuousHeight\": 300}}, \"data\": {\"name\": \"data-c213272f23dff91579fc6ee8f5a7bc1a\"}, \"mark\": \"bar\", \"encoding\": {\"x\": {\"type\": \"nominal\", \"field\": \"BORO\"}, \"y\": {\"type\": \"quantitative\", \"field\": \"count\"}}, \"$schema\": \"https://vega.github.io/schema/vega-lite/v4.0.2.json\", \"datasets\": {\"data-c213272f23dff91579fc6ee8f5a7bc1a\": [{\"CUISINE DESCRIPTION\": \"Afghan\", \"count\": 221}, {\"CUISINE DESCRIPTION\": \"African\", \"count\": 1825}, {\"CUISINE DESCRIPTION\": \"American\", \"count\": 83618}, {\"CUISINE DESCRIPTION\": \"Armenian\", \"count\": 310}, {\"CUISINE DESCRIPTION\": \"Asian\", \"count\": 6540}, {\"CUISINE DESCRIPTION\": \"Australian\", \"count\": 422}, {\"CUISINE DESCRIPTION\": \"Bagels/Pretzels\", \"count\": 2558}, {\"CUISINE DESCRIPTION\": \"Bakery\", \"count\": 12524}, {\"CUISINE DESCRIPTION\": \"Bangladeshi\", \"count\": 1247}, {\"CUISINE DESCRIPTION\": \"Barbecue\", \"count\": 827}, {\"CUISINE DESCRIPTION\": \"Basque\", \"count\": 7}, {\"CUISINE DESCRIPTION\": \"Bottled beverages, including water, sodas, juices, etc.\", \"count\": 1263}, {\"CUISINE DESCRIPTION\": \"Brazilian\", \"count\": 488}, {\"CUISINE DESCRIPTION\": \"Caf\\u00e9/Coffee/Tea\", \"count\": 19632}, {\"CUISINE DESCRIPTION\": \"Cajun\", \"count\": 102}, {\"CUISINE DESCRIPTION\": \"Californian\", \"count\": 94}, {\"CUISINE DESCRIPTION\": \"Caribbean\", \"count\": 14467}, {\"CUISINE DESCRIPTION\": \"Chicken\", \"count\": 7586}, {\"CUISINE DESCRIPTION\": \"Chilean\", \"count\": 34}, {\"CUISINE DESCRIPTION\": \"Chinese\", \"count\": 42048}, {\"CUISINE DESCRIPTION\": \"Chinese/Cuban\", \"count\": 439}, {\"CUISINE DESCRIPTION\": \"Chinese/Japanese\", \"count\": 904}, {\"CUISINE DESCRIPTION\": \"Continental\", \"count\": 550}, {\"CUISINE DESCRIPTION\": \"Creole\", \"count\": 549}, {\"CUISINE DESCRIPTION\": \"Creole/Cajun\", \"count\": 159}, {\"CUISINE DESCRIPTION\": \"Czech\", \"count\": 43}, {\"CUISINE DESCRIPTION\": \"Delicatessen\", \"count\": 6427}, {\"CUISINE DESCRIPTION\": \"Donuts\", \"count\": 5293}, {\"CUISINE DESCRIPTION\": \"Eastern European\", \"count\": 1426}, {\"CUISINE DESCRIPTION\": \"Egyptian\", \"count\": 191}, {\"CUISINE DESCRIPTION\": \"English\", \"count\": 243}, {\"CUISINE DESCRIPTION\": \"Ethiopian\", \"count\": 229}, {\"CUISINE DESCRIPTION\": \"Filipino\", \"count\": 679}, {\"CUISINE DESCRIPTION\": \"French\", \"count\": 4660}, {\"CUISINE DESCRIPTION\": \"Fruits/Vegetables\", \"count\": 82}, {\"CUISINE DESCRIPTION\": \"German\", \"count\": 470}, {\"CUISINE DESCRIPTION\": \"Greek\", \"count\": 2160}, {\"CUISINE DESCRIPTION\": \"Hamburgers\", \"count\": 4396}, {\"CUISINE DESCRIPTION\": \"Hawaiian\", \"count\": 570}, {\"CUISINE DESCRIPTION\": \"Hotdogs\", \"count\": 184}, {\"CUISINE DESCRIPTION\": \"Hotdogs/Pretzels\", \"count\": 274}, {\"CUISINE DESCRIPTION\": \"Ice Cream, Gelato, Yogurt, Ices\", \"count\": 3090}, {\"CUISINE DESCRIPTION\": \"Indian\", \"count\": 6935}, {\"CUISINE DESCRIPTION\": \"Indonesian\", \"count\": 128}, {\"CUISINE DESCRIPTION\": \"Iranian\", \"count\": 69}, {\"CUISINE DESCRIPTION\": \"Irish\", \"count\": 3434}, {\"CUISINE DESCRIPTION\": \"Italian\", \"count\": 16258}, {\"CUISINE DESCRIPTION\": \"Japanese\", \"count\": 14458}, {\"CUISINE DESCRIPTION\": \"Jewish/Kosher\", \"count\": 5838}, {\"CUISINE DESCRIPTION\": \"Juice, Smoothies, Fruit Salads\", \"count\": 4705}, {\"CUISINE DESCRIPTION\": \"Korean\", \"count\": 5512}, {\"CUISINE DESCRIPTION\": \"Latin (Cuban, Dominican, Puerto Rican, South & Central American)\", \"count\": 17631}, {\"CUISINE DESCRIPTION\": \"Mediterranean\", \"count\": 4206}, {\"CUISINE DESCRIPTION\": \"Mexican\", \"count\": 16491}, {\"CUISINE DESCRIPTION\": \"Middle Eastern\", \"count\": 2859}, {\"CUISINE DESCRIPTION\": \"Moroccan\", \"count\": 181}, {\"CUISINE DESCRIPTION\": \"Not Listed/Not Applicable\", \"count\": 76}, {\"CUISINE DESCRIPTION\": \"Nuts/Confectionary\", \"count\": 43}, {\"CUISINE DESCRIPTION\": \"Other\", \"count\": 2603}, {\"CUISINE DESCRIPTION\": \"Pakistani\", \"count\": 639}, {\"CUISINE DESCRIPTION\": \"Pancakes/Waffles\", \"count\": 226}, {\"CUISINE DESCRIPTION\": \"Peruvian\", \"count\": 1802}, {\"CUISINE DESCRIPTION\": \"Pizza\", \"count\": 17375}, {\"CUISINE DESCRIPTION\": \"Pizza/Italian\", \"count\": 8290}, {\"CUISINE DESCRIPTION\": \"Polish\", \"count\": 488}, {\"CUISINE DESCRIPTION\": \"Portuguese\", \"count\": 150}, {\"CUISINE DESCRIPTION\": \"Russian\", \"count\": 1157}, {\"CUISINE DESCRIPTION\": \"Salads\", \"count\": 986}, {\"CUISINE DESCRIPTION\": \"Sandwiches\", \"count\": 4043}, {\"CUISINE DESCRIPTION\": \"Sandwiches/Salads/Mixed Buffet\", \"count\": 2817}, {\"CUISINE DESCRIPTION\": \"Scandinavian\", \"count\": 72}, {\"CUISINE DESCRIPTION\": \"Seafood\", \"count\": 3142}, {\"CUISINE DESCRIPTION\": \"Soul Food\", \"count\": 1056}, {\"CUISINE DESCRIPTION\": \"Soups\", \"count\": 132}, {\"CUISINE DESCRIPTION\": \"Soups & Sandwiches\", \"count\": 626}, {\"CUISINE DESCRIPTION\": \"Southwestern\", \"count\": 86}, {\"CUISINE DESCRIPTION\": \"Spanish\", \"count\": 12534}, {\"CUISINE DESCRIPTION\": \"Steak\", \"count\": 1261}, {\"CUISINE DESCRIPTION\": \"Tapas\", \"count\": 520}, {\"CUISINE DESCRIPTION\": \"Tex-Mex\", \"count\": 1799}, {\"CUISINE DESCRIPTION\": \"Thai\", \"count\": 5509}, {\"CUISINE DESCRIPTION\": \"Turkish\", \"count\": 1304}, {\"CUISINE DESCRIPTION\": \"Vegetarian\", \"count\": 1945}, {\"CUISINE DESCRIPTION\": \"Vietnamese/Cambodian/Malaysia\", \"count\": 2013}]}}, {\"mode\": \"vega-lite\"});\n",
       "</script>"
      ],
      "text/plain": [
       "alt.Chart(...)"
      ]
     },
     "execution_count": 201,
     "metadata": {},
     "output_type": "execute_result"
    }
   ],
   "source": [
    "df = pd.read_csv(filepath_or_buffer=\"restaurants.csv\", sep=',',header=0, index_col=None, lineterminator='\\n')\n",
    "dfboro= df[df['BORO']!='0'].groupby('CUISINE DESCRIPTION').size()\n",
    "dfboro = dfboro.reset_index(name='count')\n",
    "alt.Chart(dfboro).mark_bar().encode(\n",
    "   x='BORO:N',\n",
    "   y='count:Q'\n",
    ")"
   ]
  },
  {
   "cell_type": "markdown",
   "metadata": {},
   "source": [
    "## Question 2: What is the distribution of grades in each Borough? "
   ]
  },
  {
   "cell_type": "code",
   "execution_count": 202,
   "metadata": {},
   "outputs": [
    {
     "data": {
      "text/html": [
       "\n",
       "<div id=\"altair-viz-877c5a62aa794b5091ed3eb14fb77067\"></div>\n",
       "<script type=\"text/javascript\">\n",
       "  (function(spec, embedOpt){\n",
       "    const outputDiv = document.getElementById(\"altair-viz-877c5a62aa794b5091ed3eb14fb77067\");\n",
       "    const paths = {\n",
       "      \"vega\": \"https://cdn.jsdelivr.net/npm//vega@5?noext\",\n",
       "      \"vega-lib\": \"https://cdn.jsdelivr.net/npm//vega-lib?noext\",\n",
       "      \"vega-lite\": \"https://cdn.jsdelivr.net/npm//vega-lite@4.0.2?noext\",\n",
       "      \"vega-embed\": \"https://cdn.jsdelivr.net/npm//vega-embed@6?noext\",\n",
       "    };\n",
       "\n",
       "    function loadScript(lib) {\n",
       "      return new Promise(function(resolve, reject) {\n",
       "        var s = document.createElement('script');\n",
       "        s.src = paths[lib];\n",
       "        s.async = true;\n",
       "        s.onload = () => resolve(paths[lib]);\n",
       "        s.onerror = () => reject(`Error loading script: ${paths[lib]}`);\n",
       "        document.getElementsByTagName(\"head\")[0].appendChild(s);\n",
       "      });\n",
       "    }\n",
       "\n",
       "    function showError(err) {\n",
       "      outputDiv.innerHTML = `<div class=\"error\" style=\"color:red;\">${err}</div>`;\n",
       "      throw err;\n",
       "    }\n",
       "\n",
       "    function displayChart(vegaEmbed) {\n",
       "      vegaEmbed(outputDiv, spec, embedOpt)\n",
       "        .catch(err => showError(`Javascript Error: ${err.message}<br>This usually means there's a typo in your chart specification. See the javascript console for the full traceback.`));\n",
       "    }\n",
       "\n",
       "    if(typeof define === \"function\" && define.amd) {\n",
       "      requirejs.config({paths});\n",
       "      require([\"vega-embed\"], displayChart, err => showError(`Error loading script: ${err.message}`));\n",
       "    } else if (typeof vegaEmbed === \"function\") {\n",
       "      displayChart(vegaEmbed);\n",
       "    } else {\n",
       "      loadScript(\"vega\")\n",
       "        .then(() => loadScript(\"vega-lite\"))\n",
       "        .then(() => loadScript(\"vega-embed\"))\n",
       "        .catch(showError)\n",
       "        .then(() => displayChart(vegaEmbed));\n",
       "    }\n",
       "  })({\"config\": {\"view\": {\"continuousWidth\": 400, \"continuousHeight\": 300}}, \"data\": {\"name\": \"data-fd793805d609ef8a05146139289e0974\"}, \"mark\": \"bar\", \"encoding\": {\"color\": {\"type\": \"nominal\", \"field\": \"GRADE\"}, \"column\": {\"type\": \"nominal\", \"field\": \"BORO\"}, \"x\": {\"type\": \"nominal\", \"field\": \"GRADE\"}, \"y\": {\"type\": \"quantitative\", \"field\": \"count\"}}, \"$schema\": \"https://vega.github.io/schema/vega-lite/v4.0.2.json\", \"datasets\": {\"data-fd793805d609ef8a05146139289e0974\": [{\"GRADE\": \"A\", \"BORO\": \"Bronx\", \"count\": 14170}, {\"GRADE\": \"A\", \"BORO\": \"Brooklyn\", \"count\": 39952}, {\"GRADE\": \"A\", \"BORO\": \"Manhattan\", \"count\": 63029}, {\"GRADE\": \"A\", \"BORO\": \"Queens\", \"count\": 36782}, {\"GRADE\": \"A\", \"BORO\": \"Staten Island\", \"count\": 5548}, {\"GRADE\": \"B\", \"BORO\": \"Bronx\", \"count\": 2739}, {\"GRADE\": \"B\", \"BORO\": \"Brooklyn\", \"count\": 6597}, {\"GRADE\": \"B\", \"BORO\": \"Manhattan\", \"count\": 9372}, {\"GRADE\": \"B\", \"BORO\": \"Queens\", \"count\": 5592}, {\"GRADE\": \"B\", \"BORO\": \"Staten Island\", \"count\": 882}, {\"GRADE\": \"C\", \"BORO\": \"Bronx\", \"count\": 1031}, {\"GRADE\": \"C\", \"BORO\": \"Brooklyn\", \"count\": 2267}, {\"GRADE\": \"C\", \"BORO\": \"Manhattan\", \"count\": 3728}, {\"GRADE\": \"C\", \"BORO\": \"Queens\", \"count\": 2071}, {\"GRADE\": \"C\", \"BORO\": \"Staten Island\", \"count\": 251}, {\"GRADE\": \"G\", \"BORO\": \"Brooklyn\", \"count\": 3}, {\"GRADE\": \"G\", \"BORO\": \"Manhattan\", \"count\": 3}, {\"GRADE\": \"N\", \"BORO\": \"Bronx\", \"count\": 137}, {\"GRADE\": \"N\", \"BORO\": \"Brooklyn\", \"count\": 614}, {\"GRADE\": \"N\", \"BORO\": \"Manhattan\", \"count\": 1078}, {\"GRADE\": \"N\", \"BORO\": \"Queens\", \"count\": 648}, {\"GRADE\": \"N\", \"BORO\": \"Staten Island\", \"count\": 78}, {\"GRADE\": \"P\", \"BORO\": \"Bronx\", \"count\": 232}, {\"GRADE\": \"P\", \"BORO\": \"Brooklyn\", \"count\": 792}, {\"GRADE\": \"P\", \"BORO\": \"Manhattan\", \"count\": 951}, {\"GRADE\": \"P\", \"BORO\": \"Queens\", \"count\": 614}, {\"GRADE\": \"P\", \"BORO\": \"Staten Island\", \"count\": 62}, {\"GRADE\": \"Z\", \"BORO\": \"Bronx\", \"count\": 376}, {\"GRADE\": \"Z\", \"BORO\": \"Brooklyn\", \"count\": 830}, {\"GRADE\": \"Z\", \"BORO\": \"Manhattan\", \"count\": 1079}, {\"GRADE\": \"Z\", \"BORO\": \"Queens\", \"count\": 892}, {\"GRADE\": \"Z\", \"BORO\": \"Staten Island\", \"count\": 42}]}}, {\"mode\": \"vega-lite\"});\n",
       "</script>"
      ],
      "text/plain": [
       "alt.Chart(...)"
      ]
     },
     "execution_count": 202,
     "metadata": {},
     "output_type": "execute_result"
    }
   ],
   "source": [
    "dfboro= df[df['BORO']!='0'].groupby(['GRADE','BORO']).size()\n",
    "dfboro = dfboro.reset_index(name='count')\n",
    "alt.Chart(dfboro).mark_bar().encode(\n",
    "   x='GRADE:N',\n",
    "   y='count:Q',\n",
    "    color='GRADE:N',\n",
    "    column='BORO:N'\n",
    ")"
   ]
  },
  {
   "cell_type": "markdown",
   "metadata": {},
   "source": [
    "## Question 3: What are the score distributions among each cuisine?   "
   ]
  },
  {
   "cell_type": "code",
   "execution_count": 218,
   "metadata": {},
   "outputs": [
    {
     "data": {
      "text/html": [
       "\n",
       "<div id=\"altair-viz-0a7789237fa045bb98c0f55f7fd0cf7b\"></div>\n",
       "<script type=\"text/javascript\">\n",
       "  (function(spec, embedOpt){\n",
       "    const outputDiv = document.getElementById(\"altair-viz-0a7789237fa045bb98c0f55f7fd0cf7b\");\n",
       "    const paths = {\n",
       "      \"vega\": \"https://cdn.jsdelivr.net/npm//vega@5?noext\",\n",
       "      \"vega-lib\": \"https://cdn.jsdelivr.net/npm//vega-lib?noext\",\n",
       "      \"vega-lite\": \"https://cdn.jsdelivr.net/npm//vega-lite@4.0.2?noext\",\n",
       "      \"vega-embed\": \"https://cdn.jsdelivr.net/npm//vega-embed@6?noext\",\n",
       "    };\n",
       "\n",
       "    function loadScript(lib) {\n",
       "      return new Promise(function(resolve, reject) {\n",
       "        var s = document.createElement('script');\n",
       "        s.src = paths[lib];\n",
       "        s.async = true;\n",
       "        s.onload = () => resolve(paths[lib]);\n",
       "        s.onerror = () => reject(`Error loading script: ${paths[lib]}`);\n",
       "        document.getElementsByTagName(\"head\")[0].appendChild(s);\n",
       "      });\n",
       "    }\n",
       "\n",
       "    function showError(err) {\n",
       "      outputDiv.innerHTML = `<div class=\"error\" style=\"color:red;\">${err}</div>`;\n",
       "      throw err;\n",
       "    }\n",
       "\n",
       "    function displayChart(vegaEmbed) {\n",
       "      vegaEmbed(outputDiv, spec, embedOpt)\n",
       "        .catch(err => showError(`Javascript Error: ${err.message}<br>This usually means there's a typo in your chart specification. See the javascript console for the full traceback.`));\n",
       "    }\n",
       "\n",
       "    if(typeof define === \"function\" && define.amd) {\n",
       "      requirejs.config({paths});\n",
       "      require([\"vega-embed\"], displayChart, err => showError(`Error loading script: ${err.message}`));\n",
       "    } else if (typeof vegaEmbed === \"function\") {\n",
       "      displayChart(vegaEmbed);\n",
       "    } else {\n",
       "      loadScript(\"vega\")\n",
       "        .then(() => loadScript(\"vega-lite\"))\n",
       "        .then(() => loadScript(\"vega-embed\"))\n",
       "        .catch(showError)\n",
       "        .then(() => displayChart(vegaEmbed));\n",
       "    }\n",
       "  })({\"config\": {\"view\": {\"continuousWidth\": 400, \"continuousHeight\": 300}}, \"data\": {\"name\": \"data-66bf60ba4cc342040108c2ad45d719ef\"}, \"mark\": \"bar\", \"encoding\": {\"color\": {\"type\": \"nominal\", \"field\": \"GRADE\"}, \"column\": {\"type\": \"nominal\", \"field\": \"CUISINE DESCRIPTION\"}, \"x\": {\"type\": \"nominal\", \"field\": \"GRADE\"}, \"y\": {\"type\": \"quantitative\", \"field\": \"count\"}}, \"$schema\": \"https://vega.github.io/schema/vega-lite/v4.0.2.json\", \"datasets\": {\"data-66bf60ba4cc342040108c2ad45d719ef\": [{\"CUISINE DESCRIPTION\": \"Afghan\", \"GRADE\": \"A\", \"count\": 93}, {\"CUISINE DESCRIPTION\": \"Afghan\", \"GRADE\": \"B\", \"count\": 13}, {\"CUISINE DESCRIPTION\": \"Afghan\", \"GRADE\": \"C\", \"count\": 4}, {\"CUISINE DESCRIPTION\": \"Afghan\", \"GRADE\": \"P\", \"count\": 3}, {\"CUISINE DESCRIPTION\": \"Afghan\", \"GRADE\": \"Z\", \"count\": 2}, {\"CUISINE DESCRIPTION\": \"African\", \"GRADE\": \"A\", \"count\": 392}, {\"CUISINE DESCRIPTION\": \"African\", \"GRADE\": \"B\", \"count\": 161}, {\"CUISINE DESCRIPTION\": \"African\", \"GRADE\": \"C\", \"count\": 117}, {\"CUISINE DESCRIPTION\": \"African\", \"GRADE\": \"N\", \"count\": 22}, {\"CUISINE DESCRIPTION\": \"African\", \"GRADE\": \"P\", \"count\": 29}, {\"CUISINE DESCRIPTION\": \"African\", \"GRADE\": \"Z\", \"count\": 38}, {\"CUISINE DESCRIPTION\": \"American\", \"GRADE\": \"A\", \"count\": 37114}, {\"CUISINE DESCRIPTION\": \"American\", \"GRADE\": \"B\", \"count\": 4290}, {\"CUISINE DESCRIPTION\": \"American\", \"GRADE\": \"C\", \"count\": 1401}, {\"CUISINE DESCRIPTION\": \"American\", \"GRADE\": \"G\", \"count\": 3}, {\"CUISINE DESCRIPTION\": \"American\", \"GRADE\": \"N\", \"count\": 556}, {\"CUISINE DESCRIPTION\": \"American\", \"GRADE\": \"P\", \"count\": 380}, {\"CUISINE DESCRIPTION\": \"American\", \"GRADE\": \"Z\", \"count\": 576}, {\"CUISINE DESCRIPTION\": \"Armenian\", \"GRADE\": \"A\", \"count\": 143}, {\"CUISINE DESCRIPTION\": \"Armenian\", \"GRADE\": \"B\", \"count\": 17}, {\"CUISINE DESCRIPTION\": \"Armenian\", \"GRADE\": \"C\", \"count\": 4}, {\"CUISINE DESCRIPTION\": \"Armenian\", \"GRADE\": \"N\", \"count\": 5}, {\"CUISINE DESCRIPTION\": \"Armenian\", \"GRADE\": \"P\", \"count\": 1}, {\"CUISINE DESCRIPTION\": \"Armenian\", \"GRADE\": \"Z\", \"count\": 8}, {\"CUISINE DESCRIPTION\": \"Asian\", \"GRADE\": \"A\", \"count\": 2226}, {\"CUISINE DESCRIPTION\": \"Asian\", \"GRADE\": \"B\", \"count\": 459}, {\"CUISINE DESCRIPTION\": \"Asian\", \"GRADE\": \"C\", \"count\": 214}, {\"CUISINE DESCRIPTION\": \"Asian\", \"GRADE\": \"N\", \"count\": 56}, {\"CUISINE DESCRIPTION\": \"Asian\", \"GRADE\": \"P\", \"count\": 28}, {\"CUISINE DESCRIPTION\": \"Asian\", \"GRADE\": \"Z\", \"count\": 62}, {\"CUISINE DESCRIPTION\": \"Australian\", \"GRADE\": \"A\", \"count\": 145}, {\"CUISINE DESCRIPTION\": \"Australian\", \"GRADE\": \"B\", \"count\": 21}, {\"CUISINE DESCRIPTION\": \"Australian\", \"GRADE\": \"C\", \"count\": 3}, {\"CUISINE DESCRIPTION\": \"Australian\", \"GRADE\": \"N\", \"count\": 6}, {\"CUISINE DESCRIPTION\": \"Australian\", \"GRADE\": \"P\", \"count\": 3}, {\"CUISINE DESCRIPTION\": \"Australian\", \"GRADE\": \"Z\", \"count\": 6}, {\"CUISINE DESCRIPTION\": \"Bagels/Pretzels\", \"GRADE\": \"A\", \"count\": 1139}, {\"CUISINE DESCRIPTION\": \"Bagels/Pretzels\", \"GRADE\": \"B\", \"count\": 145}, {\"CUISINE DESCRIPTION\": \"Bagels/Pretzels\", \"GRADE\": \"C\", \"count\": 47}, {\"CUISINE DESCRIPTION\": \"Bagels/Pretzels\", \"GRADE\": \"P\", \"count\": 20}, {\"CUISINE DESCRIPTION\": \"Bagels/Pretzels\", \"GRADE\": \"Z\", \"count\": 18}, {\"CUISINE DESCRIPTION\": \"Bakery\", \"GRADE\": \"A\", \"count\": 5144}, {\"CUISINE DESCRIPTION\": \"Bakery\", \"GRADE\": \"B\", \"count\": 871}, {\"CUISINE DESCRIPTION\": \"Bakery\", \"GRADE\": \"C\", \"count\": 268}, {\"CUISINE DESCRIPTION\": \"Bakery\", \"GRADE\": \"N\", \"count\": 34}, {\"CUISINE DESCRIPTION\": \"Bakery\", \"GRADE\": \"P\", \"count\": 106}, {\"CUISINE DESCRIPTION\": \"Bakery\", \"GRADE\": \"Z\", \"count\": 106}, {\"CUISINE DESCRIPTION\": \"Bangladeshi\", \"GRADE\": \"A\", \"count\": 247}, {\"CUISINE DESCRIPTION\": \"Bangladeshi\", \"GRADE\": \"B\", \"count\": 128}, {\"CUISINE DESCRIPTION\": \"Bangladeshi\", \"GRADE\": \"C\", \"count\": 65}, {\"CUISINE DESCRIPTION\": \"Bangladeshi\", \"GRADE\": \"N\", \"count\": 8}, {\"CUISINE DESCRIPTION\": \"Bangladeshi\", \"GRADE\": \"P\", \"count\": 26}, {\"CUISINE DESCRIPTION\": \"Bangladeshi\", \"GRADE\": \"Z\", \"count\": 21}, {\"CUISINE DESCRIPTION\": \"Barbecue\", \"GRADE\": \"A\", \"count\": 331}, {\"CUISINE DESCRIPTION\": \"Barbecue\", \"GRADE\": \"B\", \"count\": 42}, {\"CUISINE DESCRIPTION\": \"Barbecue\", \"GRADE\": \"C\", \"count\": 29}, {\"CUISINE DESCRIPTION\": \"Barbecue\", \"GRADE\": \"N\", \"count\": 1}, {\"CUISINE DESCRIPTION\": \"Barbecue\", \"GRADE\": \"P\", \"count\": 4}, {\"CUISINE DESCRIPTION\": \"Barbecue\", \"GRADE\": \"Z\", \"count\": 6}, {\"CUISINE DESCRIPTION\": \"Basque\", \"GRADE\": \"A\", \"count\": 4}, {\"CUISINE DESCRIPTION\": \"Bottled beverages, including water, sodas, juices, etc.\", \"GRADE\": \"A\", \"count\": 569}, {\"CUISINE DESCRIPTION\": \"Bottled beverages, including water, sodas, juices, etc.\", \"GRADE\": \"B\", \"count\": 80}, {\"CUISINE DESCRIPTION\": \"Bottled beverages, including water, sodas, juices, etc.\", \"GRADE\": \"C\", \"count\": 14}, {\"CUISINE DESCRIPTION\": \"Bottled beverages, including water, sodas, juices, etc.\", \"GRADE\": \"N\", \"count\": 20}, {\"CUISINE DESCRIPTION\": \"Bottled beverages, including water, sodas, juices, etc.\", \"GRADE\": \"P\", \"count\": 4}, {\"CUISINE DESCRIPTION\": \"Bottled beverages, including water, sodas, juices, etc.\", \"GRADE\": \"Z\", \"count\": 2}, {\"CUISINE DESCRIPTION\": \"Brazilian\", \"GRADE\": \"A\", \"count\": 199}, {\"CUISINE DESCRIPTION\": \"Brazilian\", \"GRADE\": \"B\", \"count\": 24}, {\"CUISINE DESCRIPTION\": \"Brazilian\", \"GRADE\": \"C\", \"count\": 1}, {\"CUISINE DESCRIPTION\": \"Brazilian\", \"GRADE\": \"N\", \"count\": 2}, {\"CUISINE DESCRIPTION\": \"Brazilian\", \"GRADE\": \"P\", \"count\": 9}, {\"CUISINE DESCRIPTION\": \"Brazilian\", \"GRADE\": \"Z\", \"count\": 4}, {\"CUISINE DESCRIPTION\": \"Caf\\u00e9/Coffee/Tea\", \"GRADE\": \"A\", \"count\": 9934}, {\"CUISINE DESCRIPTION\": \"Caf\\u00e9/Coffee/Tea\", \"GRADE\": \"B\", \"count\": 749}, {\"CUISINE DESCRIPTION\": \"Caf\\u00e9/Coffee/Tea\", \"GRADE\": \"C\", \"count\": 246}, {\"CUISINE DESCRIPTION\": \"Caf\\u00e9/Coffee/Tea\", \"GRADE\": \"G\", \"count\": 2}, {\"CUISINE DESCRIPTION\": \"Caf\\u00e9/Coffee/Tea\", \"GRADE\": \"N\", \"count\": 214}, {\"CUISINE DESCRIPTION\": \"Caf\\u00e9/Coffee/Tea\", \"GRADE\": \"P\", \"count\": 106}, {\"CUISINE DESCRIPTION\": \"Caf\\u00e9/Coffee/Tea\", \"GRADE\": \"Z\", \"count\": 69}, {\"CUISINE DESCRIPTION\": \"Cajun\", \"GRADE\": \"A\", \"count\": 43}, {\"CUISINE DESCRIPTION\": \"Cajun\", \"GRADE\": \"B\", \"count\": 3}, {\"CUISINE DESCRIPTION\": \"Cajun\", \"GRADE\": \"N\", \"count\": 5}, {\"CUISINE DESCRIPTION\": \"Cajun\", \"GRADE\": \"P\", \"count\": 1}, {\"CUISINE DESCRIPTION\": \"Californian\", \"GRADE\": \"A\", \"count\": 34}, {\"CUISINE DESCRIPTION\": \"Californian\", \"GRADE\": \"B\", \"count\": 8}, {\"CUISINE DESCRIPTION\": \"Caribbean\", \"GRADE\": \"A\", \"count\": 4375}, {\"CUISINE DESCRIPTION\": \"Caribbean\", \"GRADE\": \"B\", \"count\": 1164}, {\"CUISINE DESCRIPTION\": \"Caribbean\", \"GRADE\": \"C\", \"count\": 582}, {\"CUISINE DESCRIPTION\": \"Caribbean\", \"GRADE\": \"N\", \"count\": 44}, {\"CUISINE DESCRIPTION\": \"Caribbean\", \"GRADE\": \"P\", \"count\": 124}, {\"CUISINE DESCRIPTION\": \"Caribbean\", \"GRADE\": \"Z\", \"count\": 191}, {\"CUISINE DESCRIPTION\": \"Chicken\", \"GRADE\": \"A\", \"count\": 3121}, {\"CUISINE DESCRIPTION\": \"Chicken\", \"GRADE\": \"B\", \"count\": 430}, {\"CUISINE DESCRIPTION\": \"Chicken\", \"GRADE\": \"C\", \"count\": 187}, {\"CUISINE DESCRIPTION\": \"Chicken\", \"GRADE\": \"N\", \"count\": 68}, {\"CUISINE DESCRIPTION\": \"Chicken\", \"GRADE\": \"P\", \"count\": 58}, {\"CUISINE DESCRIPTION\": \"Chicken\", \"GRADE\": \"Z\", \"count\": 55}, {\"CUISINE DESCRIPTION\": \"Chilean\", \"GRADE\": \"A\", \"count\": 12}, {\"CUISINE DESCRIPTION\": \"Chilean\", \"GRADE\": \"P\", \"count\": 1}, {\"CUISINE DESCRIPTION\": \"Chilean\", \"GRADE\": \"Z\", \"count\": 6}, {\"CUISINE DESCRIPTION\": \"Chinese\", \"GRADE\": \"A\", \"count\": 15051}, {\"CUISINE DESCRIPTION\": \"Chinese\", \"GRADE\": \"B\", \"count\": 3290}, {\"CUISINE DESCRIPTION\": \"Chinese\", \"GRADE\": \"C\", \"count\": 1141}, {\"CUISINE DESCRIPTION\": \"Chinese\", \"GRADE\": \"N\", \"count\": 244}, {\"CUISINE DESCRIPTION\": \"Chinese\", \"GRADE\": \"P\", \"count\": 442}, {\"CUISINE DESCRIPTION\": \"Chinese\", \"GRADE\": \"Z\", \"count\": 372}, {\"CUISINE DESCRIPTION\": \"Chinese/Cuban\", \"GRADE\": \"A\", \"count\": 106}, {\"CUISINE DESCRIPTION\": \"Chinese/Cuban\", \"GRADE\": \"B\", \"count\": 58}, {\"CUISINE DESCRIPTION\": \"Chinese/Cuban\", \"GRADE\": \"C\", \"count\": 16}, {\"CUISINE DESCRIPTION\": \"Chinese/Cuban\", \"GRADE\": \"P\", \"count\": 4}, {\"CUISINE DESCRIPTION\": \"Chinese/Cuban\", \"GRADE\": \"Z\", \"count\": 3}, {\"CUISINE DESCRIPTION\": \"Chinese/Japanese\", \"GRADE\": \"A\", \"count\": 290}, {\"CUISINE DESCRIPTION\": \"Chinese/Japanese\", \"GRADE\": \"B\", \"count\": 94}, {\"CUISINE DESCRIPTION\": \"Chinese/Japanese\", \"GRADE\": \"C\", \"count\": 14}, {\"CUISINE DESCRIPTION\": \"Chinese/Japanese\", \"GRADE\": \"P\", \"count\": 9}, {\"CUISINE DESCRIPTION\": \"Chinese/Japanese\", \"GRADE\": \"Z\", \"count\": 11}, {\"CUISINE DESCRIPTION\": \"Continental\", \"GRADE\": \"A\", \"count\": 292}, {\"CUISINE DESCRIPTION\": \"Continental\", \"GRADE\": \"B\", \"count\": 32}, {\"CUISINE DESCRIPTION\": \"Continental\", \"GRADE\": \"N\", \"count\": 5}, {\"CUISINE DESCRIPTION\": \"Continental\", \"GRADE\": \"P\", \"count\": 1}, {\"CUISINE DESCRIPTION\": \"Continental\", \"GRADE\": \"Z\", \"count\": 1}, {\"CUISINE DESCRIPTION\": \"Creole\", \"GRADE\": \"A\", \"count\": 131}, {\"CUISINE DESCRIPTION\": \"Creole\", \"GRADE\": \"B\", \"count\": 38}, {\"CUISINE DESCRIPTION\": \"Creole\", \"GRADE\": \"C\", \"count\": 33}, {\"CUISINE DESCRIPTION\": \"Creole\", \"GRADE\": \"P\", \"count\": 6}, {\"CUISINE DESCRIPTION\": \"Creole\", \"GRADE\": \"Z\", \"count\": 11}, {\"CUISINE DESCRIPTION\": \"Creole/Cajun\", \"GRADE\": \"A\", \"count\": 29}, {\"CUISINE DESCRIPTION\": \"Creole/Cajun\", \"GRADE\": \"B\", \"count\": 17}, {\"CUISINE DESCRIPTION\": \"Creole/Cajun\", \"GRADE\": \"C\", \"count\": 13}, {\"CUISINE DESCRIPTION\": \"Creole/Cajun\", \"GRADE\": \"P\", \"count\": 1}, {\"CUISINE DESCRIPTION\": \"Creole/Cajun\", \"GRADE\": \"Z\", \"count\": 3}, {\"CUISINE DESCRIPTION\": \"Czech\", \"GRADE\": \"A\", \"count\": 26}, {\"CUISINE DESCRIPTION\": \"Delicatessen\", \"GRADE\": \"A\", \"count\": 2107}, {\"CUISINE DESCRIPTION\": \"Delicatessen\", \"GRADE\": \"B\", \"count\": 547}, {\"CUISINE DESCRIPTION\": \"Delicatessen\", \"GRADE\": \"C\", \"count\": 249}, {\"CUISINE DESCRIPTION\": \"Delicatessen\", \"GRADE\": \"N\", \"count\": 31}, {\"CUISINE DESCRIPTION\": \"Delicatessen\", \"GRADE\": \"P\", \"count\": 54}, {\"CUISINE DESCRIPTION\": \"Delicatessen\", \"GRADE\": \"Z\", \"count\": 66}, {\"CUISINE DESCRIPTION\": \"Donuts\", \"GRADE\": \"A\", \"count\": 3359}, {\"CUISINE DESCRIPTION\": \"Donuts\", \"GRADE\": \"B\", \"count\": 114}, {\"CUISINE DESCRIPTION\": \"Donuts\", \"GRADE\": \"C\", \"count\": 24}, {\"CUISINE DESCRIPTION\": \"Donuts\", \"GRADE\": \"N\", \"count\": 1}, {\"CUISINE DESCRIPTION\": \"Donuts\", \"GRADE\": \"P\", \"count\": 17}, {\"CUISINE DESCRIPTION\": \"Donuts\", \"GRADE\": \"Z\", \"count\": 13}, {\"CUISINE DESCRIPTION\": \"Eastern European\", \"GRADE\": \"A\", \"count\": 487}, {\"CUISINE DESCRIPTION\": \"Eastern European\", \"GRADE\": \"B\", \"count\": 96}, {\"CUISINE DESCRIPTION\": \"Eastern European\", \"GRADE\": \"C\", \"count\": 30}, {\"CUISINE DESCRIPTION\": \"Eastern European\", \"GRADE\": \"P\", \"count\": 9}, {\"CUISINE DESCRIPTION\": \"Eastern European\", \"GRADE\": \"Z\", \"count\": 7}, {\"CUISINE DESCRIPTION\": \"Egyptian\", \"GRADE\": \"A\", \"count\": 63}, {\"CUISINE DESCRIPTION\": \"Egyptian\", \"GRADE\": \"B\", \"count\": 10}, {\"CUISINE DESCRIPTION\": \"Egyptian\", \"GRADE\": \"C\", \"count\": 16}, {\"CUISINE DESCRIPTION\": \"Egyptian\", \"GRADE\": \"P\", \"count\": 1}, {\"CUISINE DESCRIPTION\": \"Egyptian\", \"GRADE\": \"Z\", \"count\": 6}, {\"CUISINE DESCRIPTION\": \"English\", \"GRADE\": \"A\", \"count\": 107}, {\"CUISINE DESCRIPTION\": \"English\", \"GRADE\": \"B\", \"count\": 11}, {\"CUISINE DESCRIPTION\": \"English\", \"GRADE\": \"C\", \"count\": 4}, {\"CUISINE DESCRIPTION\": \"Ethiopian\", \"GRADE\": \"A\", \"count\": 92}, {\"CUISINE DESCRIPTION\": \"Ethiopian\", \"GRADE\": \"B\", \"count\": 19}, {\"CUISINE DESCRIPTION\": \"Ethiopian\", \"GRADE\": \"Z\", \"count\": 2}, {\"CUISINE DESCRIPTION\": \"Filipino\", \"GRADE\": \"A\", \"count\": 199}, {\"CUISINE DESCRIPTION\": \"Filipino\", \"GRADE\": \"B\", \"count\": 50}, {\"CUISINE DESCRIPTION\": \"Filipino\", \"GRADE\": \"C\", \"count\": 12}, {\"CUISINE DESCRIPTION\": \"Filipino\", \"GRADE\": \"N\", \"count\": 4}, {\"CUISINE DESCRIPTION\": \"Filipino\", \"GRADE\": \"P\", \"count\": 7}, {\"CUISINE DESCRIPTION\": \"Filipino\", \"GRADE\": \"Z\", \"count\": 6}, {\"CUISINE DESCRIPTION\": \"French\", \"GRADE\": \"A\", \"count\": 2024}, {\"CUISINE DESCRIPTION\": \"French\", \"GRADE\": \"B\", \"count\": 244}, {\"CUISINE DESCRIPTION\": \"French\", \"GRADE\": \"C\", \"count\": 57}, {\"CUISINE DESCRIPTION\": \"French\", \"GRADE\": \"N\", \"count\": 16}, {\"CUISINE DESCRIPTION\": \"French\", \"GRADE\": \"P\", \"count\": 21}, {\"CUISINE DESCRIPTION\": \"French\", \"GRADE\": \"Z\", \"count\": 36}, {\"CUISINE DESCRIPTION\": \"Fruits/Vegetables\", \"GRADE\": \"A\", \"count\": 37}, {\"CUISINE DESCRIPTION\": \"Fruits/Vegetables\", \"GRADE\": \"B\", \"count\": 3}, {\"CUISINE DESCRIPTION\": \"German\", \"GRADE\": \"A\", \"count\": 192}, {\"CUISINE DESCRIPTION\": \"German\", \"GRADE\": \"B\", \"count\": 20}, {\"CUISINE DESCRIPTION\": \"German\", \"GRADE\": \"C\", \"count\": 7}, {\"CUISINE DESCRIPTION\": \"German\", \"GRADE\": \"P\", \"count\": 6}, {\"CUISINE DESCRIPTION\": \"Greek\", \"GRADE\": \"A\", \"count\": 966}, {\"CUISINE DESCRIPTION\": \"Greek\", \"GRADE\": \"B\", \"count\": 105}, {\"CUISINE DESCRIPTION\": \"Greek\", \"GRADE\": \"C\", \"count\": 35}, {\"CUISINE DESCRIPTION\": \"Greek\", \"GRADE\": \"N\", \"count\": 15}, {\"CUISINE DESCRIPTION\": \"Greek\", \"GRADE\": \"P\", \"count\": 5}, {\"CUISINE DESCRIPTION\": \"Greek\", \"GRADE\": \"Z\", \"count\": 27}, {\"CUISINE DESCRIPTION\": \"Hamburgers\", \"GRADE\": \"A\", \"count\": 2486}, {\"CUISINE DESCRIPTION\": \"Hamburgers\", \"GRADE\": \"B\", \"count\": 160}, {\"CUISINE DESCRIPTION\": \"Hamburgers\", \"GRADE\": \"C\", \"count\": 60}, {\"CUISINE DESCRIPTION\": \"Hamburgers\", \"GRADE\": \"N\", \"count\": 8}, {\"CUISINE DESCRIPTION\": \"Hamburgers\", \"GRADE\": \"P\", \"count\": 21}, {\"CUISINE DESCRIPTION\": \"Hamburgers\", \"GRADE\": \"Z\", \"count\": 7}, {\"CUISINE DESCRIPTION\": \"Hawaiian\", \"GRADE\": \"A\", \"count\": 238}, {\"CUISINE DESCRIPTION\": \"Hawaiian\", \"GRADE\": \"B\", \"count\": 29}, {\"CUISINE DESCRIPTION\": \"Hawaiian\", \"GRADE\": \"C\", \"count\": 14}, {\"CUISINE DESCRIPTION\": \"Hawaiian\", \"GRADE\": \"N\", \"count\": 12}, {\"CUISINE DESCRIPTION\": \"Hawaiian\", \"GRADE\": \"P\", \"count\": 6}, {\"CUISINE DESCRIPTION\": \"Hawaiian\", \"GRADE\": \"Z\", \"count\": 4}, {\"CUISINE DESCRIPTION\": \"Hotdogs\", \"GRADE\": \"A\", \"count\": 133}, {\"CUISINE DESCRIPTION\": \"Hotdogs\", \"GRADE\": \"N\", \"count\": 4}, {\"CUISINE DESCRIPTION\": \"Hotdogs\", \"GRADE\": \"P\", \"count\": 1}, {\"CUISINE DESCRIPTION\": \"Hotdogs/Pretzels\", \"GRADE\": \"A\", \"count\": 131}, {\"CUISINE DESCRIPTION\": \"Hotdogs/Pretzels\", \"GRADE\": \"B\", \"count\": 18}, {\"CUISINE DESCRIPTION\": \"Hotdogs/Pretzels\", \"GRADE\": \"C\", \"count\": 9}, {\"CUISINE DESCRIPTION\": \"Hotdogs/Pretzels\", \"GRADE\": \"P\", \"count\": 1}, {\"CUISINE DESCRIPTION\": \"Hotdogs/Pretzels\", \"GRADE\": \"Z\", \"count\": 5}, {\"CUISINE DESCRIPTION\": \"Ice Cream, Gelato, Yogurt, Ices\", \"GRADE\": \"A\", \"count\": 1708}, {\"CUISINE DESCRIPTION\": \"Ice Cream, Gelato, Yogurt, Ices\", \"GRADE\": \"B\", \"count\": 122}, {\"CUISINE DESCRIPTION\": \"Ice Cream, Gelato, Yogurt, Ices\", \"GRADE\": \"C\", \"count\": 26}, {\"CUISINE DESCRIPTION\": \"Ice Cream, Gelato, Yogurt, Ices\", \"GRADE\": \"N\", \"count\": 34}, {\"CUISINE DESCRIPTION\": \"Ice Cream, Gelato, Yogurt, Ices\", \"GRADE\": \"P\", \"count\": 9}, {\"CUISINE DESCRIPTION\": \"Ice Cream, Gelato, Yogurt, Ices\", \"GRADE\": \"Z\", \"count\": 22}, {\"CUISINE DESCRIPTION\": \"Indian\", \"GRADE\": \"A\", \"count\": 2005}, {\"CUISINE DESCRIPTION\": \"Indian\", \"GRADE\": \"B\", \"count\": 524}, {\"CUISINE DESCRIPTION\": \"Indian\", \"GRADE\": \"C\", \"count\": 298}, {\"CUISINE DESCRIPTION\": \"Indian\", \"GRADE\": \"N\", \"count\": 55}, {\"CUISINE DESCRIPTION\": \"Indian\", \"GRADE\": \"P\", \"count\": 75}, {\"CUISINE DESCRIPTION\": \"Indian\", \"GRADE\": \"Z\", \"count\": 107}, {\"CUISINE DESCRIPTION\": \"Indonesian\", \"GRADE\": \"A\", \"count\": 54}, {\"CUISINE DESCRIPTION\": \"Indonesian\", \"GRADE\": \"B\", \"count\": 7}, {\"CUISINE DESCRIPTION\": \"Indonesian\", \"GRADE\": \"N\", \"count\": 4}, {\"CUISINE DESCRIPTION\": \"Iranian\", \"GRADE\": \"A\", \"count\": 24}, {\"CUISINE DESCRIPTION\": \"Iranian\", \"GRADE\": \"B\", \"count\": 3}, {\"CUISINE DESCRIPTION\": \"Iranian\", \"GRADE\": \"C\", \"count\": 4}, {\"CUISINE DESCRIPTION\": \"Iranian\", \"GRADE\": \"Z\", \"count\": 5}, {\"CUISINE DESCRIPTION\": \"Irish\", \"GRADE\": \"A\", \"count\": 1521}, {\"CUISINE DESCRIPTION\": \"Irish\", \"GRADE\": \"B\", \"count\": 180}, {\"CUISINE DESCRIPTION\": \"Irish\", \"GRADE\": \"C\", \"count\": 78}, {\"CUISINE DESCRIPTION\": \"Irish\", \"GRADE\": \"P\", \"count\": 5}, {\"CUISINE DESCRIPTION\": \"Irish\", \"GRADE\": \"Z\", \"count\": 15}, {\"CUISINE DESCRIPTION\": \"Italian\", \"GRADE\": \"A\", \"count\": 6595}, {\"CUISINE DESCRIPTION\": \"Italian\", \"GRADE\": \"B\", \"count\": 943}, {\"CUISINE DESCRIPTION\": \"Italian\", \"GRADE\": \"C\", \"count\": 344}, {\"CUISINE DESCRIPTION\": \"Italian\", \"GRADE\": \"N\", \"count\": 76}, {\"CUISINE DESCRIPTION\": \"Italian\", \"GRADE\": \"P\", \"count\": 81}, {\"CUISINE DESCRIPTION\": \"Italian\", \"GRADE\": \"Z\", \"count\": 61}, {\"CUISINE DESCRIPTION\": \"Japanese\", \"GRADE\": \"A\", \"count\": 5361}, {\"CUISINE DESCRIPTION\": \"Japanese\", \"GRADE\": \"B\", \"count\": 1040}, {\"CUISINE DESCRIPTION\": \"Japanese\", \"GRADE\": \"C\", \"count\": 318}, {\"CUISINE DESCRIPTION\": \"Japanese\", \"GRADE\": \"N\", \"count\": 118}, {\"CUISINE DESCRIPTION\": \"Japanese\", \"GRADE\": \"P\", \"count\": 94}, {\"CUISINE DESCRIPTION\": \"Japanese\", \"GRADE\": \"Z\", \"count\": 154}, {\"CUISINE DESCRIPTION\": \"Jewish/Kosher\", \"GRADE\": \"A\", \"count\": 2157}, {\"CUISINE DESCRIPTION\": \"Jewish/Kosher\", \"GRADE\": \"B\", \"count\": 361}, {\"CUISINE DESCRIPTION\": \"Jewish/Kosher\", \"GRADE\": \"C\", \"count\": 177}, {\"CUISINE DESCRIPTION\": \"Jewish/Kosher\", \"GRADE\": \"N\", \"count\": 30}, {\"CUISINE DESCRIPTION\": \"Jewish/Kosher\", \"GRADE\": \"P\", \"count\": 46}, {\"CUISINE DESCRIPTION\": \"Jewish/Kosher\", \"GRADE\": \"Z\", \"count\": 74}, {\"CUISINE DESCRIPTION\": \"Juice, Smoothies, Fruit Salads\", \"GRADE\": \"A\", \"count\": 2127}, {\"CUISINE DESCRIPTION\": \"Juice, Smoothies, Fruit Salads\", \"GRADE\": \"B\", \"count\": 202}, {\"CUISINE DESCRIPTION\": \"Juice, Smoothies, Fruit Salads\", \"GRADE\": \"C\", \"count\": 110}, {\"CUISINE DESCRIPTION\": \"Juice, Smoothies, Fruit Salads\", \"GRADE\": \"N\", \"count\": 62}, {\"CUISINE DESCRIPTION\": \"Juice, Smoothies, Fruit Salads\", \"GRADE\": \"P\", \"count\": 26}, {\"CUISINE DESCRIPTION\": \"Juice, Smoothies, Fruit Salads\", \"GRADE\": \"Z\", \"count\": 41}, {\"CUISINE DESCRIPTION\": \"Korean\", \"GRADE\": \"A\", \"count\": 1784}, {\"CUISINE DESCRIPTION\": \"Korean\", \"GRADE\": \"B\", \"count\": 468}, {\"CUISINE DESCRIPTION\": \"Korean\", \"GRADE\": \"C\", \"count\": 130}, {\"CUISINE DESCRIPTION\": \"Korean\", \"GRADE\": \"N\", \"count\": 61}, {\"CUISINE DESCRIPTION\": \"Korean\", \"GRADE\": \"P\", \"count\": 27}, {\"CUISINE DESCRIPTION\": \"Korean\", \"GRADE\": \"Z\", \"count\": 50}, {\"CUISINE DESCRIPTION\": \"Latin (Cuban, Dominican, Puerto Rican, South & Central American)\", \"GRADE\": \"A\", \"count\": 5614}, {\"CUISINE DESCRIPTION\": \"Latin (Cuban, Dominican, Puerto Rican, South & Central American)\", \"GRADE\": \"B\", \"count\": 1490}, {\"CUISINE DESCRIPTION\": \"Latin (Cuban, Dominican, Puerto Rican, South & Central American)\", \"GRADE\": \"C\", \"count\": 528}, {\"CUISINE DESCRIPTION\": \"Latin (Cuban, Dominican, Puerto Rican, South & Central American)\", \"GRADE\": \"N\", \"count\": 59}, {\"CUISINE DESCRIPTION\": \"Latin (Cuban, Dominican, Puerto Rican, South & Central American)\", \"GRADE\": \"P\", \"count\": 140}, {\"CUISINE DESCRIPTION\": \"Latin (Cuban, Dominican, Puerto Rican, South & Central American)\", \"GRADE\": \"Z\", \"count\": 185}, {\"CUISINE DESCRIPTION\": \"Mediterranean\", \"GRADE\": \"A\", \"count\": 1715}, {\"CUISINE DESCRIPTION\": \"Mediterranean\", \"GRADE\": \"B\", \"count\": 201}, {\"CUISINE DESCRIPTION\": \"Mediterranean\", \"GRADE\": \"C\", \"count\": 93}, {\"CUISINE DESCRIPTION\": \"Mediterranean\", \"GRADE\": \"N\", \"count\": 42}, {\"CUISINE DESCRIPTION\": \"Mediterranean\", \"GRADE\": \"P\", \"count\": 30}, {\"CUISINE DESCRIPTION\": \"Mediterranean\", \"GRADE\": \"Z\", \"count\": 24}, {\"CUISINE DESCRIPTION\": \"Mexican\", \"GRADE\": \"A\", \"count\": 6075}, {\"CUISINE DESCRIPTION\": \"Mexican\", \"GRADE\": \"B\", \"count\": 1209}, {\"CUISINE DESCRIPTION\": \"Mexican\", \"GRADE\": \"C\", \"count\": 448}, {\"CUISINE DESCRIPTION\": \"Mexican\", \"GRADE\": \"G\", \"count\": 1}, {\"CUISINE DESCRIPTION\": \"Mexican\", \"GRADE\": \"N\", \"count\": 156}, {\"CUISINE DESCRIPTION\": \"Mexican\", \"GRADE\": \"P\", \"count\": 92}, {\"CUISINE DESCRIPTION\": \"Mexican\", \"GRADE\": \"Z\", \"count\": 116}, {\"CUISINE DESCRIPTION\": \"Middle Eastern\", \"GRADE\": \"A\", \"count\": 1122}, {\"CUISINE DESCRIPTION\": \"Middle Eastern\", \"GRADE\": \"B\", \"count\": 188}, {\"CUISINE DESCRIPTION\": \"Middle Eastern\", \"GRADE\": \"C\", \"count\": 38}, {\"CUISINE DESCRIPTION\": \"Middle Eastern\", \"GRADE\": \"N\", \"count\": 23}, {\"CUISINE DESCRIPTION\": \"Middle Eastern\", \"GRADE\": \"P\", \"count\": 19}, {\"CUISINE DESCRIPTION\": \"Middle Eastern\", \"GRADE\": \"Z\", \"count\": 20}, {\"CUISINE DESCRIPTION\": \"Moroccan\", \"GRADE\": \"A\", \"count\": 48}, {\"CUISINE DESCRIPTION\": \"Moroccan\", \"GRADE\": \"B\", \"count\": 19}, {\"CUISINE DESCRIPTION\": \"Moroccan\", \"GRADE\": \"C\", \"count\": 10}, {\"CUISINE DESCRIPTION\": \"Moroccan\", \"GRADE\": \"Z\", \"count\": 10}, {\"CUISINE DESCRIPTION\": \"Not Listed/Not Applicable\", \"GRADE\": \"A\", \"count\": 41}, {\"CUISINE DESCRIPTION\": \"Not Listed/Not Applicable\", \"GRADE\": \"B\", \"count\": 4}, {\"CUISINE DESCRIPTION\": \"Not Listed/Not Applicable\", \"GRADE\": \"Z\", \"count\": 5}, {\"CUISINE DESCRIPTION\": \"Nuts/Confectionary\", \"GRADE\": \"A\", \"count\": 32}, {\"CUISINE DESCRIPTION\": \"Other\", \"GRADE\": \"A\", \"count\": 732}, {\"CUISINE DESCRIPTION\": \"Other\", \"GRADE\": \"B\", \"count\": 47}, {\"CUISINE DESCRIPTION\": \"Other\", \"GRADE\": \"C\", \"count\": 4}, {\"CUISINE DESCRIPTION\": \"Other\", \"GRADE\": \"N\", \"count\": 94}, {\"CUISINE DESCRIPTION\": \"Other\", \"GRADE\": \"P\", \"count\": 4}, {\"CUISINE DESCRIPTION\": \"Other\", \"GRADE\": \"Z\", \"count\": 16}, {\"CUISINE DESCRIPTION\": \"Pakistani\", \"GRADE\": \"A\", \"count\": 212}, {\"CUISINE DESCRIPTION\": \"Pakistani\", \"GRADE\": \"B\", \"count\": 44}, {\"CUISINE DESCRIPTION\": \"Pakistani\", \"GRADE\": \"C\", \"count\": 21}, {\"CUISINE DESCRIPTION\": \"Pakistani\", \"GRADE\": \"P\", \"count\": 4}, {\"CUISINE DESCRIPTION\": \"Pakistani\", \"GRADE\": \"Z\", \"count\": 15}, {\"CUISINE DESCRIPTION\": \"Pancakes/Waffles\", \"GRADE\": \"A\", \"count\": 119}, {\"CUISINE DESCRIPTION\": \"Pancakes/Waffles\", \"GRADE\": \"B\", \"count\": 9}, {\"CUISINE DESCRIPTION\": \"Pancakes/Waffles\", \"GRADE\": \"P\", \"count\": 2}, {\"CUISINE DESCRIPTION\": \"Peruvian\", \"GRADE\": \"A\", \"count\": 546}, {\"CUISINE DESCRIPTION\": \"Peruvian\", \"GRADE\": \"B\", \"count\": 161}, {\"CUISINE DESCRIPTION\": \"Peruvian\", \"GRADE\": \"C\", \"count\": 90}, {\"CUISINE DESCRIPTION\": \"Peruvian\", \"GRADE\": \"N\", \"count\": 14}, {\"CUISINE DESCRIPTION\": \"Peruvian\", \"GRADE\": \"P\", \"count\": 11}, {\"CUISINE DESCRIPTION\": \"Peruvian\", \"GRADE\": \"Z\", \"count\": 19}, {\"CUISINE DESCRIPTION\": \"Pizza\", \"GRADE\": \"A\", \"count\": 7129}, {\"CUISINE DESCRIPTION\": \"Pizza\", \"GRADE\": \"B\", \"count\": 1081}, {\"CUISINE DESCRIPTION\": \"Pizza\", \"GRADE\": \"C\", \"count\": 324}, {\"CUISINE DESCRIPTION\": \"Pizza\", \"GRADE\": \"N\", \"count\": 88}, {\"CUISINE DESCRIPTION\": \"Pizza\", \"GRADE\": \"P\", \"count\": 143}, {\"CUISINE DESCRIPTION\": \"Pizza\", \"GRADE\": \"Z\", \"count\": 117}, {\"CUISINE DESCRIPTION\": \"Pizza/Italian\", \"GRADE\": \"A\", \"count\": 3118}, {\"CUISINE DESCRIPTION\": \"Pizza/Italian\", \"GRADE\": \"B\", \"count\": 556}, {\"CUISINE DESCRIPTION\": \"Pizza/Italian\", \"GRADE\": \"C\", \"count\": 214}, {\"CUISINE DESCRIPTION\": \"Pizza/Italian\", \"GRADE\": \"N\", \"count\": 16}, {\"CUISINE DESCRIPTION\": \"Pizza/Italian\", \"GRADE\": \"P\", \"count\": 52}, {\"CUISINE DESCRIPTION\": \"Pizza/Italian\", \"GRADE\": \"Z\", \"count\": 71}, {\"CUISINE DESCRIPTION\": \"Polish\", \"GRADE\": \"A\", \"count\": 162}, {\"CUISINE DESCRIPTION\": \"Polish\", \"GRADE\": \"B\", \"count\": 41}, {\"CUISINE DESCRIPTION\": \"Polish\", \"GRADE\": \"C\", \"count\": 8}, {\"CUISINE DESCRIPTION\": \"Polish\", \"GRADE\": \"P\", \"count\": 8}, {\"CUISINE DESCRIPTION\": \"Polish\", \"GRADE\": \"Z\", \"count\": 5}, {\"CUISINE DESCRIPTION\": \"Portuguese\", \"GRADE\": \"A\", \"count\": 74}, {\"CUISINE DESCRIPTION\": \"Portuguese\", \"GRADE\": \"B\", \"count\": 4}, {\"CUISINE DESCRIPTION\": \"Portuguese\", \"GRADE\": \"C\", \"count\": 4}, {\"CUISINE DESCRIPTION\": \"Portuguese\", \"GRADE\": \"P\", \"count\": 2}, {\"CUISINE DESCRIPTION\": \"Russian\", \"GRADE\": \"A\", \"count\": 446}, {\"CUISINE DESCRIPTION\": \"Russian\", \"GRADE\": \"B\", \"count\": 53}, {\"CUISINE DESCRIPTION\": \"Russian\", \"GRADE\": \"C\", \"count\": 28}, {\"CUISINE DESCRIPTION\": \"Russian\", \"GRADE\": \"N\", \"count\": 4}, {\"CUISINE DESCRIPTION\": \"Russian\", \"GRADE\": \"P\", \"count\": 9}, {\"CUISINE DESCRIPTION\": \"Russian\", \"GRADE\": \"Z\", \"count\": 25}, {\"CUISINE DESCRIPTION\": \"Salads\", \"GRADE\": \"A\", \"count\": 531}, {\"CUISINE DESCRIPTION\": \"Salads\", \"GRADE\": \"B\", \"count\": 14}, {\"CUISINE DESCRIPTION\": \"Salads\", \"GRADE\": \"C\", \"count\": 6}, {\"CUISINE DESCRIPTION\": \"Salads\", \"GRADE\": \"N\", \"count\": 22}, {\"CUISINE DESCRIPTION\": \"Salads\", \"GRADE\": \"P\", \"count\": 3}, {\"CUISINE DESCRIPTION\": \"Salads\", \"GRADE\": \"Z\", \"count\": 3}, {\"CUISINE DESCRIPTION\": \"Sandwiches\", \"GRADE\": \"A\", \"count\": 2185}, {\"CUISINE DESCRIPTION\": \"Sandwiches\", \"GRADE\": \"B\", \"count\": 147}, {\"CUISINE DESCRIPTION\": \"Sandwiches\", \"GRADE\": \"C\", \"count\": 66}, {\"CUISINE DESCRIPTION\": \"Sandwiches\", \"GRADE\": \"N\", \"count\": 6}, {\"CUISINE DESCRIPTION\": \"Sandwiches\", \"GRADE\": \"P\", \"count\": 29}, {\"CUISINE DESCRIPTION\": \"Sandwiches\", \"GRADE\": \"Z\", \"count\": 11}, {\"CUISINE DESCRIPTION\": \"Sandwiches/Salads/Mixed Buffet\", \"GRADE\": \"A\", \"count\": 1464}, {\"CUISINE DESCRIPTION\": \"Sandwiches/Salads/Mixed Buffet\", \"GRADE\": \"B\", \"count\": 92}, {\"CUISINE DESCRIPTION\": \"Sandwiches/Salads/Mixed Buffet\", \"GRADE\": \"C\", \"count\": 30}, {\"CUISINE DESCRIPTION\": \"Sandwiches/Salads/Mixed Buffet\", \"GRADE\": \"N\", \"count\": 14}, {\"CUISINE DESCRIPTION\": \"Sandwiches/Salads/Mixed Buffet\", \"GRADE\": \"P\", \"count\": 16}, {\"CUISINE DESCRIPTION\": \"Sandwiches/Salads/Mixed Buffet\", \"GRADE\": \"Z\", \"count\": 10}, {\"CUISINE DESCRIPTION\": \"Scandinavian\", \"GRADE\": \"A\", \"count\": 31}, {\"CUISINE DESCRIPTION\": \"Scandinavian\", \"GRADE\": \"B\", \"count\": 4}, {\"CUISINE DESCRIPTION\": \"Seafood\", \"GRADE\": \"A\", \"count\": 1230}, {\"CUISINE DESCRIPTION\": \"Seafood\", \"GRADE\": \"B\", \"count\": 160}, {\"CUISINE DESCRIPTION\": \"Seafood\", \"GRADE\": \"C\", \"count\": 56}, {\"CUISINE DESCRIPTION\": \"Seafood\", \"GRADE\": \"N\", \"count\": 27}, {\"CUISINE DESCRIPTION\": \"Seafood\", \"GRADE\": \"P\", \"count\": 22}, {\"CUISINE DESCRIPTION\": \"Seafood\", \"GRADE\": \"Z\", \"count\": 4}, {\"CUISINE DESCRIPTION\": \"Soul Food\", \"GRADE\": \"A\", \"count\": 365}, {\"CUISINE DESCRIPTION\": \"Soul Food\", \"GRADE\": \"B\", \"count\": 117}, {\"CUISINE DESCRIPTION\": \"Soul Food\", \"GRADE\": \"C\", \"count\": 25}, {\"CUISINE DESCRIPTION\": \"Soul Food\", \"GRADE\": \"N\", \"count\": 16}, {\"CUISINE DESCRIPTION\": \"Soul Food\", \"GRADE\": \"P\", \"count\": 9}, {\"CUISINE DESCRIPTION\": \"Soul Food\", \"GRADE\": \"Z\", \"count\": 7}, {\"CUISINE DESCRIPTION\": \"Soups\", \"GRADE\": \"A\", \"count\": 54}, {\"CUISINE DESCRIPTION\": \"Soups\", \"GRADE\": \"C\", \"count\": 13}, {\"CUISINE DESCRIPTION\": \"Soups\", \"GRADE\": \"Z\", \"count\": 5}, {\"CUISINE DESCRIPTION\": \"Soups & Sandwiches\", \"GRADE\": \"A\", \"count\": 279}, {\"CUISINE DESCRIPTION\": \"Soups & Sandwiches\", \"GRADE\": \"B\", \"count\": 23}, {\"CUISINE DESCRIPTION\": \"Soups & Sandwiches\", \"GRADE\": \"C\", \"count\": 9}, {\"CUISINE DESCRIPTION\": \"Soups & Sandwiches\", \"GRADE\": \"N\", \"count\": 8}, {\"CUISINE DESCRIPTION\": \"Soups & Sandwiches\", \"GRADE\": \"P\", \"count\": 5}, {\"CUISINE DESCRIPTION\": \"Soups & Sandwiches\", \"GRADE\": \"Z\", \"count\": 2}, {\"CUISINE DESCRIPTION\": \"Southwestern\", \"GRADE\": \"A\", \"count\": 19}, {\"CUISINE DESCRIPTION\": \"Southwestern\", \"GRADE\": \"B\", \"count\": 7}, {\"CUISINE DESCRIPTION\": \"Southwestern\", \"GRADE\": \"Z\", \"count\": 5}, {\"CUISINE DESCRIPTION\": \"Spanish\", \"GRADE\": \"A\", \"count\": 3713}, {\"CUISINE DESCRIPTION\": \"Spanish\", \"GRADE\": \"B\", \"count\": 1126}, {\"CUISINE DESCRIPTION\": \"Spanish\", \"GRADE\": \"C\", \"count\": 541}, {\"CUISINE DESCRIPTION\": \"Spanish\", \"GRADE\": \"N\", \"count\": 70}, {\"CUISINE DESCRIPTION\": \"Spanish\", \"GRADE\": \"P\", \"count\": 71}, {\"CUISINE DESCRIPTION\": \"Spanish\", \"GRADE\": \"Z\", \"count\": 140}, {\"CUISINE DESCRIPTION\": \"Steak\", \"GRADE\": \"A\", \"count\": 590}, {\"CUISINE DESCRIPTION\": \"Steak\", \"GRADE\": \"B\", \"count\": 45}, {\"CUISINE DESCRIPTION\": \"Steak\", \"GRADE\": \"C\", \"count\": 19}, {\"CUISINE DESCRIPTION\": \"Steak\", \"GRADE\": \"P\", \"count\": 5}, {\"CUISINE DESCRIPTION\": \"Steak\", \"GRADE\": \"Z\", \"count\": 4}, {\"CUISINE DESCRIPTION\": \"Tapas\", \"GRADE\": \"A\", \"count\": 221}, {\"CUISINE DESCRIPTION\": \"Tapas\", \"GRADE\": \"B\", \"count\": 22}, {\"CUISINE DESCRIPTION\": \"Tapas\", \"GRADE\": \"C\", \"count\": 3}, {\"CUISINE DESCRIPTION\": \"Tex-Mex\", \"GRADE\": \"A\", \"count\": 814}, {\"CUISINE DESCRIPTION\": \"Tex-Mex\", \"GRADE\": \"B\", \"count\": 112}, {\"CUISINE DESCRIPTION\": \"Tex-Mex\", \"GRADE\": \"C\", \"count\": 45}, {\"CUISINE DESCRIPTION\": \"Tex-Mex\", \"GRADE\": \"N\", \"count\": 13}, {\"CUISINE DESCRIPTION\": \"Tex-Mex\", \"GRADE\": \"P\", \"count\": 9}, {\"CUISINE DESCRIPTION\": \"Tex-Mex\", \"GRADE\": \"Z\", \"count\": 7}, {\"CUISINE DESCRIPTION\": \"Thai\", \"GRADE\": \"A\", \"count\": 1805}, {\"CUISINE DESCRIPTION\": \"Thai\", \"GRADE\": \"B\", \"count\": 442}, {\"CUISINE DESCRIPTION\": \"Thai\", \"GRADE\": \"C\", \"count\": 154}, {\"CUISINE DESCRIPTION\": \"Thai\", \"GRADE\": \"N\", \"count\": 39}, {\"CUISINE DESCRIPTION\": \"Thai\", \"GRADE\": \"P\", \"count\": 51}, {\"CUISINE DESCRIPTION\": \"Thai\", \"GRADE\": \"Z\", \"count\": 72}, {\"CUISINE DESCRIPTION\": \"Turkish\", \"GRADE\": \"A\", \"count\": 444}, {\"CUISINE DESCRIPTION\": \"Turkish\", \"GRADE\": \"B\", \"count\": 91}, {\"CUISINE DESCRIPTION\": \"Turkish\", \"GRADE\": \"C\", \"count\": 15}, {\"CUISINE DESCRIPTION\": \"Turkish\", \"GRADE\": \"P\", \"count\": 19}, {\"CUISINE DESCRIPTION\": \"Turkish\", \"GRADE\": \"Z\", \"count\": 22}, {\"CUISINE DESCRIPTION\": \"Vegetarian\", \"GRADE\": \"A\", \"count\": 759}, {\"CUISINE DESCRIPTION\": \"Vegetarian\", \"GRADE\": \"B\", \"count\": 113}, {\"CUISINE DESCRIPTION\": \"Vegetarian\", \"GRADE\": \"C\", \"count\": 72}, {\"CUISINE DESCRIPTION\": \"Vegetarian\", \"GRADE\": \"N\", \"count\": 16}, {\"CUISINE DESCRIPTION\": \"Vegetarian\", \"GRADE\": \"P\", \"count\": 5}, {\"CUISINE DESCRIPTION\": \"Vietnamese/Cambodian/Malaysia\", \"GRADE\": \"A\", \"count\": 645}, {\"CUISINE DESCRIPTION\": \"Vietnamese/Cambodian/Malaysia\", \"GRADE\": \"B\", \"count\": 150}, {\"CUISINE DESCRIPTION\": \"Vietnamese/Cambodian/Malaysia\", \"GRADE\": \"C\", \"count\": 83}, {\"CUISINE DESCRIPTION\": \"Vietnamese/Cambodian/Malaysia\", \"GRADE\": \"N\", \"count\": 7}, {\"CUISINE DESCRIPTION\": \"Vietnamese/Cambodian/Malaysia\", \"GRADE\": \"P\", \"count\": 13}, {\"CUISINE DESCRIPTION\": \"Vietnamese/Cambodian/Malaysia\", \"GRADE\": \"Z\", \"count\": 20}]}}, {\"mode\": \"vega-lite\"});\n",
       "</script>"
      ],
      "text/plain": [
       "alt.Chart(...)"
      ]
     },
     "execution_count": 218,
     "metadata": {},
     "output_type": "execute_result"
    }
   ],
   "source": [
    "dfboro= df[df['BORO']!='0'].groupby(['CUISINE DESCRIPTION','GRADE']).size()\n",
    "dfboro\n",
    "dfboro = dfboro.reset_index(name='count')\n",
    "alt.Chart(dfboro).mark_bar().encode(\n",
    "   x='GRADE:N',\n",
    "   y='count:Q',\n",
    "    color='GRADE:N',\n",
    "    column='CUISINE DESCRIPTION:N'\n",
    ")"
   ]
  },
  {
   "cell_type": "markdown",
   "metadata": {},
   "source": [
    "## Question 4: Top Rated A Restaurants In Each Borough (By number of 'A' occurences)"
   ]
  },
  {
   "cell_type": "code",
   "execution_count": 217,
   "metadata": {
    "scrolled": true
   },
   "outputs": [
    {
     "data": {
      "text/html": [
       "\n",
       "<div id=\"altair-viz-31cbb9e4068e433ab94cd278fc1c7a6d\"></div>\n",
       "<script type=\"text/javascript\">\n",
       "  (function(spec, embedOpt){\n",
       "    const outputDiv = document.getElementById(\"altair-viz-31cbb9e4068e433ab94cd278fc1c7a6d\");\n",
       "    const paths = {\n",
       "      \"vega\": \"https://cdn.jsdelivr.net/npm//vega@5?noext\",\n",
       "      \"vega-lib\": \"https://cdn.jsdelivr.net/npm//vega-lib?noext\",\n",
       "      \"vega-lite\": \"https://cdn.jsdelivr.net/npm//vega-lite@4.0.2?noext\",\n",
       "      \"vega-embed\": \"https://cdn.jsdelivr.net/npm//vega-embed@6?noext\",\n",
       "    };\n",
       "\n",
       "    function loadScript(lib) {\n",
       "      return new Promise(function(resolve, reject) {\n",
       "        var s = document.createElement('script');\n",
       "        s.src = paths[lib];\n",
       "        s.async = true;\n",
       "        s.onload = () => resolve(paths[lib]);\n",
       "        s.onerror = () => reject(`Error loading script: ${paths[lib]}`);\n",
       "        document.getElementsByTagName(\"head\")[0].appendChild(s);\n",
       "      });\n",
       "    }\n",
       "\n",
       "    function showError(err) {\n",
       "      outputDiv.innerHTML = `<div class=\"error\" style=\"color:red;\">${err}</div>`;\n",
       "      throw err;\n",
       "    }\n",
       "\n",
       "    function displayChart(vegaEmbed) {\n",
       "      vegaEmbed(outputDiv, spec, embedOpt)\n",
       "        .catch(err => showError(`Javascript Error: ${err.message}<br>This usually means there's a typo in your chart specification. See the javascript console for the full traceback.`));\n",
       "    }\n",
       "\n",
       "    if(typeof define === \"function\" && define.amd) {\n",
       "      requirejs.config({paths});\n",
       "      require([\"vega-embed\"], displayChart, err => showError(`Error loading script: ${err.message}`));\n",
       "    } else if (typeof vegaEmbed === \"function\") {\n",
       "      displayChart(vegaEmbed);\n",
       "    } else {\n",
       "      loadScript(\"vega\")\n",
       "        .then(() => loadScript(\"vega-lite\"))\n",
       "        .then(() => loadScript(\"vega-embed\"))\n",
       "        .catch(showError)\n",
       "        .then(() => displayChart(vegaEmbed));\n",
       "    }\n",
       "  })({\"config\": {\"view\": {\"continuousWidth\": 400, \"continuousHeight\": 300}, \"title\": {\"anchor\": \"start\", \"color\": \"gray\", \"font\": \"Courier\", \"fontSize\": 20}}, \"data\": {\"name\": \"data-906a395f44c020ff2c549a142e9408c0\"}, \"mark\": \"bar\", \"encoding\": {\"color\": {\"type\": \"nominal\", \"field\": \"DBA\"}, \"x\": {\"type\": \"nominal\", \"field\": \"DBA\"}, \"y\": {\"type\": \"quantitative\", \"field\": \"count\"}}, \"title\": \"Staten Island\", \"$schema\": \"https://vega.github.io/schema/vega-lite/v4.0.2.json\", \"datasets\": {\"data-906a395f44c020ff2c549a142e9408c0\": [{\"DBA\": \"DUNKIN'\", \"count\": 251}, {\"DBA\": \"SUBWAY\", \"count\": 112}, {\"DBA\": \"BURGER KING\", \"count\": 57}, {\"DBA\": \"MCDONALD'S\", \"count\": 47}, {\"DBA\": \"STARBUCKS\", \"count\": 38}, {\"DBA\": \"PLANET WINGS\", \"count\": 29}, {\"DBA\": \"WENDY'S\", \"count\": 27}, {\"DBA\": \"BOSTON MARKET\", \"count\": 23}, {\"DBA\": \"PRONTO PIZZA\", \"count\": 23}, {\"DBA\": \"APPLEBEE'S\", \"count\": 23}]}}, {\"mode\": \"vega-lite\"});\n",
       "</script>"
      ],
      "text/plain": [
       "alt.Chart(...)"
      ]
     },
     "execution_count": 217,
     "metadata": {},
     "output_type": "execute_result"
    }
   ],
   "source": [
    "dfbklyn = df[(df['GRADE'] == 'A') & (df['BORO'] =='Staten Island')].groupby(['DBA']).size()\n",
    "dfbklyn = dfbklyn.reset_index(name='count').sort_values('count', ascending=False).head(10)\n",
    "chart = alt.Chart(dfbklyn).mark_bar().encode(\n",
    "    x='DBA:N',\n",
    "    y='count:Q',\n",
    "        color='DBA:N'\n",
    ").properties(\n",
    "    title='Staten Island'\n",
    ")\n",
    "\n",
    "chart.configure_title(\n",
    "    fontSize=20,\n",
    "    font='Courier',\n",
    "    anchor='start',\n",
    "    color='gray'\n",
    ")"
   ]
  },
  {
   "cell_type": "code",
   "execution_count": 232,
   "metadata": {},
   "outputs": [
    {
     "data": {
      "text/html": [
       "\n",
       "<div id=\"altair-viz-dce9624c2179460f8a4a88c67c6465b3\"></div>\n",
       "<script type=\"text/javascript\">\n",
       "  (function(spec, embedOpt){\n",
       "    const outputDiv = document.getElementById(\"altair-viz-dce9624c2179460f8a4a88c67c6465b3\");\n",
       "    const paths = {\n",
       "      \"vega\": \"https://cdn.jsdelivr.net/npm//vega@5?noext\",\n",
       "      \"vega-lib\": \"https://cdn.jsdelivr.net/npm//vega-lib?noext\",\n",
       "      \"vega-lite\": \"https://cdn.jsdelivr.net/npm//vega-lite@4.0.2?noext\",\n",
       "      \"vega-embed\": \"https://cdn.jsdelivr.net/npm//vega-embed@6?noext\",\n",
       "    };\n",
       "\n",
       "    function loadScript(lib) {\n",
       "      return new Promise(function(resolve, reject) {\n",
       "        var s = document.createElement('script');\n",
       "        s.src = paths[lib];\n",
       "        s.async = true;\n",
       "        s.onload = () => resolve(paths[lib]);\n",
       "        s.onerror = () => reject(`Error loading script: ${paths[lib]}`);\n",
       "        document.getElementsByTagName(\"head\")[0].appendChild(s);\n",
       "      });\n",
       "    }\n",
       "\n",
       "    function showError(err) {\n",
       "      outputDiv.innerHTML = `<div class=\"error\" style=\"color:red;\">${err}</div>`;\n",
       "      throw err;\n",
       "    }\n",
       "\n",
       "    function displayChart(vegaEmbed) {\n",
       "      vegaEmbed(outputDiv, spec, embedOpt)\n",
       "        .catch(err => showError(`Javascript Error: ${err.message}<br>This usually means there's a typo in your chart specification. See the javascript console for the full traceback.`));\n",
       "    }\n",
       "\n",
       "    if(typeof define === \"function\" && define.amd) {\n",
       "      requirejs.config({paths});\n",
       "      require([\"vega-embed\"], displayChart, err => showError(`Error loading script: ${err.message}`));\n",
       "    } else if (typeof vegaEmbed === \"function\") {\n",
       "      displayChart(vegaEmbed);\n",
       "    } else {\n",
       "      loadScript(\"vega\")\n",
       "        .then(() => loadScript(\"vega-lite\"))\n",
       "        .then(() => loadScript(\"vega-embed\"))\n",
       "        .catch(showError)\n",
       "        .then(() => displayChart(vegaEmbed));\n",
       "    }\n",
       "  })({\"config\": {\"view\": {\"continuousWidth\": 400, \"continuousHeight\": 300}}, \"data\": {\"name\": \"data-36d6b127cdfb42301a7f972c4235d296\"}, \"mark\": \"bar\", \"encoding\": {\"color\": {\"type\": \"nominal\", \"field\": \"SCORE\"}, \"column\": {\"type\": \"nominal\", \"field\": \"BORO\"}, \"y\": {\"type\": \"quantitative\", \"field\": \"count\"}}, \"$schema\": \"https://vega.github.io/schema/vega-lite/v4.0.2.json\", \"datasets\": {\"data-36d6b127cdfb42301a7f972c4235d296\": [{\"BORO\": \"Bronx\", \"SCORE\": 28.0, \"count\": 526}, {\"BORO\": \"Bronx\", \"SCORE\": 29.0, \"count\": 433}, {\"BORO\": \"Bronx\", \"SCORE\": 30.0, \"count\": 471}, {\"BORO\": \"Bronx\", \"SCORE\": 31.0, \"count\": 378}, {\"BORO\": \"Bronx\", \"SCORE\": 32.0, \"count\": 253}, {\"BORO\": \"Bronx\", \"SCORE\": 33.0, \"count\": 430}, {\"BORO\": \"Bronx\", \"SCORE\": 34.0, \"count\": 292}, {\"BORO\": \"Bronx\", \"SCORE\": 35.0, \"count\": 342}, {\"BORO\": \"Bronx\", \"SCORE\": 36.0, \"count\": 213}, {\"BORO\": \"Bronx\", \"SCORE\": 37.0, \"count\": 236}, {\"BORO\": \"Bronx\", \"SCORE\": 38.0, \"count\": 277}, {\"BORO\": \"Bronx\", \"SCORE\": 39.0, \"count\": 160}, {\"BORO\": \"Bronx\", \"SCORE\": 40.0, \"count\": 279}, {\"BORO\": \"Bronx\", \"SCORE\": 41.0, \"count\": 159}, {\"BORO\": \"Bronx\", \"SCORE\": 42.0, \"count\": 166}, {\"BORO\": \"Bronx\", \"SCORE\": 43.0, \"count\": 195}, {\"BORO\": \"Bronx\", \"SCORE\": 44.0, \"count\": 165}, {\"BORO\": \"Bronx\", \"SCORE\": 45.0, \"count\": 183}, {\"BORO\": \"Bronx\", \"SCORE\": 46.0, \"count\": 106}, {\"BORO\": \"Bronx\", \"SCORE\": 47.0, \"count\": 117}, {\"BORO\": \"Bronx\", \"SCORE\": 48.0, \"count\": 99}, {\"BORO\": \"Bronx\", \"SCORE\": 49.0, \"count\": 95}, {\"BORO\": \"Bronx\", \"SCORE\": 50.0, \"count\": 185}, {\"BORO\": \"Bronx\", \"SCORE\": 51.0, \"count\": 105}, {\"BORO\": \"Bronx\", \"SCORE\": 52.0, \"count\": 86}, {\"BORO\": \"Bronx\", \"SCORE\": 53.0, \"count\": 54}, {\"BORO\": \"Bronx\", \"SCORE\": 54.0, \"count\": 120}, {\"BORO\": \"Bronx\", \"SCORE\": 55.0, \"count\": 119}, {\"BORO\": \"Bronx\", \"SCORE\": 56.0, \"count\": 51}, {\"BORO\": \"Bronx\", \"SCORE\": 57.0, \"count\": 47}, {\"BORO\": \"Bronx\", \"SCORE\": 58.0, \"count\": 55}, {\"BORO\": \"Bronx\", \"SCORE\": 59.0, \"count\": 71}, {\"BORO\": \"Bronx\", \"SCORE\": 60.0, \"count\": 53}, {\"BORO\": \"Bronx\", \"SCORE\": 61.0, \"count\": 81}, {\"BORO\": \"Bronx\", \"SCORE\": 62.0, \"count\": 17}, {\"BORO\": \"Bronx\", \"SCORE\": 63.0, \"count\": 52}, {\"BORO\": \"Bronx\", \"SCORE\": 64.0, \"count\": 18}, {\"BORO\": \"Bronx\", \"SCORE\": 65.0, \"count\": 26}, {\"BORO\": \"Bronx\", \"SCORE\": 66.0, \"count\": 59}, {\"BORO\": \"Bronx\", \"SCORE\": 67.0, \"count\": 45}, {\"BORO\": \"Bronx\", \"SCORE\": 68.0, \"count\": 50}, {\"BORO\": \"Bronx\", \"SCORE\": 69.0, \"count\": 34}, {\"BORO\": \"Bronx\", \"SCORE\": 70.0, \"count\": 12}, {\"BORO\": \"Bronx\", \"SCORE\": 71.0, \"count\": 19}, {\"BORO\": \"Bronx\", \"SCORE\": 72.0, \"count\": 31}, {\"BORO\": \"Bronx\", \"SCORE\": 73.0, \"count\": 36}, {\"BORO\": \"Bronx\", \"SCORE\": 74.0, \"count\": 18}, {\"BORO\": \"Bronx\", \"SCORE\": 75.0, \"count\": 12}, {\"BORO\": \"Bronx\", \"SCORE\": 76.0, \"count\": 5}, {\"BORO\": \"Bronx\", \"SCORE\": 78.0, \"count\": 34}, {\"BORO\": \"Bronx\", \"SCORE\": 79.0, \"count\": 18}, {\"BORO\": \"Bronx\", \"SCORE\": 80.0, \"count\": 13}, {\"BORO\": \"Bronx\", \"SCORE\": 81.0, \"count\": 7}, {\"BORO\": \"Bronx\", \"SCORE\": 82.0, \"count\": 6}, {\"BORO\": \"Bronx\", \"SCORE\": 83.0, \"count\": 10}, {\"BORO\": \"Bronx\", \"SCORE\": 84.0, \"count\": 16}, {\"BORO\": \"Bronx\", \"SCORE\": 85.0, \"count\": 19}, {\"BORO\": \"Bronx\", \"SCORE\": 86.0, \"count\": 4}, {\"BORO\": \"Bronx\", \"SCORE\": 87.0, \"count\": 8}, {\"BORO\": \"Bronx\", \"SCORE\": 91.0, \"count\": 7}, {\"BORO\": \"Bronx\", \"SCORE\": 94.0, \"count\": 24}, {\"BORO\": \"Bronx\", \"SCORE\": 96.0, \"count\": 9}, {\"BORO\": \"Bronx\", \"SCORE\": 100.0, \"count\": 20}, {\"BORO\": \"Bronx\", \"SCORE\": 114.0, \"count\": 5}, {\"BORO\": \"Bronx\", \"SCORE\": 119.0, \"count\": 12}, {\"BORO\": \"Bronx\", \"SCORE\": 124.0, \"count\": 7}, {\"BORO\": \"Bronx\", \"SCORE\": 164.0, \"count\": 9}, {\"BORO\": \"Brooklyn\", \"SCORE\": 28.0, \"count\": 1240}, {\"BORO\": \"Brooklyn\", \"SCORE\": 29.0, \"count\": 1214}, {\"BORO\": \"Brooklyn\", \"SCORE\": 30.0, \"count\": 1132}, {\"BORO\": \"Brooklyn\", \"SCORE\": 31.0, \"count\": 1086}, {\"BORO\": \"Brooklyn\", \"SCORE\": 32.0, \"count\": 946}, {\"BORO\": \"Brooklyn\", \"SCORE\": 33.0, \"count\": 899}, {\"BORO\": \"Brooklyn\", \"SCORE\": 34.0, \"count\": 840}, {\"BORO\": \"Brooklyn\", \"SCORE\": 35.0, \"count\": 856}, {\"BORO\": \"Brooklyn\", \"SCORE\": 36.0, \"count\": 617}, {\"BORO\": \"Brooklyn\", \"SCORE\": 37.0, \"count\": 748}, {\"BORO\": \"Brooklyn\", \"SCORE\": 38.0, \"count\": 692}, {\"BORO\": \"Brooklyn\", \"SCORE\": 39.0, \"count\": 518}, {\"BORO\": \"Brooklyn\", \"SCORE\": 40.0, \"count\": 816}, {\"BORO\": \"Brooklyn\", \"SCORE\": 41.0, \"count\": 564}, {\"BORO\": \"Brooklyn\", \"SCORE\": 42.0, \"count\": 583}, {\"BORO\": \"Brooklyn\", \"SCORE\": 43.0, \"count\": 552}, {\"BORO\": \"Brooklyn\", \"SCORE\": 44.0, \"count\": 320}, {\"BORO\": \"Brooklyn\", \"SCORE\": 45.0, \"count\": 548}, {\"BORO\": \"Brooklyn\", \"SCORE\": 46.0, \"count\": 374}, {\"BORO\": \"Brooklyn\", \"SCORE\": 47.0, \"count\": 429}, {\"BORO\": \"Brooklyn\", \"SCORE\": 48.0, \"count\": 403}, {\"BORO\": \"Brooklyn\", \"SCORE\": 49.0, \"count\": 482}, {\"BORO\": \"Brooklyn\", \"SCORE\": 50.0, \"count\": 441}, {\"BORO\": \"Brooklyn\", \"SCORE\": 51.0, \"count\": 323}, {\"BORO\": \"Brooklyn\", \"SCORE\": 52.0, \"count\": 279}, {\"BORO\": \"Brooklyn\", \"SCORE\": 53.0, \"count\": 296}, {\"BORO\": \"Brooklyn\", \"SCORE\": 54.0, \"count\": 288}, {\"BORO\": \"Brooklyn\", \"SCORE\": 55.0, \"count\": 269}, {\"BORO\": \"Brooklyn\", \"SCORE\": 56.0, \"count\": 225}, {\"BORO\": \"Brooklyn\", \"SCORE\": 57.0, \"count\": 248}, {\"BORO\": \"Brooklyn\", \"SCORE\": 58.0, \"count\": 151}, {\"BORO\": \"Brooklyn\", \"SCORE\": 59.0, \"count\": 173}, {\"BORO\": \"Brooklyn\", \"SCORE\": 60.0, \"count\": 234}, {\"BORO\": \"Brooklyn\", \"SCORE\": 61.0, \"count\": 154}, {\"BORO\": \"Brooklyn\", \"SCORE\": 62.0, \"count\": 186}, {\"BORO\": \"Brooklyn\", \"SCORE\": 63.0, \"count\": 122}, {\"BORO\": \"Brooklyn\", \"SCORE\": 64.0, \"count\": 173}, {\"BORO\": \"Brooklyn\", \"SCORE\": 65.0, \"count\": 145}, {\"BORO\": \"Brooklyn\", \"SCORE\": 66.0, \"count\": 141}, {\"BORO\": \"Brooklyn\", \"SCORE\": 67.0, \"count\": 82}, {\"BORO\": \"Brooklyn\", \"SCORE\": 68.0, \"count\": 98}, {\"BORO\": \"Brooklyn\", \"SCORE\": 69.0, \"count\": 101}, {\"BORO\": \"Brooklyn\", \"SCORE\": 70.0, \"count\": 63}, {\"BORO\": \"Brooklyn\", \"SCORE\": 71.0, \"count\": 98}, {\"BORO\": \"Brooklyn\", \"SCORE\": 72.0, \"count\": 53}, {\"BORO\": \"Brooklyn\", \"SCORE\": 73.0, \"count\": 88}, {\"BORO\": \"Brooklyn\", \"SCORE\": 74.0, \"count\": 49}, {\"BORO\": \"Brooklyn\", \"SCORE\": 75.0, \"count\": 84}, {\"BORO\": \"Brooklyn\", \"SCORE\": 76.0, \"count\": 74}, {\"BORO\": \"Brooklyn\", \"SCORE\": 77.0, \"count\": 36}, {\"BORO\": \"Brooklyn\", \"SCORE\": 78.0, \"count\": 44}, {\"BORO\": \"Brooklyn\", \"SCORE\": 79.0, \"count\": 80}, {\"BORO\": \"Brooklyn\", \"SCORE\": 80.0, \"count\": 77}, {\"BORO\": \"Brooklyn\", \"SCORE\": 81.0, \"count\": 63}, {\"BORO\": \"Brooklyn\", \"SCORE\": 82.0, \"count\": 21}, {\"BORO\": \"Brooklyn\", \"SCORE\": 83.0, \"count\": 13}, {\"BORO\": \"Brooklyn\", \"SCORE\": 84.0, \"count\": 32}, {\"BORO\": \"Brooklyn\", \"SCORE\": 85.0, \"count\": 36}, {\"BORO\": \"Brooklyn\", \"SCORE\": 86.0, \"count\": 28}, {\"BORO\": \"Brooklyn\", \"SCORE\": 87.0, \"count\": 41}, {\"BORO\": \"Brooklyn\", \"SCORE\": 88.0, \"count\": 27}, {\"BORO\": \"Brooklyn\", \"SCORE\": 89.0, \"count\": 24}, {\"BORO\": \"Brooklyn\", \"SCORE\": 90.0, \"count\": 30}, {\"BORO\": \"Brooklyn\", \"SCORE\": 91.0, \"count\": 22}, {\"BORO\": \"Brooklyn\", \"SCORE\": 92.0, \"count\": 18}, {\"BORO\": \"Brooklyn\", \"SCORE\": 95.0, \"count\": 25}, {\"BORO\": \"Brooklyn\", \"SCORE\": 97.0, \"count\": 14}, {\"BORO\": \"Brooklyn\", \"SCORE\": 98.0, \"count\": 16}, {\"BORO\": \"Brooklyn\", \"SCORE\": 99.0, \"count\": 33}, {\"BORO\": \"Brooklyn\", \"SCORE\": 100.0, \"count\": 10}, {\"BORO\": \"Brooklyn\", \"SCORE\": 102.0, \"count\": 21}, {\"BORO\": \"Brooklyn\", \"SCORE\": 103.0, \"count\": 22}, {\"BORO\": \"Brooklyn\", \"SCORE\": 104.0, \"count\": 27}, {\"BORO\": \"Brooklyn\", \"SCORE\": 105.0, \"count\": 17}, {\"BORO\": \"Brooklyn\", \"SCORE\": 106.0, \"count\": 6}, {\"BORO\": \"Brooklyn\", \"SCORE\": 109.0, \"count\": 8}, {\"BORO\": \"Brooklyn\", \"SCORE\": 110.0, \"count\": 18}, {\"BORO\": \"Brooklyn\", \"SCORE\": 111.0, \"count\": 13}, {\"BORO\": \"Brooklyn\", \"SCORE\": 112.0, \"count\": 11}, {\"BORO\": \"Brooklyn\", \"SCORE\": 115.0, \"count\": 17}, {\"BORO\": \"Brooklyn\", \"SCORE\": 116.0, \"count\": 5}, {\"BORO\": \"Brooklyn\", \"SCORE\": 119.0, \"count\": 10}, {\"BORO\": \"Brooklyn\", \"SCORE\": 122.0, \"count\": 11}, {\"BORO\": \"Brooklyn\", \"SCORE\": 136.0, \"count\": 7}, {\"BORO\": \"Brooklyn\", \"SCORE\": 140.0, \"count\": 13}, {\"BORO\": \"Brooklyn\", \"SCORE\": 141.0, \"count\": 10}, {\"BORO\": \"Brooklyn\", \"SCORE\": 150.0, \"count\": 9}, {\"BORO\": \"Brooklyn\", \"SCORE\": 151.0, \"count\": 10}, {\"BORO\": \"Brooklyn\", \"SCORE\": 157.0, \"count\": 14}, {\"BORO\": \"Manhattan\", \"SCORE\": 28.0, \"count\": 1940}, {\"BORO\": \"Manhattan\", \"SCORE\": 29.0, \"count\": 2110}, {\"BORO\": \"Manhattan\", \"SCORE\": 30.0, \"count\": 1894}, {\"BORO\": \"Manhattan\", \"SCORE\": 31.0, \"count\": 1469}, {\"BORO\": \"Manhattan\", \"SCORE\": 32.0, \"count\": 1584}, {\"BORO\": \"Manhattan\", \"SCORE\": 33.0, \"count\": 1623}, {\"BORO\": \"Manhattan\", \"SCORE\": 34.0, \"count\": 1371}, {\"BORO\": \"Manhattan\", \"SCORE\": 35.0, \"count\": 1455}, {\"BORO\": \"Manhattan\", \"SCORE\": 36.0, \"count\": 1027}, {\"BORO\": \"Manhattan\", \"SCORE\": 37.0, \"count\": 1191}, {\"BORO\": \"Manhattan\", \"SCORE\": 38.0, \"count\": 1255}, {\"BORO\": \"Manhattan\", \"SCORE\": 39.0, \"count\": 965}, {\"BORO\": \"Manhattan\", \"SCORE\": 40.0, \"count\": 1274}, {\"BORO\": \"Manhattan\", \"SCORE\": 41.0, \"count\": 925}, {\"BORO\": \"Manhattan\", \"SCORE\": 42.0, \"count\": 924}, {\"BORO\": \"Manhattan\", \"SCORE\": 43.0, \"count\": 903}, {\"BORO\": \"Manhattan\", \"SCORE\": 44.0, \"count\": 731}, {\"BORO\": \"Manhattan\", \"SCORE\": 45.0, \"count\": 734}, {\"BORO\": \"Manhattan\", \"SCORE\": 46.0, \"count\": 617}, {\"BORO\": \"Manhattan\", \"SCORE\": 47.0, \"count\": 685}, {\"BORO\": \"Manhattan\", \"SCORE\": 48.0, \"count\": 633}, {\"BORO\": \"Manhattan\", \"SCORE\": 49.0, \"count\": 550}, {\"BORO\": \"Manhattan\", \"SCORE\": 50.0, \"count\": 527}, {\"BORO\": \"Manhattan\", \"SCORE\": 51.0, \"count\": 440}, {\"BORO\": \"Manhattan\", \"SCORE\": 52.0, \"count\": 462}, {\"BORO\": \"Manhattan\", \"SCORE\": 53.0, \"count\": 421}, {\"BORO\": \"Manhattan\", \"SCORE\": 54.0, \"count\": 345}, {\"BORO\": \"Manhattan\", \"SCORE\": 55.0, \"count\": 374}, {\"BORO\": \"Manhattan\", \"SCORE\": 56.0, \"count\": 342}, {\"BORO\": \"Manhattan\", \"SCORE\": 57.0, \"count\": 353}, {\"BORO\": \"Manhattan\", \"SCORE\": 58.0, \"count\": 331}, {\"BORO\": \"Manhattan\", \"SCORE\": 59.0, \"count\": 297}, {\"BORO\": \"Manhattan\", \"SCORE\": 60.0, \"count\": 256}, {\"BORO\": \"Manhattan\", \"SCORE\": 61.0, \"count\": 282}, {\"BORO\": \"Manhattan\", \"SCORE\": 62.0, \"count\": 184}, {\"BORO\": \"Manhattan\", \"SCORE\": 63.0, \"count\": 198}, {\"BORO\": \"Manhattan\", \"SCORE\": 64.0, \"count\": 156}, {\"BORO\": \"Manhattan\", \"SCORE\": 65.0, \"count\": 121}, {\"BORO\": \"Manhattan\", \"SCORE\": 66.0, \"count\": 175}, {\"BORO\": \"Manhattan\", \"SCORE\": 67.0, \"count\": 137}, {\"BORO\": \"Manhattan\", \"SCORE\": 68.0, \"count\": 126}, {\"BORO\": \"Manhattan\", \"SCORE\": 69.0, \"count\": 111}, {\"BORO\": \"Manhattan\", \"SCORE\": 70.0, \"count\": 119}, {\"BORO\": \"Manhattan\", \"SCORE\": 71.0, \"count\": 126}, {\"BORO\": \"Manhattan\", \"SCORE\": 72.0, \"count\": 88}, {\"BORO\": \"Manhattan\", \"SCORE\": 73.0, \"count\": 86}, {\"BORO\": \"Manhattan\", \"SCORE\": 74.0, \"count\": 64}, {\"BORO\": \"Manhattan\", \"SCORE\": 75.0, \"count\": 62}, {\"BORO\": \"Manhattan\", \"SCORE\": 76.0, \"count\": 71}, {\"BORO\": \"Manhattan\", \"SCORE\": 77.0, \"count\": 30}, {\"BORO\": \"Manhattan\", \"SCORE\": 78.0, \"count\": 60}, {\"BORO\": \"Manhattan\", \"SCORE\": 79.0, \"count\": 63}, {\"BORO\": \"Manhattan\", \"SCORE\": 80.0, \"count\": 51}, {\"BORO\": \"Manhattan\", \"SCORE\": 81.0, \"count\": 46}, {\"BORO\": \"Manhattan\", \"SCORE\": 82.0, \"count\": 13}, {\"BORO\": \"Manhattan\", \"SCORE\": 83.0, \"count\": 78}, {\"BORO\": \"Manhattan\", \"SCORE\": 84.0, \"count\": 54}, {\"BORO\": \"Manhattan\", \"SCORE\": 85.0, \"count\": 32}, {\"BORO\": \"Manhattan\", \"SCORE\": 86.0, \"count\": 68}, {\"BORO\": \"Manhattan\", \"SCORE\": 87.0, \"count\": 24}, {\"BORO\": \"Manhattan\", \"SCORE\": 88.0, \"count\": 24}, {\"BORO\": \"Manhattan\", \"SCORE\": 89.0, \"count\": 29}, {\"BORO\": \"Manhattan\", \"SCORE\": 90.0, \"count\": 30}, {\"BORO\": \"Manhattan\", \"SCORE\": 91.0, \"count\": 53}, {\"BORO\": \"Manhattan\", \"SCORE\": 92.0, \"count\": 31}, {\"BORO\": \"Manhattan\", \"SCORE\": 93.0, \"count\": 35}, {\"BORO\": \"Manhattan\", \"SCORE\": 94.0, \"count\": 69}, {\"BORO\": \"Manhattan\", \"SCORE\": 96.0, \"count\": 39}, {\"BORO\": \"Manhattan\", \"SCORE\": 97.0, \"count\": 37}, {\"BORO\": \"Manhattan\", \"SCORE\": 98.0, \"count\": 21}, {\"BORO\": \"Manhattan\", \"SCORE\": 99.0, \"count\": 10}, {\"BORO\": \"Manhattan\", \"SCORE\": 100.0, \"count\": 25}, {\"BORO\": \"Manhattan\", \"SCORE\": 101.0, \"count\": 22}, {\"BORO\": \"Manhattan\", \"SCORE\": 102.0, \"count\": 26}, {\"BORO\": \"Manhattan\", \"SCORE\": 103.0, \"count\": 14}, {\"BORO\": \"Manhattan\", \"SCORE\": 104.0, \"count\": 19}, {\"BORO\": \"Manhattan\", \"SCORE\": 106.0, \"count\": 7}, {\"BORO\": \"Manhattan\", \"SCORE\": 107.0, \"count\": 11}, {\"BORO\": \"Manhattan\", \"SCORE\": 108.0, \"count\": 11}, {\"BORO\": \"Manhattan\", \"SCORE\": 110.0, \"count\": 8}, {\"BORO\": \"Manhattan\", \"SCORE\": 111.0, \"count\": 13}, {\"BORO\": \"Manhattan\", \"SCORE\": 114.0, \"count\": 16}, {\"BORO\": \"Manhattan\", \"SCORE\": 115.0, \"count\": 10}, {\"BORO\": \"Manhattan\", \"SCORE\": 116.0, \"count\": 13}, {\"BORO\": \"Manhattan\", \"SCORE\": 117.0, \"count\": 22}, {\"BORO\": \"Manhattan\", \"SCORE\": 120.0, \"count\": 10}, {\"BORO\": \"Manhattan\", \"SCORE\": 124.0, \"count\": 6}, {\"BORO\": \"Manhattan\", \"SCORE\": 129.0, \"count\": 14}, {\"BORO\": \"Manhattan\", \"SCORE\": 132.0, \"count\": 8}, {\"BORO\": \"Manhattan\", \"SCORE\": 133.0, \"count\": 10}, {\"BORO\": \"Manhattan\", \"SCORE\": 153.0, \"count\": 11}, {\"BORO\": \"Queens\", \"SCORE\": 28.0, \"count\": 1094}, {\"BORO\": \"Queens\", \"SCORE\": 29.0, \"count\": 1113}, {\"BORO\": \"Queens\", \"SCORE\": 30.0, \"count\": 1109}, {\"BORO\": \"Queens\", \"SCORE\": 31.0, \"count\": 851}, {\"BORO\": \"Queens\", \"SCORE\": 32.0, \"count\": 886}, {\"BORO\": \"Queens\", \"SCORE\": 33.0, \"count\": 906}, {\"BORO\": \"Queens\", \"SCORE\": 34.0, \"count\": 737}, {\"BORO\": \"Queens\", \"SCORE\": 35.0, \"count\": 849}, {\"BORO\": \"Queens\", \"SCORE\": 36.0, \"count\": 537}, {\"BORO\": \"Queens\", \"SCORE\": 37.0, \"count\": 565}, {\"BORO\": \"Queens\", \"SCORE\": 38.0, \"count\": 687}, {\"BORO\": \"Queens\", \"SCORE\": 39.0, \"count\": 509}, {\"BORO\": \"Queens\", \"SCORE\": 40.0, \"count\": 693}, {\"BORO\": \"Queens\", \"SCORE\": 41.0, \"count\": 499}, {\"BORO\": \"Queens\", \"SCORE\": 42.0, \"count\": 450}, {\"BORO\": \"Queens\", \"SCORE\": 43.0, \"count\": 496}, {\"BORO\": \"Queens\", \"SCORE\": 44.0, \"count\": 463}, {\"BORO\": \"Queens\", \"SCORE\": 45.0, \"count\": 463}, {\"BORO\": \"Queens\", \"SCORE\": 46.0, \"count\": 272}, {\"BORO\": \"Queens\", \"SCORE\": 47.0, \"count\": 444}, {\"BORO\": \"Queens\", \"SCORE\": 48.0, \"count\": 288}, {\"BORO\": \"Queens\", \"SCORE\": 49.0, \"count\": 326}, {\"BORO\": \"Queens\", \"SCORE\": 50.0, \"count\": 355}, {\"BORO\": \"Queens\", \"SCORE\": 51.0, \"count\": 274}, {\"BORO\": \"Queens\", \"SCORE\": 52.0, \"count\": 337}, {\"BORO\": \"Queens\", \"SCORE\": 53.0, \"count\": 243}, {\"BORO\": \"Queens\", \"SCORE\": 54.0, \"count\": 276}, {\"BORO\": \"Queens\", \"SCORE\": 55.0, \"count\": 193}, {\"BORO\": \"Queens\", \"SCORE\": 56.0, \"count\": 221}, {\"BORO\": \"Queens\", \"SCORE\": 57.0, \"count\": 137}, {\"BORO\": \"Queens\", \"SCORE\": 58.0, \"count\": 195}, {\"BORO\": \"Queens\", \"SCORE\": 59.0, \"count\": 173}, {\"BORO\": \"Queens\", \"SCORE\": 60.0, \"count\": 178}, {\"BORO\": \"Queens\", \"SCORE\": 61.0, \"count\": 169}, {\"BORO\": \"Queens\", \"SCORE\": 62.0, \"count\": 84}, {\"BORO\": \"Queens\", \"SCORE\": 63.0, \"count\": 101}, {\"BORO\": \"Queens\", \"SCORE\": 64.0, \"count\": 137}, {\"BORO\": \"Queens\", \"SCORE\": 65.0, \"count\": 144}, {\"BORO\": \"Queens\", \"SCORE\": 66.0, \"count\": 105}, {\"BORO\": \"Queens\", \"SCORE\": 67.0, \"count\": 69}, {\"BORO\": \"Queens\", \"SCORE\": 68.0, \"count\": 52}, {\"BORO\": \"Queens\", \"SCORE\": 69.0, \"count\": 52}, {\"BORO\": \"Queens\", \"SCORE\": 70.0, \"count\": 60}, {\"BORO\": \"Queens\", \"SCORE\": 71.0, \"count\": 83}, {\"BORO\": \"Queens\", \"SCORE\": 72.0, \"count\": 37}, {\"BORO\": \"Queens\", \"SCORE\": 73.0, \"count\": 88}, {\"BORO\": \"Queens\", \"SCORE\": 74.0, \"count\": 85}, {\"BORO\": \"Queens\", \"SCORE\": 75.0, \"count\": 49}, {\"BORO\": \"Queens\", \"SCORE\": 76.0, \"count\": 57}, {\"BORO\": \"Queens\", \"SCORE\": 77.0, \"count\": 83}, {\"BORO\": \"Queens\", \"SCORE\": 78.0, \"count\": 36}, {\"BORO\": \"Queens\", \"SCORE\": 79.0, \"count\": 10}, {\"BORO\": \"Queens\", \"SCORE\": 80.0, \"count\": 47}, {\"BORO\": \"Queens\", \"SCORE\": 81.0, \"count\": 33}, {\"BORO\": \"Queens\", \"SCORE\": 82.0, \"count\": 68}, {\"BORO\": \"Queens\", \"SCORE\": 83.0, \"count\": 54}, {\"BORO\": \"Queens\", \"SCORE\": 84.0, \"count\": 41}, {\"BORO\": \"Queens\", \"SCORE\": 85.0, \"count\": 6}, {\"BORO\": \"Queens\", \"SCORE\": 87.0, \"count\": 24}, {\"BORO\": \"Queens\", \"SCORE\": 88.0, \"count\": 41}, {\"BORO\": \"Queens\", \"SCORE\": 89.0, \"count\": 24}, {\"BORO\": \"Queens\", \"SCORE\": 90.0, \"count\": 20}, {\"BORO\": \"Queens\", \"SCORE\": 92.0, \"count\": 4}, {\"BORO\": \"Queens\", \"SCORE\": 93.0, \"count\": 12}, {\"BORO\": \"Queens\", \"SCORE\": 94.0, \"count\": 17}, {\"BORO\": \"Queens\", \"SCORE\": 95.0, \"count\": 10}, {\"BORO\": \"Queens\", \"SCORE\": 96.0, \"count\": 23}, {\"BORO\": \"Queens\", \"SCORE\": 97.0, \"count\": 7}, {\"BORO\": \"Queens\", \"SCORE\": 98.0, \"count\": 13}, {\"BORO\": \"Queens\", \"SCORE\": 99.0, \"count\": 11}, {\"BORO\": \"Queens\", \"SCORE\": 101.0, \"count\": 9}, {\"BORO\": \"Queens\", \"SCORE\": 103.0, \"count\": 6}, {\"BORO\": \"Queens\", \"SCORE\": 105.0, \"count\": 9}, {\"BORO\": \"Queens\", \"SCORE\": 107.0, \"count\": 10}, {\"BORO\": \"Queens\", \"SCORE\": 109.0, \"count\": 16}, {\"BORO\": \"Queens\", \"SCORE\": 111.0, \"count\": 9}, {\"BORO\": \"Queens\", \"SCORE\": 112.0, \"count\": 8}, {\"BORO\": \"Queens\", \"SCORE\": 117.0, \"count\": 9}, {\"BORO\": \"Queens\", \"SCORE\": 119.0, \"count\": 9}, {\"BORO\": \"Queens\", \"SCORE\": 120.0, \"count\": 8}, {\"BORO\": \"Queens\", \"SCORE\": 121.0, \"count\": 16}, {\"BORO\": \"Queens\", \"SCORE\": 124.0, \"count\": 11}, {\"BORO\": \"Queens\", \"SCORE\": 127.0, \"count\": 11}, {\"BORO\": \"Queens\", \"SCORE\": 132.0, \"count\": 8}, {\"BORO\": \"Queens\", \"SCORE\": 135.0, \"count\": 11}, {\"BORO\": \"Queens\", \"SCORE\": 137.0, \"count\": 8}, {\"BORO\": \"Queens\", \"SCORE\": 140.0, \"count\": 5}, {\"BORO\": \"Queens\", \"SCORE\": 164.0, \"count\": 11}, {\"BORO\": \"Staten Island\", \"SCORE\": 28.0, \"count\": 192}, {\"BORO\": \"Staten Island\", \"SCORE\": 29.0, \"count\": 190}, {\"BORO\": \"Staten Island\", \"SCORE\": 30.0, \"count\": 167}, {\"BORO\": \"Staten Island\", \"SCORE\": 31.0, \"count\": 150}, {\"BORO\": \"Staten Island\", \"SCORE\": 32.0, \"count\": 138}, {\"BORO\": \"Staten Island\", \"SCORE\": 33.0, \"count\": 98}, {\"BORO\": \"Staten Island\", \"SCORE\": 34.0, \"count\": 178}, {\"BORO\": \"Staten Island\", \"SCORE\": 35.0, \"count\": 137}, {\"BORO\": \"Staten Island\", \"SCORE\": 36.0, \"count\": 53}, {\"BORO\": \"Staten Island\", \"SCORE\": 37.0, \"count\": 98}, {\"BORO\": \"Staten Island\", \"SCORE\": 38.0, \"count\": 60}, {\"BORO\": \"Staten Island\", \"SCORE\": 39.0, \"count\": 47}, {\"BORO\": \"Staten Island\", \"SCORE\": 40.0, \"count\": 121}, {\"BORO\": \"Staten Island\", \"SCORE\": 41.0, \"count\": 39}, {\"BORO\": \"Staten Island\", \"SCORE\": 42.0, \"count\": 50}, {\"BORO\": \"Staten Island\", \"SCORE\": 43.0, \"count\": 70}, {\"BORO\": \"Staten Island\", \"SCORE\": 44.0, \"count\": 34}, {\"BORO\": \"Staten Island\", \"SCORE\": 45.0, \"count\": 64}, {\"BORO\": \"Staten Island\", \"SCORE\": 46.0, \"count\": 34}, {\"BORO\": \"Staten Island\", \"SCORE\": 47.0, \"count\": 77}, {\"BORO\": \"Staten Island\", \"SCORE\": 48.0, \"count\": 22}, {\"BORO\": \"Staten Island\", \"SCORE\": 49.0, \"count\": 58}, {\"BORO\": \"Staten Island\", \"SCORE\": 50.0, \"count\": 76}, {\"BORO\": \"Staten Island\", \"SCORE\": 51.0, \"count\": 24}, {\"BORO\": \"Staten Island\", \"SCORE\": 52.0, \"count\": 15}, {\"BORO\": \"Staten Island\", \"SCORE\": 53.0, \"count\": 35}, {\"BORO\": \"Staten Island\", \"SCORE\": 54.0, \"count\": 24}, {\"BORO\": \"Staten Island\", \"SCORE\": 55.0, \"count\": 27}, {\"BORO\": \"Staten Island\", \"SCORE\": 56.0, \"count\": 17}, {\"BORO\": \"Staten Island\", \"SCORE\": 57.0, \"count\": 6}, {\"BORO\": \"Staten Island\", \"SCORE\": 58.0, \"count\": 16}, {\"BORO\": \"Staten Island\", \"SCORE\": 60.0, \"count\": 11}, {\"BORO\": \"Staten Island\", \"SCORE\": 61.0, \"count\": 6}, {\"BORO\": \"Staten Island\", \"SCORE\": 62.0, \"count\": 13}, {\"BORO\": \"Staten Island\", \"SCORE\": 63.0, \"count\": 34}, {\"BORO\": \"Staten Island\", \"SCORE\": 64.0, \"count\": 10}, {\"BORO\": \"Staten Island\", \"SCORE\": 65.0, \"count\": 7}, {\"BORO\": \"Staten Island\", \"SCORE\": 66.0, \"count\": 18}, {\"BORO\": \"Staten Island\", \"SCORE\": 67.0, \"count\": 14}, {\"BORO\": \"Staten Island\", \"SCORE\": 68.0, \"count\": 19}, {\"BORO\": \"Staten Island\", \"SCORE\": 69.0, \"count\": 4}, {\"BORO\": \"Staten Island\", \"SCORE\": 71.0, \"count\": 4}, {\"BORO\": \"Staten Island\", \"SCORE\": 72.0, \"count\": 14}, {\"BORO\": \"Staten Island\", \"SCORE\": 73.0, \"count\": 13}, {\"BORO\": \"Staten Island\", \"SCORE\": 75.0, \"count\": 6}, {\"BORO\": \"Staten Island\", \"SCORE\": 76.0, \"count\": 7}, {\"BORO\": \"Staten Island\", \"SCORE\": 79.0, \"count\": 6}, {\"BORO\": \"Staten Island\", \"SCORE\": 117.0, \"count\": 8}]}}, {\"mode\": \"vega-lite\"});\n",
       "</script>"
      ],
      "text/plain": [
       "alt.Chart(...)"
      ]
     },
     "execution_count": 232,
     "metadata": {},
     "output_type": "execute_result"
    }
   ],
   "source": [
    "dfbklyn = df[(df['BORO'] != '0') & (df['SCORE'] >= 28)].groupby(['BORO', 'SCORE']).size()\n",
    "dfbklyn = dfbklyn.reset_index(name='count')\n",
    "alt.Chart(dfbklyn).mark_bar().encode(\n",
    "    y='count:Q',\n",
    "        color='SCORE:N',\n",
    "        column='BORO:N'\n",
    ").properties(\n",
    "    title='Staten Island'\n",
    ")"
   ]
  },
  {
   "cell_type": "code",
   "execution_count": null,
   "metadata": {},
   "outputs": [],
   "source": []
  }
 ],
 "metadata": {
  "kernelspec": {
   "display_name": "Python 3",
   "language": "python",
   "name": "python3"
  },
  "language_info": {
   "codemirror_mode": {
    "name": "ipython",
    "version": 3
   },
   "file_extension": ".py",
   "mimetype": "text/x-python",
   "name": "python",
   "nbconvert_exporter": "python",
   "pygments_lexer": "ipython3",
   "version": "3.6.4"
  }
 },
 "nbformat": 4,
 "nbformat_minor": 4
}
