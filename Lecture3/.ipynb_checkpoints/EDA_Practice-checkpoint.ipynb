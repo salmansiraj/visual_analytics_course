{
 "cells": [
  {
   "cell_type": "code",
   "execution_count": 31,
   "metadata": {},
   "outputs": [],
   "source": [
    "import altair as alt\n",
    "import pandas as pd\n"
   ]
  },
  {
   "cell_type": "markdown",
   "metadata": {},
   "source": [
    "## Question 1: How many restaurants are in each borough?"
   ]
  },
  {
   "cell_type": "code",
   "execution_count": 37,
   "metadata": {},
   "outputs": [
    {
     "ename": "SyntaxError",
     "evalue": "invalid syntax (<ipython-input-37-c38afe88e14b>, line 8)",
     "output_type": "error",
     "traceback": [
      "\u001b[0;36m  File \u001b[0;32m\"<ipython-input-37-c38afe88e14b>\"\u001b[0;36m, line \u001b[0;32m8\u001b[0m\n\u001b[0;31m    )\u001b[0m\n\u001b[0m    ^\u001b[0m\n\u001b[0;31mSyntaxError\u001b[0m\u001b[0;31m:\u001b[0m invalid syntax\n"
     ]
    }
   ],
   "source": [
    "df = pd.read_csv(filepath_or_buffer=\"restaurants.csv\", sep=',',header=0, index_col=None, lineterminator='\\n')\n",
    "dfboro= df[df['BORO']!='0'].groupby('CUISINE DESCRIPTION').size()\n",
    "dfboro = dfboro.reset_index(name='count')\n",
    "alt.Chart(dfboro).mark_bar().encode(\n",
    "   x='BORO:N',\n",
    "   y='count:Q'\n",
    ")"
   ]
  },
  {
   "cell_type": "markdown",
   "metadata": {},
   "source": [
    "## Question 2: What is the distribution of grades in each Borough? "
   ]
  },
  {
   "cell_type": "code",
   "execution_count": 33,
   "metadata": {},
   "outputs": [
    {
     "data": {
      "text/html": [
       "\n",
       "<div id=\"altair-viz-844c4c51f819465da678147dac7965eb\"></div>\n",
       "<script type=\"text/javascript\">\n",
       "  (function(spec, embedOpt){\n",
       "    const outputDiv = document.getElementById(\"altair-viz-844c4c51f819465da678147dac7965eb\");\n",
       "    const paths = {\n",
       "      \"vega\": \"https://cdn.jsdelivr.net/npm//vega@5?noext\",\n",
       "      \"vega-lib\": \"https://cdn.jsdelivr.net/npm//vega-lib?noext\",\n",
       "      \"vega-lite\": \"https://cdn.jsdelivr.net/npm//vega-lite@4.0.2?noext\",\n",
       "      \"vega-embed\": \"https://cdn.jsdelivr.net/npm//vega-embed@6?noext\",\n",
       "    };\n",
       "\n",
       "    function loadScript(lib) {\n",
       "      return new Promise(function(resolve, reject) {\n",
       "        var s = document.createElement('script');\n",
       "        s.src = paths[lib];\n",
       "        s.async = true;\n",
       "        s.onload = () => resolve(paths[lib]);\n",
       "        s.onerror = () => reject(`Error loading script: ${paths[lib]}`);\n",
       "        document.getElementsByTagName(\"head\")[0].appendChild(s);\n",
       "      });\n",
       "    }\n",
       "\n",
       "    function showError(err) {\n",
       "      outputDiv.innerHTML = `<div class=\"error\" style=\"color:red;\">${err}</div>`;\n",
       "      throw err;\n",
       "    }\n",
       "\n",
       "    function displayChart(vegaEmbed) {\n",
       "      vegaEmbed(outputDiv, spec, embedOpt)\n",
       "        .catch(err => showError(`Javascript Error: ${err.message}<br>This usually means there's a typo in your chart specification. See the javascript console for the full traceback.`));\n",
       "    }\n",
       "\n",
       "    if(typeof define === \"function\" && define.amd) {\n",
       "      requirejs.config({paths});\n",
       "      require([\"vega-embed\"], displayChart, err => showError(`Error loading script: ${err.message}`));\n",
       "    } else if (typeof vegaEmbed === \"function\") {\n",
       "      displayChart(vegaEmbed);\n",
       "    } else {\n",
       "      loadScript(\"vega\")\n",
       "        .then(() => loadScript(\"vega-lite\"))\n",
       "        .then(() => loadScript(\"vega-embed\"))\n",
       "        .catch(showError)\n",
       "        .then(() => displayChart(vegaEmbed));\n",
       "    }\n",
       "  })({\"config\": {\"view\": {\"continuousWidth\": 400, \"continuousHeight\": 300}}, \"data\": {\"name\": \"data-fd793805d609ef8a05146139289e0974\"}, \"mark\": \"bar\", \"encoding\": {\"color\": {\"type\": \"nominal\", \"field\": \"GRADE\"}, \"column\": {\"type\": \"nominal\", \"field\": \"BORO\"}, \"x\": {\"type\": \"nominal\", \"field\": \"GRADE\"}, \"y\": {\"type\": \"quantitative\", \"field\": \"count\"}}, \"$schema\": \"https://vega.github.io/schema/vega-lite/v4.0.2.json\", \"datasets\": {\"data-fd793805d609ef8a05146139289e0974\": [{\"GRADE\": \"A\", \"BORO\": \"Bronx\", \"count\": 14170}, {\"GRADE\": \"A\", \"BORO\": \"Brooklyn\", \"count\": 39952}, {\"GRADE\": \"A\", \"BORO\": \"Manhattan\", \"count\": 63029}, {\"GRADE\": \"A\", \"BORO\": \"Queens\", \"count\": 36782}, {\"GRADE\": \"A\", \"BORO\": \"Staten Island\", \"count\": 5548}, {\"GRADE\": \"B\", \"BORO\": \"Bronx\", \"count\": 2739}, {\"GRADE\": \"B\", \"BORO\": \"Brooklyn\", \"count\": 6597}, {\"GRADE\": \"B\", \"BORO\": \"Manhattan\", \"count\": 9372}, {\"GRADE\": \"B\", \"BORO\": \"Queens\", \"count\": 5592}, {\"GRADE\": \"B\", \"BORO\": \"Staten Island\", \"count\": 882}, {\"GRADE\": \"C\", \"BORO\": \"Bronx\", \"count\": 1031}, {\"GRADE\": \"C\", \"BORO\": \"Brooklyn\", \"count\": 2267}, {\"GRADE\": \"C\", \"BORO\": \"Manhattan\", \"count\": 3728}, {\"GRADE\": \"C\", \"BORO\": \"Queens\", \"count\": 2071}, {\"GRADE\": \"C\", \"BORO\": \"Staten Island\", \"count\": 251}, {\"GRADE\": \"G\", \"BORO\": \"Brooklyn\", \"count\": 3}, {\"GRADE\": \"G\", \"BORO\": \"Manhattan\", \"count\": 3}, {\"GRADE\": \"N\", \"BORO\": \"Bronx\", \"count\": 137}, {\"GRADE\": \"N\", \"BORO\": \"Brooklyn\", \"count\": 614}, {\"GRADE\": \"N\", \"BORO\": \"Manhattan\", \"count\": 1078}, {\"GRADE\": \"N\", \"BORO\": \"Queens\", \"count\": 648}, {\"GRADE\": \"N\", \"BORO\": \"Staten Island\", \"count\": 78}, {\"GRADE\": \"P\", \"BORO\": \"Bronx\", \"count\": 232}, {\"GRADE\": \"P\", \"BORO\": \"Brooklyn\", \"count\": 792}, {\"GRADE\": \"P\", \"BORO\": \"Manhattan\", \"count\": 951}, {\"GRADE\": \"P\", \"BORO\": \"Queens\", \"count\": 614}, {\"GRADE\": \"P\", \"BORO\": \"Staten Island\", \"count\": 62}, {\"GRADE\": \"Z\", \"BORO\": \"Bronx\", \"count\": 376}, {\"GRADE\": \"Z\", \"BORO\": \"Brooklyn\", \"count\": 830}, {\"GRADE\": \"Z\", \"BORO\": \"Manhattan\", \"count\": 1079}, {\"GRADE\": \"Z\", \"BORO\": \"Queens\", \"count\": 892}, {\"GRADE\": \"Z\", \"BORO\": \"Staten Island\", \"count\": 42}]}}, {\"mode\": \"vega-lite\"});\n",
       "</script>"
      ],
      "text/plain": [
       "alt.Chart(...)"
      ]
     },
     "execution_count": 33,
     "metadata": {},
     "output_type": "execute_result"
    }
   ],
   "source": [
    "dfboro= df[df['BORO']!='0'].groupby(['GRADE','BORO']).size()\n",
    "dfboro = dfboro.reset_index(name='count')\n",
    "alt.Chart(dfboro).mark_bar().encode(\n",
    "   x='GRADE:N',\n",
    "   y='count:Q',\n",
    "    color='GRADE:N',\n",
    "    column='BORO:N'\n",
    ")"
   ]
  },
  {
   "cell_type": "markdown",
   "metadata": {},
   "source": [
    "## Question 3: What are the score distributions among each cuisine?   "
   ]
  },
  {
   "cell_type": "code",
   "execution_count": 40,
   "metadata": {},
   "outputs": [
    {
     "data": {
      "text/html": [
       "\n",
       "<div id=\"altair-viz-7147605425b24ef08d1831d9e612e886\"></div>\n",
       "<script type=\"text/javascript\">\n",
       "  (function(spec, embedOpt){\n",
       "    const outputDiv = document.getElementById(\"altair-viz-7147605425b24ef08d1831d9e612e886\");\n",
       "    const paths = {\n",
       "      \"vega\": \"https://cdn.jsdelivr.net/npm//vega@5?noext\",\n",
       "      \"vega-lib\": \"https://cdn.jsdelivr.net/npm//vega-lib?noext\",\n",
       "      \"vega-lite\": \"https://cdn.jsdelivr.net/npm//vega-lite@4.0.2?noext\",\n",
       "      \"vega-embed\": \"https://cdn.jsdelivr.net/npm//vega-embed@6?noext\",\n",
       "    };\n",
       "\n",
       "    function loadScript(lib) {\n",
       "      return new Promise(function(resolve, reject) {\n",
       "        var s = document.createElement('script');\n",
       "        s.src = paths[lib];\n",
       "        s.async = true;\n",
       "        s.onload = () => resolve(paths[lib]);\n",
       "        s.onerror = () => reject(`Error loading script: ${paths[lib]}`);\n",
       "        document.getElementsByTagName(\"head\")[0].appendChild(s);\n",
       "      });\n",
       "    }\n",
       "\n",
       "    function showError(err) {\n",
       "      outputDiv.innerHTML = `<div class=\"error\" style=\"color:red;\">${err}</div>`;\n",
       "      throw err;\n",
       "    }\n",
       "\n",
       "    function displayChart(vegaEmbed) {\n",
       "      vegaEmbed(outputDiv, spec, embedOpt)\n",
       "        .catch(err => showError(`Javascript Error: ${err.message}<br>This usually means there's a typo in your chart specification. See the javascript console for the full traceback.`));\n",
       "    }\n",
       "\n",
       "    if(typeof define === \"function\" && define.amd) {\n",
       "      requirejs.config({paths});\n",
       "      require([\"vega-embed\"], displayChart, err => showError(`Error loading script: ${err.message}`));\n",
       "    } else if (typeof vegaEmbed === \"function\") {\n",
       "      displayChart(vegaEmbed);\n",
       "    } else {\n",
       "      loadScript(\"vega\")\n",
       "        .then(() => loadScript(\"vega-lite\"))\n",
       "        .then(() => loadScript(\"vega-embed\"))\n",
       "        .catch(showError)\n",
       "        .then(() => displayChart(vegaEmbed));\n",
       "    }\n",
       "  })({\"config\": {\"view\": {\"continuousWidth\": 400, \"continuousHeight\": 300}}, \"data\": {\"name\": \"data-66bf60ba4cc342040108c2ad45d719ef\"}, \"mark\": \"bar\", \"encoding\": {\"color\": {\"type\": \"nominal\", \"field\": \"GRADE\"}, \"column\": {\"type\": \"nominal\", \"field\": \"CUISINE DESCRIPTION\"}, \"x\": {\"type\": \"nominal\", \"field\": \"GRADE\"}, \"y\": {\"type\": \"quantitative\", \"field\": \"count\"}}, \"$schema\": \"https://vega.github.io/schema/vega-lite/v4.0.2.json\", \"datasets\": {\"data-66bf60ba4cc342040108c2ad45d719ef\": [{\"CUISINE DESCRIPTION\": \"Afghan\", \"GRADE\": \"A\", \"count\": 93}, {\"CUISINE DESCRIPTION\": \"Afghan\", \"GRADE\": \"B\", \"count\": 13}, {\"CUISINE DESCRIPTION\": \"Afghan\", \"GRADE\": \"C\", \"count\": 4}, {\"CUISINE DESCRIPTION\": \"Afghan\", \"GRADE\": \"P\", \"count\": 3}, {\"CUISINE DESCRIPTION\": \"Afghan\", \"GRADE\": \"Z\", \"count\": 2}, {\"CUISINE DESCRIPTION\": \"African\", \"GRADE\": \"A\", \"count\": 392}, {\"CUISINE DESCRIPTION\": \"African\", \"GRADE\": \"B\", \"count\": 161}, {\"CUISINE DESCRIPTION\": \"African\", \"GRADE\": \"C\", \"count\": 117}, {\"CUISINE DESCRIPTION\": \"African\", \"GRADE\": \"N\", \"count\": 22}, {\"CUISINE DESCRIPTION\": \"African\", \"GRADE\": \"P\", \"count\": 29}, {\"CUISINE DESCRIPTION\": \"African\", \"GRADE\": \"Z\", \"count\": 38}, {\"CUISINE DESCRIPTION\": \"American\", \"GRADE\": \"A\", \"count\": 37114}, {\"CUISINE DESCRIPTION\": \"American\", \"GRADE\": \"B\", \"count\": 4290}, {\"CUISINE DESCRIPTION\": \"American\", \"GRADE\": \"C\", \"count\": 1401}, {\"CUISINE DESCRIPTION\": \"American\", \"GRADE\": \"G\", \"count\": 3}, {\"CUISINE DESCRIPTION\": \"American\", \"GRADE\": \"N\", \"count\": 556}, {\"CUISINE DESCRIPTION\": \"American\", \"GRADE\": \"P\", \"count\": 380}, {\"CUISINE DESCRIPTION\": \"American\", \"GRADE\": \"Z\", \"count\": 576}, {\"CUISINE DESCRIPTION\": \"Armenian\", \"GRADE\": \"A\", \"count\": 143}, {\"CUISINE DESCRIPTION\": \"Armenian\", \"GRADE\": \"B\", \"count\": 17}, {\"CUISINE DESCRIPTION\": \"Armenian\", \"GRADE\": \"C\", \"count\": 4}, {\"CUISINE DESCRIPTION\": \"Armenian\", \"GRADE\": \"N\", \"count\": 5}, {\"CUISINE DESCRIPTION\": \"Armenian\", \"GRADE\": \"P\", \"count\": 1}, {\"CUISINE DESCRIPTION\": \"Armenian\", \"GRADE\": \"Z\", \"count\": 8}, {\"CUISINE DESCRIPTION\": \"Asian\", \"GRADE\": \"A\", \"count\": 2226}, {\"CUISINE DESCRIPTION\": \"Asian\", \"GRADE\": \"B\", \"count\": 459}, {\"CUISINE DESCRIPTION\": \"Asian\", \"GRADE\": \"C\", \"count\": 214}, {\"CUISINE DESCRIPTION\": \"Asian\", \"GRADE\": \"N\", \"count\": 56}, {\"CUISINE DESCRIPTION\": \"Asian\", \"GRADE\": \"P\", \"count\": 28}, {\"CUISINE DESCRIPTION\": \"Asian\", \"GRADE\": \"Z\", \"count\": 62}, {\"CUISINE DESCRIPTION\": \"Australian\", \"GRADE\": \"A\", \"count\": 145}, {\"CUISINE DESCRIPTION\": \"Australian\", \"GRADE\": \"B\", \"count\": 21}, {\"CUISINE DESCRIPTION\": \"Australian\", \"GRADE\": \"C\", \"count\": 3}, {\"CUISINE DESCRIPTION\": \"Australian\", \"GRADE\": \"N\", \"count\": 6}, {\"CUISINE DESCRIPTION\": \"Australian\", \"GRADE\": \"P\", \"count\": 3}, {\"CUISINE DESCRIPTION\": \"Australian\", \"GRADE\": \"Z\", \"count\": 6}, {\"CUISINE DESCRIPTION\": \"Bagels/Pretzels\", \"GRADE\": \"A\", \"count\": 1139}, {\"CUISINE DESCRIPTION\": \"Bagels/Pretzels\", \"GRADE\": \"B\", \"count\": 145}, {\"CUISINE DESCRIPTION\": \"Bagels/Pretzels\", \"GRADE\": \"C\", \"count\": 47}, {\"CUISINE DESCRIPTION\": \"Bagels/Pretzels\", \"GRADE\": \"P\", \"count\": 20}, {\"CUISINE DESCRIPTION\": \"Bagels/Pretzels\", \"GRADE\": \"Z\", \"count\": 18}, {\"CUISINE DESCRIPTION\": \"Bakery\", \"GRADE\": \"A\", \"count\": 5144}, {\"CUISINE DESCRIPTION\": \"Bakery\", \"GRADE\": \"B\", \"count\": 871}, {\"CUISINE DESCRIPTION\": \"Bakery\", \"GRADE\": \"C\", \"count\": 268}, {\"CUISINE DESCRIPTION\": \"Bakery\", \"GRADE\": \"N\", \"count\": 34}, {\"CUISINE DESCRIPTION\": \"Bakery\", \"GRADE\": \"P\", \"count\": 106}, {\"CUISINE DESCRIPTION\": \"Bakery\", \"GRADE\": \"Z\", \"count\": 106}, {\"CUISINE DESCRIPTION\": \"Bangladeshi\", \"GRADE\": \"A\", \"count\": 247}, {\"CUISINE DESCRIPTION\": \"Bangladeshi\", \"GRADE\": \"B\", \"count\": 128}, {\"CUISINE DESCRIPTION\": \"Bangladeshi\", \"GRADE\": \"C\", \"count\": 65}, {\"CUISINE DESCRIPTION\": \"Bangladeshi\", \"GRADE\": \"N\", \"count\": 8}, {\"CUISINE DESCRIPTION\": \"Bangladeshi\", \"GRADE\": \"P\", \"count\": 26}, {\"CUISINE DESCRIPTION\": \"Bangladeshi\", \"GRADE\": \"Z\", \"count\": 21}, {\"CUISINE DESCRIPTION\": \"Barbecue\", \"GRADE\": \"A\", \"count\": 331}, {\"CUISINE DESCRIPTION\": \"Barbecue\", \"GRADE\": \"B\", \"count\": 42}, {\"CUISINE DESCRIPTION\": \"Barbecue\", \"GRADE\": \"C\", \"count\": 29}, {\"CUISINE DESCRIPTION\": \"Barbecue\", \"GRADE\": \"N\", \"count\": 1}, {\"CUISINE DESCRIPTION\": \"Barbecue\", \"GRADE\": \"P\", \"count\": 4}, {\"CUISINE DESCRIPTION\": \"Barbecue\", \"GRADE\": \"Z\", \"count\": 6}, {\"CUISINE DESCRIPTION\": \"Basque\", \"GRADE\": \"A\", \"count\": 4}, {\"CUISINE DESCRIPTION\": \"Bottled beverages, including water, sodas, juices, etc.\", \"GRADE\": \"A\", \"count\": 569}, {\"CUISINE DESCRIPTION\": \"Bottled beverages, including water, sodas, juices, etc.\", \"GRADE\": \"B\", \"count\": 80}, {\"CUISINE DESCRIPTION\": \"Bottled beverages, including water, sodas, juices, etc.\", \"GRADE\": \"C\", \"count\": 14}, {\"CUISINE DESCRIPTION\": \"Bottled beverages, including water, sodas, juices, etc.\", \"GRADE\": \"N\", \"count\": 20}, {\"CUISINE DESCRIPTION\": \"Bottled beverages, including water, sodas, juices, etc.\", \"GRADE\": \"P\", \"count\": 4}, {\"CUISINE DESCRIPTION\": \"Bottled beverages, including water, sodas, juices, etc.\", \"GRADE\": \"Z\", \"count\": 2}, {\"CUISINE DESCRIPTION\": \"Brazilian\", \"GRADE\": \"A\", \"count\": 199}, {\"CUISINE DESCRIPTION\": \"Brazilian\", \"GRADE\": \"B\", \"count\": 24}, {\"CUISINE DESCRIPTION\": \"Brazilian\", \"GRADE\": \"C\", \"count\": 1}, {\"CUISINE DESCRIPTION\": \"Brazilian\", \"GRADE\": \"N\", \"count\": 2}, {\"CUISINE DESCRIPTION\": \"Brazilian\", \"GRADE\": \"P\", \"count\": 9}, {\"CUISINE DESCRIPTION\": \"Brazilian\", \"GRADE\": \"Z\", \"count\": 4}, {\"CUISINE DESCRIPTION\": \"Caf\\u00e9/Coffee/Tea\", \"GRADE\": \"A\", \"count\": 9934}, {\"CUISINE DESCRIPTION\": \"Caf\\u00e9/Coffee/Tea\", \"GRADE\": \"B\", \"count\": 749}, {\"CUISINE DESCRIPTION\": \"Caf\\u00e9/Coffee/Tea\", \"GRADE\": \"C\", \"count\": 246}, {\"CUISINE DESCRIPTION\": \"Caf\\u00e9/Coffee/Tea\", \"GRADE\": \"G\", \"count\": 2}, {\"CUISINE DESCRIPTION\": \"Caf\\u00e9/Coffee/Tea\", \"GRADE\": \"N\", \"count\": 214}, {\"CUISINE DESCRIPTION\": \"Caf\\u00e9/Coffee/Tea\", \"GRADE\": \"P\", \"count\": 106}, {\"CUISINE DESCRIPTION\": \"Caf\\u00e9/Coffee/Tea\", \"GRADE\": \"Z\", \"count\": 69}, {\"CUISINE DESCRIPTION\": \"Cajun\", \"GRADE\": \"A\", \"count\": 43}, {\"CUISINE DESCRIPTION\": \"Cajun\", \"GRADE\": \"B\", \"count\": 3}, {\"CUISINE DESCRIPTION\": \"Cajun\", \"GRADE\": \"N\", \"count\": 5}, {\"CUISINE DESCRIPTION\": \"Cajun\", \"GRADE\": \"P\", \"count\": 1}, {\"CUISINE DESCRIPTION\": \"Californian\", \"GRADE\": \"A\", \"count\": 34}, {\"CUISINE DESCRIPTION\": \"Californian\", \"GRADE\": \"B\", \"count\": 8}, {\"CUISINE DESCRIPTION\": \"Caribbean\", \"GRADE\": \"A\", \"count\": 4375}, {\"CUISINE DESCRIPTION\": \"Caribbean\", \"GRADE\": \"B\", \"count\": 1164}, {\"CUISINE DESCRIPTION\": \"Caribbean\", \"GRADE\": \"C\", \"count\": 582}, {\"CUISINE DESCRIPTION\": \"Caribbean\", \"GRADE\": \"N\", \"count\": 44}, {\"CUISINE DESCRIPTION\": \"Caribbean\", \"GRADE\": \"P\", \"count\": 124}, {\"CUISINE DESCRIPTION\": \"Caribbean\", \"GRADE\": \"Z\", \"count\": 191}, {\"CUISINE DESCRIPTION\": \"Chicken\", \"GRADE\": \"A\", \"count\": 3121}, {\"CUISINE DESCRIPTION\": \"Chicken\", \"GRADE\": \"B\", \"count\": 430}, {\"CUISINE DESCRIPTION\": \"Chicken\", \"GRADE\": \"C\", \"count\": 187}, {\"CUISINE DESCRIPTION\": \"Chicken\", \"GRADE\": \"N\", \"count\": 68}, {\"CUISINE DESCRIPTION\": \"Chicken\", \"GRADE\": \"P\", \"count\": 58}, {\"CUISINE DESCRIPTION\": \"Chicken\", \"GRADE\": \"Z\", \"count\": 55}, {\"CUISINE DESCRIPTION\": \"Chilean\", \"GRADE\": \"A\", \"count\": 12}, {\"CUISINE DESCRIPTION\": \"Chilean\", \"GRADE\": \"P\", \"count\": 1}, {\"CUISINE DESCRIPTION\": \"Chilean\", \"GRADE\": \"Z\", \"count\": 6}, {\"CUISINE DESCRIPTION\": \"Chinese\", \"GRADE\": \"A\", \"count\": 15051}, {\"CUISINE DESCRIPTION\": \"Chinese\", \"GRADE\": \"B\", \"count\": 3290}, {\"CUISINE DESCRIPTION\": \"Chinese\", \"GRADE\": \"C\", \"count\": 1141}, {\"CUISINE DESCRIPTION\": \"Chinese\", \"GRADE\": \"N\", \"count\": 244}, {\"CUISINE DESCRIPTION\": \"Chinese\", \"GRADE\": \"P\", \"count\": 442}, {\"CUISINE DESCRIPTION\": \"Chinese\", \"GRADE\": \"Z\", \"count\": 372}, {\"CUISINE DESCRIPTION\": \"Chinese/Cuban\", \"GRADE\": \"A\", \"count\": 106}, {\"CUISINE DESCRIPTION\": \"Chinese/Cuban\", \"GRADE\": \"B\", \"count\": 58}, {\"CUISINE DESCRIPTION\": \"Chinese/Cuban\", \"GRADE\": \"C\", \"count\": 16}, {\"CUISINE DESCRIPTION\": \"Chinese/Cuban\", \"GRADE\": \"P\", \"count\": 4}, {\"CUISINE DESCRIPTION\": \"Chinese/Cuban\", \"GRADE\": \"Z\", \"count\": 3}, {\"CUISINE DESCRIPTION\": \"Chinese/Japanese\", \"GRADE\": \"A\", \"count\": 290}, {\"CUISINE DESCRIPTION\": \"Chinese/Japanese\", \"GRADE\": \"B\", \"count\": 94}, {\"CUISINE DESCRIPTION\": \"Chinese/Japanese\", \"GRADE\": \"C\", \"count\": 14}, {\"CUISINE DESCRIPTION\": \"Chinese/Japanese\", \"GRADE\": \"P\", \"count\": 9}, {\"CUISINE DESCRIPTION\": \"Chinese/Japanese\", \"GRADE\": \"Z\", \"count\": 11}, {\"CUISINE DESCRIPTION\": \"Continental\", \"GRADE\": \"A\", \"count\": 292}, {\"CUISINE DESCRIPTION\": \"Continental\", \"GRADE\": \"B\", \"count\": 32}, {\"CUISINE DESCRIPTION\": \"Continental\", \"GRADE\": \"N\", \"count\": 5}, {\"CUISINE DESCRIPTION\": \"Continental\", \"GRADE\": \"P\", \"count\": 1}, {\"CUISINE DESCRIPTION\": \"Continental\", \"GRADE\": \"Z\", \"count\": 1}, {\"CUISINE DESCRIPTION\": \"Creole\", \"GRADE\": \"A\", \"count\": 131}, {\"CUISINE DESCRIPTION\": \"Creole\", \"GRADE\": \"B\", \"count\": 38}, {\"CUISINE DESCRIPTION\": \"Creole\", \"GRADE\": \"C\", \"count\": 33}, {\"CUISINE DESCRIPTION\": \"Creole\", \"GRADE\": \"P\", \"count\": 6}, {\"CUISINE DESCRIPTION\": \"Creole\", \"GRADE\": \"Z\", \"count\": 11}, {\"CUISINE DESCRIPTION\": \"Creole/Cajun\", \"GRADE\": \"A\", \"count\": 29}, {\"CUISINE DESCRIPTION\": \"Creole/Cajun\", \"GRADE\": \"B\", \"count\": 17}, {\"CUISINE DESCRIPTION\": \"Creole/Cajun\", \"GRADE\": \"C\", \"count\": 13}, {\"CUISINE DESCRIPTION\": \"Creole/Cajun\", \"GRADE\": \"P\", \"count\": 1}, {\"CUISINE DESCRIPTION\": \"Creole/Cajun\", \"GRADE\": \"Z\", \"count\": 3}, {\"CUISINE DESCRIPTION\": \"Czech\", \"GRADE\": \"A\", \"count\": 26}, {\"CUISINE DESCRIPTION\": \"Delicatessen\", \"GRADE\": \"A\", \"count\": 2107}, {\"CUISINE DESCRIPTION\": \"Delicatessen\", \"GRADE\": \"B\", \"count\": 547}, {\"CUISINE DESCRIPTION\": \"Delicatessen\", \"GRADE\": \"C\", \"count\": 249}, {\"CUISINE DESCRIPTION\": \"Delicatessen\", \"GRADE\": \"N\", \"count\": 31}, {\"CUISINE DESCRIPTION\": \"Delicatessen\", \"GRADE\": \"P\", \"count\": 54}, {\"CUISINE DESCRIPTION\": \"Delicatessen\", \"GRADE\": \"Z\", \"count\": 66}, {\"CUISINE DESCRIPTION\": \"Donuts\", \"GRADE\": \"A\", \"count\": 3359}, {\"CUISINE DESCRIPTION\": \"Donuts\", \"GRADE\": \"B\", \"count\": 114}, {\"CUISINE DESCRIPTION\": \"Donuts\", \"GRADE\": \"C\", \"count\": 24}, {\"CUISINE DESCRIPTION\": \"Donuts\", \"GRADE\": \"N\", \"count\": 1}, {\"CUISINE DESCRIPTION\": \"Donuts\", \"GRADE\": \"P\", \"count\": 17}, {\"CUISINE DESCRIPTION\": \"Donuts\", \"GRADE\": \"Z\", \"count\": 13}, {\"CUISINE DESCRIPTION\": \"Eastern European\", \"GRADE\": \"A\", \"count\": 487}, {\"CUISINE DESCRIPTION\": \"Eastern European\", \"GRADE\": \"B\", \"count\": 96}, {\"CUISINE DESCRIPTION\": \"Eastern European\", \"GRADE\": \"C\", \"count\": 30}, {\"CUISINE DESCRIPTION\": \"Eastern European\", \"GRADE\": \"P\", \"count\": 9}, {\"CUISINE DESCRIPTION\": \"Eastern European\", \"GRADE\": \"Z\", \"count\": 7}, {\"CUISINE DESCRIPTION\": \"Egyptian\", \"GRADE\": \"A\", \"count\": 63}, {\"CUISINE DESCRIPTION\": \"Egyptian\", \"GRADE\": \"B\", \"count\": 10}, {\"CUISINE DESCRIPTION\": \"Egyptian\", \"GRADE\": \"C\", \"count\": 16}, {\"CUISINE DESCRIPTION\": \"Egyptian\", \"GRADE\": \"P\", \"count\": 1}, {\"CUISINE DESCRIPTION\": \"Egyptian\", \"GRADE\": \"Z\", \"count\": 6}, {\"CUISINE DESCRIPTION\": \"English\", \"GRADE\": \"A\", \"count\": 107}, {\"CUISINE DESCRIPTION\": \"English\", \"GRADE\": \"B\", \"count\": 11}, {\"CUISINE DESCRIPTION\": \"English\", \"GRADE\": \"C\", \"count\": 4}, {\"CUISINE DESCRIPTION\": \"Ethiopian\", \"GRADE\": \"A\", \"count\": 92}, {\"CUISINE DESCRIPTION\": \"Ethiopian\", \"GRADE\": \"B\", \"count\": 19}, {\"CUISINE DESCRIPTION\": \"Ethiopian\", \"GRADE\": \"Z\", \"count\": 2}, {\"CUISINE DESCRIPTION\": \"Filipino\", \"GRADE\": \"A\", \"count\": 199}, {\"CUISINE DESCRIPTION\": \"Filipino\", \"GRADE\": \"B\", \"count\": 50}, {\"CUISINE DESCRIPTION\": \"Filipino\", \"GRADE\": \"C\", \"count\": 12}, {\"CUISINE DESCRIPTION\": \"Filipino\", \"GRADE\": \"N\", \"count\": 4}, {\"CUISINE DESCRIPTION\": \"Filipino\", \"GRADE\": \"P\", \"count\": 7}, {\"CUISINE DESCRIPTION\": \"Filipino\", \"GRADE\": \"Z\", \"count\": 6}, {\"CUISINE DESCRIPTION\": \"French\", \"GRADE\": \"A\", \"count\": 2024}, {\"CUISINE DESCRIPTION\": \"French\", \"GRADE\": \"B\", \"count\": 244}, {\"CUISINE DESCRIPTION\": \"French\", \"GRADE\": \"C\", \"count\": 57}, {\"CUISINE DESCRIPTION\": \"French\", \"GRADE\": \"N\", \"count\": 16}, {\"CUISINE DESCRIPTION\": \"French\", \"GRADE\": \"P\", \"count\": 21}, {\"CUISINE DESCRIPTION\": \"French\", \"GRADE\": \"Z\", \"count\": 36}, {\"CUISINE DESCRIPTION\": \"Fruits/Vegetables\", \"GRADE\": \"A\", \"count\": 37}, {\"CUISINE DESCRIPTION\": \"Fruits/Vegetables\", \"GRADE\": \"B\", \"count\": 3}, {\"CUISINE DESCRIPTION\": \"German\", \"GRADE\": \"A\", \"count\": 192}, {\"CUISINE DESCRIPTION\": \"German\", \"GRADE\": \"B\", \"count\": 20}, {\"CUISINE DESCRIPTION\": \"German\", \"GRADE\": \"C\", \"count\": 7}, {\"CUISINE DESCRIPTION\": \"German\", \"GRADE\": \"P\", \"count\": 6}, {\"CUISINE DESCRIPTION\": \"Greek\", \"GRADE\": \"A\", \"count\": 966}, {\"CUISINE DESCRIPTION\": \"Greek\", \"GRADE\": \"B\", \"count\": 105}, {\"CUISINE DESCRIPTION\": \"Greek\", \"GRADE\": \"C\", \"count\": 35}, {\"CUISINE DESCRIPTION\": \"Greek\", \"GRADE\": \"N\", \"count\": 15}, {\"CUISINE DESCRIPTION\": \"Greek\", \"GRADE\": \"P\", \"count\": 5}, {\"CUISINE DESCRIPTION\": \"Greek\", \"GRADE\": \"Z\", \"count\": 27}, {\"CUISINE DESCRIPTION\": \"Hamburgers\", \"GRADE\": \"A\", \"count\": 2486}, {\"CUISINE DESCRIPTION\": \"Hamburgers\", \"GRADE\": \"B\", \"count\": 160}, {\"CUISINE DESCRIPTION\": \"Hamburgers\", \"GRADE\": \"C\", \"count\": 60}, {\"CUISINE DESCRIPTION\": \"Hamburgers\", \"GRADE\": \"N\", \"count\": 8}, {\"CUISINE DESCRIPTION\": \"Hamburgers\", \"GRADE\": \"P\", \"count\": 21}, {\"CUISINE DESCRIPTION\": \"Hamburgers\", \"GRADE\": \"Z\", \"count\": 7}, {\"CUISINE DESCRIPTION\": \"Hawaiian\", \"GRADE\": \"A\", \"count\": 238}, {\"CUISINE DESCRIPTION\": \"Hawaiian\", \"GRADE\": \"B\", \"count\": 29}, {\"CUISINE DESCRIPTION\": \"Hawaiian\", \"GRADE\": \"C\", \"count\": 14}, {\"CUISINE DESCRIPTION\": \"Hawaiian\", \"GRADE\": \"N\", \"count\": 12}, {\"CUISINE DESCRIPTION\": \"Hawaiian\", \"GRADE\": \"P\", \"count\": 6}, {\"CUISINE DESCRIPTION\": \"Hawaiian\", \"GRADE\": \"Z\", \"count\": 4}, {\"CUISINE DESCRIPTION\": \"Hotdogs\", \"GRADE\": \"A\", \"count\": 133}, {\"CUISINE DESCRIPTION\": \"Hotdogs\", \"GRADE\": \"N\", \"count\": 4}, {\"CUISINE DESCRIPTION\": \"Hotdogs\", \"GRADE\": \"P\", \"count\": 1}, {\"CUISINE DESCRIPTION\": \"Hotdogs/Pretzels\", \"GRADE\": \"A\", \"count\": 131}, {\"CUISINE DESCRIPTION\": \"Hotdogs/Pretzels\", \"GRADE\": \"B\", \"count\": 18}, {\"CUISINE DESCRIPTION\": \"Hotdogs/Pretzels\", \"GRADE\": \"C\", \"count\": 9}, {\"CUISINE DESCRIPTION\": \"Hotdogs/Pretzels\", \"GRADE\": \"P\", \"count\": 1}, {\"CUISINE DESCRIPTION\": \"Hotdogs/Pretzels\", \"GRADE\": \"Z\", \"count\": 5}, {\"CUISINE DESCRIPTION\": \"Ice Cream, Gelato, Yogurt, Ices\", \"GRADE\": \"A\", \"count\": 1708}, {\"CUISINE DESCRIPTION\": \"Ice Cream, Gelato, Yogurt, Ices\", \"GRADE\": \"B\", \"count\": 122}, {\"CUISINE DESCRIPTION\": \"Ice Cream, Gelato, Yogurt, Ices\", \"GRADE\": \"C\", \"count\": 26}, {\"CUISINE DESCRIPTION\": \"Ice Cream, Gelato, Yogurt, Ices\", \"GRADE\": \"N\", \"count\": 34}, {\"CUISINE DESCRIPTION\": \"Ice Cream, Gelato, Yogurt, Ices\", \"GRADE\": \"P\", \"count\": 9}, {\"CUISINE DESCRIPTION\": \"Ice Cream, Gelato, Yogurt, Ices\", \"GRADE\": \"Z\", \"count\": 22}, {\"CUISINE DESCRIPTION\": \"Indian\", \"GRADE\": \"A\", \"count\": 2005}, {\"CUISINE DESCRIPTION\": \"Indian\", \"GRADE\": \"B\", \"count\": 524}, {\"CUISINE DESCRIPTION\": \"Indian\", \"GRADE\": \"C\", \"count\": 298}, {\"CUISINE DESCRIPTION\": \"Indian\", \"GRADE\": \"N\", \"count\": 55}, {\"CUISINE DESCRIPTION\": \"Indian\", \"GRADE\": \"P\", \"count\": 75}, {\"CUISINE DESCRIPTION\": \"Indian\", \"GRADE\": \"Z\", \"count\": 107}, {\"CUISINE DESCRIPTION\": \"Indonesian\", \"GRADE\": \"A\", \"count\": 54}, {\"CUISINE DESCRIPTION\": \"Indonesian\", \"GRADE\": \"B\", \"count\": 7}, {\"CUISINE DESCRIPTION\": \"Indonesian\", \"GRADE\": \"N\", \"count\": 4}, {\"CUISINE DESCRIPTION\": \"Iranian\", \"GRADE\": \"A\", \"count\": 24}, {\"CUISINE DESCRIPTION\": \"Iranian\", \"GRADE\": \"B\", \"count\": 3}, {\"CUISINE DESCRIPTION\": \"Iranian\", \"GRADE\": \"C\", \"count\": 4}, {\"CUISINE DESCRIPTION\": \"Iranian\", \"GRADE\": \"Z\", \"count\": 5}, {\"CUISINE DESCRIPTION\": \"Irish\", \"GRADE\": \"A\", \"count\": 1521}, {\"CUISINE DESCRIPTION\": \"Irish\", \"GRADE\": \"B\", \"count\": 180}, {\"CUISINE DESCRIPTION\": \"Irish\", \"GRADE\": \"C\", \"count\": 78}, {\"CUISINE DESCRIPTION\": \"Irish\", \"GRADE\": \"P\", \"count\": 5}, {\"CUISINE DESCRIPTION\": \"Irish\", \"GRADE\": \"Z\", \"count\": 15}, {\"CUISINE DESCRIPTION\": \"Italian\", \"GRADE\": \"A\", \"count\": 6595}, {\"CUISINE DESCRIPTION\": \"Italian\", \"GRADE\": \"B\", \"count\": 943}, {\"CUISINE DESCRIPTION\": \"Italian\", \"GRADE\": \"C\", \"count\": 344}, {\"CUISINE DESCRIPTION\": \"Italian\", \"GRADE\": \"N\", \"count\": 76}, {\"CUISINE DESCRIPTION\": \"Italian\", \"GRADE\": \"P\", \"count\": 81}, {\"CUISINE DESCRIPTION\": \"Italian\", \"GRADE\": \"Z\", \"count\": 61}, {\"CUISINE DESCRIPTION\": \"Japanese\", \"GRADE\": \"A\", \"count\": 5361}, {\"CUISINE DESCRIPTION\": \"Japanese\", \"GRADE\": \"B\", \"count\": 1040}, {\"CUISINE DESCRIPTION\": \"Japanese\", \"GRADE\": \"C\", \"count\": 318}, {\"CUISINE DESCRIPTION\": \"Japanese\", \"GRADE\": \"N\", \"count\": 118}, {\"CUISINE DESCRIPTION\": \"Japanese\", \"GRADE\": \"P\", \"count\": 94}, {\"CUISINE DESCRIPTION\": \"Japanese\", \"GRADE\": \"Z\", \"count\": 154}, {\"CUISINE DESCRIPTION\": \"Jewish/Kosher\", \"GRADE\": \"A\", \"count\": 2157}, {\"CUISINE DESCRIPTION\": \"Jewish/Kosher\", \"GRADE\": \"B\", \"count\": 361}, {\"CUISINE DESCRIPTION\": \"Jewish/Kosher\", \"GRADE\": \"C\", \"count\": 177}, {\"CUISINE DESCRIPTION\": \"Jewish/Kosher\", \"GRADE\": \"N\", \"count\": 30}, {\"CUISINE DESCRIPTION\": \"Jewish/Kosher\", \"GRADE\": \"P\", \"count\": 46}, {\"CUISINE DESCRIPTION\": \"Jewish/Kosher\", \"GRADE\": \"Z\", \"count\": 74}, {\"CUISINE DESCRIPTION\": \"Juice, Smoothies, Fruit Salads\", \"GRADE\": \"A\", \"count\": 2127}, {\"CUISINE DESCRIPTION\": \"Juice, Smoothies, Fruit Salads\", \"GRADE\": \"B\", \"count\": 202}, {\"CUISINE DESCRIPTION\": \"Juice, Smoothies, Fruit Salads\", \"GRADE\": \"C\", \"count\": 110}, {\"CUISINE DESCRIPTION\": \"Juice, Smoothies, Fruit Salads\", \"GRADE\": \"N\", \"count\": 62}, {\"CUISINE DESCRIPTION\": \"Juice, Smoothies, Fruit Salads\", \"GRADE\": \"P\", \"count\": 26}, {\"CUISINE DESCRIPTION\": \"Juice, Smoothies, Fruit Salads\", \"GRADE\": \"Z\", \"count\": 41}, {\"CUISINE DESCRIPTION\": \"Korean\", \"GRADE\": \"A\", \"count\": 1784}, {\"CUISINE DESCRIPTION\": \"Korean\", \"GRADE\": \"B\", \"count\": 468}, {\"CUISINE DESCRIPTION\": \"Korean\", \"GRADE\": \"C\", \"count\": 130}, {\"CUISINE DESCRIPTION\": \"Korean\", \"GRADE\": \"N\", \"count\": 61}, {\"CUISINE DESCRIPTION\": \"Korean\", \"GRADE\": \"P\", \"count\": 27}, {\"CUISINE DESCRIPTION\": \"Korean\", \"GRADE\": \"Z\", \"count\": 50}, {\"CUISINE DESCRIPTION\": \"Latin (Cuban, Dominican, Puerto Rican, South & Central American)\", \"GRADE\": \"A\", \"count\": 5614}, {\"CUISINE DESCRIPTION\": \"Latin (Cuban, Dominican, Puerto Rican, South & Central American)\", \"GRADE\": \"B\", \"count\": 1490}, {\"CUISINE DESCRIPTION\": \"Latin (Cuban, Dominican, Puerto Rican, South & Central American)\", \"GRADE\": \"C\", \"count\": 528}, {\"CUISINE DESCRIPTION\": \"Latin (Cuban, Dominican, Puerto Rican, South & Central American)\", \"GRADE\": \"N\", \"count\": 59}, {\"CUISINE DESCRIPTION\": \"Latin (Cuban, Dominican, Puerto Rican, South & Central American)\", \"GRADE\": \"P\", \"count\": 140}, {\"CUISINE DESCRIPTION\": \"Latin (Cuban, Dominican, Puerto Rican, South & Central American)\", \"GRADE\": \"Z\", \"count\": 185}, {\"CUISINE DESCRIPTION\": \"Mediterranean\", \"GRADE\": \"A\", \"count\": 1715}, {\"CUISINE DESCRIPTION\": \"Mediterranean\", \"GRADE\": \"B\", \"count\": 201}, {\"CUISINE DESCRIPTION\": \"Mediterranean\", \"GRADE\": \"C\", \"count\": 93}, {\"CUISINE DESCRIPTION\": \"Mediterranean\", \"GRADE\": \"N\", \"count\": 42}, {\"CUISINE DESCRIPTION\": \"Mediterranean\", \"GRADE\": \"P\", \"count\": 30}, {\"CUISINE DESCRIPTION\": \"Mediterranean\", \"GRADE\": \"Z\", \"count\": 24}, {\"CUISINE DESCRIPTION\": \"Mexican\", \"GRADE\": \"A\", \"count\": 6075}, {\"CUISINE DESCRIPTION\": \"Mexican\", \"GRADE\": \"B\", \"count\": 1209}, {\"CUISINE DESCRIPTION\": \"Mexican\", \"GRADE\": \"C\", \"count\": 448}, {\"CUISINE DESCRIPTION\": \"Mexican\", \"GRADE\": \"G\", \"count\": 1}, {\"CUISINE DESCRIPTION\": \"Mexican\", \"GRADE\": \"N\", \"count\": 156}, {\"CUISINE DESCRIPTION\": \"Mexican\", \"GRADE\": \"P\", \"count\": 92}, {\"CUISINE DESCRIPTION\": \"Mexican\", \"GRADE\": \"Z\", \"count\": 116}, {\"CUISINE DESCRIPTION\": \"Middle Eastern\", \"GRADE\": \"A\", \"count\": 1122}, {\"CUISINE DESCRIPTION\": \"Middle Eastern\", \"GRADE\": \"B\", \"count\": 188}, {\"CUISINE DESCRIPTION\": \"Middle Eastern\", \"GRADE\": \"C\", \"count\": 38}, {\"CUISINE DESCRIPTION\": \"Middle Eastern\", \"GRADE\": \"N\", \"count\": 23}, {\"CUISINE DESCRIPTION\": \"Middle Eastern\", \"GRADE\": \"P\", \"count\": 19}, {\"CUISINE DESCRIPTION\": \"Middle Eastern\", \"GRADE\": \"Z\", \"count\": 20}, {\"CUISINE DESCRIPTION\": \"Moroccan\", \"GRADE\": \"A\", \"count\": 48}, {\"CUISINE DESCRIPTION\": \"Moroccan\", \"GRADE\": \"B\", \"count\": 19}, {\"CUISINE DESCRIPTION\": \"Moroccan\", \"GRADE\": \"C\", \"count\": 10}, {\"CUISINE DESCRIPTION\": \"Moroccan\", \"GRADE\": \"Z\", \"count\": 10}, {\"CUISINE DESCRIPTION\": \"Not Listed/Not Applicable\", \"GRADE\": \"A\", \"count\": 41}, {\"CUISINE DESCRIPTION\": \"Not Listed/Not Applicable\", \"GRADE\": \"B\", \"count\": 4}, {\"CUISINE DESCRIPTION\": \"Not Listed/Not Applicable\", \"GRADE\": \"Z\", \"count\": 5}, {\"CUISINE DESCRIPTION\": \"Nuts/Confectionary\", \"GRADE\": \"A\", \"count\": 32}, {\"CUISINE DESCRIPTION\": \"Other\", \"GRADE\": \"A\", \"count\": 732}, {\"CUISINE DESCRIPTION\": \"Other\", \"GRADE\": \"B\", \"count\": 47}, {\"CUISINE DESCRIPTION\": \"Other\", \"GRADE\": \"C\", \"count\": 4}, {\"CUISINE DESCRIPTION\": \"Other\", \"GRADE\": \"N\", \"count\": 94}, {\"CUISINE DESCRIPTION\": \"Other\", \"GRADE\": \"P\", \"count\": 4}, {\"CUISINE DESCRIPTION\": \"Other\", \"GRADE\": \"Z\", \"count\": 16}, {\"CUISINE DESCRIPTION\": \"Pakistani\", \"GRADE\": \"A\", \"count\": 212}, {\"CUISINE DESCRIPTION\": \"Pakistani\", \"GRADE\": \"B\", \"count\": 44}, {\"CUISINE DESCRIPTION\": \"Pakistani\", \"GRADE\": \"C\", \"count\": 21}, {\"CUISINE DESCRIPTION\": \"Pakistani\", \"GRADE\": \"P\", \"count\": 4}, {\"CUISINE DESCRIPTION\": \"Pakistani\", \"GRADE\": \"Z\", \"count\": 15}, {\"CUISINE DESCRIPTION\": \"Pancakes/Waffles\", \"GRADE\": \"A\", \"count\": 119}, {\"CUISINE DESCRIPTION\": \"Pancakes/Waffles\", \"GRADE\": \"B\", \"count\": 9}, {\"CUISINE DESCRIPTION\": \"Pancakes/Waffles\", \"GRADE\": \"P\", \"count\": 2}, {\"CUISINE DESCRIPTION\": \"Peruvian\", \"GRADE\": \"A\", \"count\": 546}, {\"CUISINE DESCRIPTION\": \"Peruvian\", \"GRADE\": \"B\", \"count\": 161}, {\"CUISINE DESCRIPTION\": \"Peruvian\", \"GRADE\": \"C\", \"count\": 90}, {\"CUISINE DESCRIPTION\": \"Peruvian\", \"GRADE\": \"N\", \"count\": 14}, {\"CUISINE DESCRIPTION\": \"Peruvian\", \"GRADE\": \"P\", \"count\": 11}, {\"CUISINE DESCRIPTION\": \"Peruvian\", \"GRADE\": \"Z\", \"count\": 19}, {\"CUISINE DESCRIPTION\": \"Pizza\", \"GRADE\": \"A\", \"count\": 7129}, {\"CUISINE DESCRIPTION\": \"Pizza\", \"GRADE\": \"B\", \"count\": 1081}, {\"CUISINE DESCRIPTION\": \"Pizza\", \"GRADE\": \"C\", \"count\": 324}, {\"CUISINE DESCRIPTION\": \"Pizza\", \"GRADE\": \"N\", \"count\": 88}, {\"CUISINE DESCRIPTION\": \"Pizza\", \"GRADE\": \"P\", \"count\": 143}, {\"CUISINE DESCRIPTION\": \"Pizza\", \"GRADE\": \"Z\", \"count\": 117}, {\"CUISINE DESCRIPTION\": \"Pizza/Italian\", \"GRADE\": \"A\", \"count\": 3118}, {\"CUISINE DESCRIPTION\": \"Pizza/Italian\", \"GRADE\": \"B\", \"count\": 556}, {\"CUISINE DESCRIPTION\": \"Pizza/Italian\", \"GRADE\": \"C\", \"count\": 214}, {\"CUISINE DESCRIPTION\": \"Pizza/Italian\", \"GRADE\": \"N\", \"count\": 16}, {\"CUISINE DESCRIPTION\": \"Pizza/Italian\", \"GRADE\": \"P\", \"count\": 52}, {\"CUISINE DESCRIPTION\": \"Pizza/Italian\", \"GRADE\": \"Z\", \"count\": 71}, {\"CUISINE DESCRIPTION\": \"Polish\", \"GRADE\": \"A\", \"count\": 162}, {\"CUISINE DESCRIPTION\": \"Polish\", \"GRADE\": \"B\", \"count\": 41}, {\"CUISINE DESCRIPTION\": \"Polish\", \"GRADE\": \"C\", \"count\": 8}, {\"CUISINE DESCRIPTION\": \"Polish\", \"GRADE\": \"P\", \"count\": 8}, {\"CUISINE DESCRIPTION\": \"Polish\", \"GRADE\": \"Z\", \"count\": 5}, {\"CUISINE DESCRIPTION\": \"Portuguese\", \"GRADE\": \"A\", \"count\": 74}, {\"CUISINE DESCRIPTION\": \"Portuguese\", \"GRADE\": \"B\", \"count\": 4}, {\"CUISINE DESCRIPTION\": \"Portuguese\", \"GRADE\": \"C\", \"count\": 4}, {\"CUISINE DESCRIPTION\": \"Portuguese\", \"GRADE\": \"P\", \"count\": 2}, {\"CUISINE DESCRIPTION\": \"Russian\", \"GRADE\": \"A\", \"count\": 446}, {\"CUISINE DESCRIPTION\": \"Russian\", \"GRADE\": \"B\", \"count\": 53}, {\"CUISINE DESCRIPTION\": \"Russian\", \"GRADE\": \"C\", \"count\": 28}, {\"CUISINE DESCRIPTION\": \"Russian\", \"GRADE\": \"N\", \"count\": 4}, {\"CUISINE DESCRIPTION\": \"Russian\", \"GRADE\": \"P\", \"count\": 9}, {\"CUISINE DESCRIPTION\": \"Russian\", \"GRADE\": \"Z\", \"count\": 25}, {\"CUISINE DESCRIPTION\": \"Salads\", \"GRADE\": \"A\", \"count\": 531}, {\"CUISINE DESCRIPTION\": \"Salads\", \"GRADE\": \"B\", \"count\": 14}, {\"CUISINE DESCRIPTION\": \"Salads\", \"GRADE\": \"C\", \"count\": 6}, {\"CUISINE DESCRIPTION\": \"Salads\", \"GRADE\": \"N\", \"count\": 22}, {\"CUISINE DESCRIPTION\": \"Salads\", \"GRADE\": \"P\", \"count\": 3}, {\"CUISINE DESCRIPTION\": \"Salads\", \"GRADE\": \"Z\", \"count\": 3}, {\"CUISINE DESCRIPTION\": \"Sandwiches\", \"GRADE\": \"A\", \"count\": 2185}, {\"CUISINE DESCRIPTION\": \"Sandwiches\", \"GRADE\": \"B\", \"count\": 147}, {\"CUISINE DESCRIPTION\": \"Sandwiches\", \"GRADE\": \"C\", \"count\": 66}, {\"CUISINE DESCRIPTION\": \"Sandwiches\", \"GRADE\": \"N\", \"count\": 6}, {\"CUISINE DESCRIPTION\": \"Sandwiches\", \"GRADE\": \"P\", \"count\": 29}, {\"CUISINE DESCRIPTION\": \"Sandwiches\", \"GRADE\": \"Z\", \"count\": 11}, {\"CUISINE DESCRIPTION\": \"Sandwiches/Salads/Mixed Buffet\", \"GRADE\": \"A\", \"count\": 1464}, {\"CUISINE DESCRIPTION\": \"Sandwiches/Salads/Mixed Buffet\", \"GRADE\": \"B\", \"count\": 92}, {\"CUISINE DESCRIPTION\": \"Sandwiches/Salads/Mixed Buffet\", \"GRADE\": \"C\", \"count\": 30}, {\"CUISINE DESCRIPTION\": \"Sandwiches/Salads/Mixed Buffet\", \"GRADE\": \"N\", \"count\": 14}, {\"CUISINE DESCRIPTION\": \"Sandwiches/Salads/Mixed Buffet\", \"GRADE\": \"P\", \"count\": 16}, {\"CUISINE DESCRIPTION\": \"Sandwiches/Salads/Mixed Buffet\", \"GRADE\": \"Z\", \"count\": 10}, {\"CUISINE DESCRIPTION\": \"Scandinavian\", \"GRADE\": \"A\", \"count\": 31}, {\"CUISINE DESCRIPTION\": \"Scandinavian\", \"GRADE\": \"B\", \"count\": 4}, {\"CUISINE DESCRIPTION\": \"Seafood\", \"GRADE\": \"A\", \"count\": 1230}, {\"CUISINE DESCRIPTION\": \"Seafood\", \"GRADE\": \"B\", \"count\": 160}, {\"CUISINE DESCRIPTION\": \"Seafood\", \"GRADE\": \"C\", \"count\": 56}, {\"CUISINE DESCRIPTION\": \"Seafood\", \"GRADE\": \"N\", \"count\": 27}, {\"CUISINE DESCRIPTION\": \"Seafood\", \"GRADE\": \"P\", \"count\": 22}, {\"CUISINE DESCRIPTION\": \"Seafood\", \"GRADE\": \"Z\", \"count\": 4}, {\"CUISINE DESCRIPTION\": \"Soul Food\", \"GRADE\": \"A\", \"count\": 365}, {\"CUISINE DESCRIPTION\": \"Soul Food\", \"GRADE\": \"B\", \"count\": 117}, {\"CUISINE DESCRIPTION\": \"Soul Food\", \"GRADE\": \"C\", \"count\": 25}, {\"CUISINE DESCRIPTION\": \"Soul Food\", \"GRADE\": \"N\", \"count\": 16}, {\"CUISINE DESCRIPTION\": \"Soul Food\", \"GRADE\": \"P\", \"count\": 9}, {\"CUISINE DESCRIPTION\": \"Soul Food\", \"GRADE\": \"Z\", \"count\": 7}, {\"CUISINE DESCRIPTION\": \"Soups\", \"GRADE\": \"A\", \"count\": 54}, {\"CUISINE DESCRIPTION\": \"Soups\", \"GRADE\": \"C\", \"count\": 13}, {\"CUISINE DESCRIPTION\": \"Soups\", \"GRADE\": \"Z\", \"count\": 5}, {\"CUISINE DESCRIPTION\": \"Soups & Sandwiches\", \"GRADE\": \"A\", \"count\": 279}, {\"CUISINE DESCRIPTION\": \"Soups & Sandwiches\", \"GRADE\": \"B\", \"count\": 23}, {\"CUISINE DESCRIPTION\": \"Soups & Sandwiches\", \"GRADE\": \"C\", \"count\": 9}, {\"CUISINE DESCRIPTION\": \"Soups & Sandwiches\", \"GRADE\": \"N\", \"count\": 8}, {\"CUISINE DESCRIPTION\": \"Soups & Sandwiches\", \"GRADE\": \"P\", \"count\": 5}, {\"CUISINE DESCRIPTION\": \"Soups & Sandwiches\", \"GRADE\": \"Z\", \"count\": 2}, {\"CUISINE DESCRIPTION\": \"Southwestern\", \"GRADE\": \"A\", \"count\": 19}, {\"CUISINE DESCRIPTION\": \"Southwestern\", \"GRADE\": \"B\", \"count\": 7}, {\"CUISINE DESCRIPTION\": \"Southwestern\", \"GRADE\": \"Z\", \"count\": 5}, {\"CUISINE DESCRIPTION\": \"Spanish\", \"GRADE\": \"A\", \"count\": 3713}, {\"CUISINE DESCRIPTION\": \"Spanish\", \"GRADE\": \"B\", \"count\": 1126}, {\"CUISINE DESCRIPTION\": \"Spanish\", \"GRADE\": \"C\", \"count\": 541}, {\"CUISINE DESCRIPTION\": \"Spanish\", \"GRADE\": \"N\", \"count\": 70}, {\"CUISINE DESCRIPTION\": \"Spanish\", \"GRADE\": \"P\", \"count\": 71}, {\"CUISINE DESCRIPTION\": \"Spanish\", \"GRADE\": \"Z\", \"count\": 140}, {\"CUISINE DESCRIPTION\": \"Steak\", \"GRADE\": \"A\", \"count\": 590}, {\"CUISINE DESCRIPTION\": \"Steak\", \"GRADE\": \"B\", \"count\": 45}, {\"CUISINE DESCRIPTION\": \"Steak\", \"GRADE\": \"C\", \"count\": 19}, {\"CUISINE DESCRIPTION\": \"Steak\", \"GRADE\": \"P\", \"count\": 5}, {\"CUISINE DESCRIPTION\": \"Steak\", \"GRADE\": \"Z\", \"count\": 4}, {\"CUISINE DESCRIPTION\": \"Tapas\", \"GRADE\": \"A\", \"count\": 221}, {\"CUISINE DESCRIPTION\": \"Tapas\", \"GRADE\": \"B\", \"count\": 22}, {\"CUISINE DESCRIPTION\": \"Tapas\", \"GRADE\": \"C\", \"count\": 3}, {\"CUISINE DESCRIPTION\": \"Tex-Mex\", \"GRADE\": \"A\", \"count\": 814}, {\"CUISINE DESCRIPTION\": \"Tex-Mex\", \"GRADE\": \"B\", \"count\": 112}, {\"CUISINE DESCRIPTION\": \"Tex-Mex\", \"GRADE\": \"C\", \"count\": 45}, {\"CUISINE DESCRIPTION\": \"Tex-Mex\", \"GRADE\": \"N\", \"count\": 13}, {\"CUISINE DESCRIPTION\": \"Tex-Mex\", \"GRADE\": \"P\", \"count\": 9}, {\"CUISINE DESCRIPTION\": \"Tex-Mex\", \"GRADE\": \"Z\", \"count\": 7}, {\"CUISINE DESCRIPTION\": \"Thai\", \"GRADE\": \"A\", \"count\": 1805}, {\"CUISINE DESCRIPTION\": \"Thai\", \"GRADE\": \"B\", \"count\": 442}, {\"CUISINE DESCRIPTION\": \"Thai\", \"GRADE\": \"C\", \"count\": 154}, {\"CUISINE DESCRIPTION\": \"Thai\", \"GRADE\": \"N\", \"count\": 39}, {\"CUISINE DESCRIPTION\": \"Thai\", \"GRADE\": \"P\", \"count\": 51}, {\"CUISINE DESCRIPTION\": \"Thai\", \"GRADE\": \"Z\", \"count\": 72}, {\"CUISINE DESCRIPTION\": \"Turkish\", \"GRADE\": \"A\", \"count\": 444}, {\"CUISINE DESCRIPTION\": \"Turkish\", \"GRADE\": \"B\", \"count\": 91}, {\"CUISINE DESCRIPTION\": \"Turkish\", \"GRADE\": \"C\", \"count\": 15}, {\"CUISINE DESCRIPTION\": \"Turkish\", \"GRADE\": \"P\", \"count\": 19}, {\"CUISINE DESCRIPTION\": \"Turkish\", \"GRADE\": \"Z\", \"count\": 22}, {\"CUISINE DESCRIPTION\": \"Vegetarian\", \"GRADE\": \"A\", \"count\": 759}, {\"CUISINE DESCRIPTION\": \"Vegetarian\", \"GRADE\": \"B\", \"count\": 113}, {\"CUISINE DESCRIPTION\": \"Vegetarian\", \"GRADE\": \"C\", \"count\": 72}, {\"CUISINE DESCRIPTION\": \"Vegetarian\", \"GRADE\": \"N\", \"count\": 16}, {\"CUISINE DESCRIPTION\": \"Vegetarian\", \"GRADE\": \"P\", \"count\": 5}, {\"CUISINE DESCRIPTION\": \"Vietnamese/Cambodian/Malaysia\", \"GRADE\": \"A\", \"count\": 645}, {\"CUISINE DESCRIPTION\": \"Vietnamese/Cambodian/Malaysia\", \"GRADE\": \"B\", \"count\": 150}, {\"CUISINE DESCRIPTION\": \"Vietnamese/Cambodian/Malaysia\", \"GRADE\": \"C\", \"count\": 83}, {\"CUISINE DESCRIPTION\": \"Vietnamese/Cambodian/Malaysia\", \"GRADE\": \"N\", \"count\": 7}, {\"CUISINE DESCRIPTION\": \"Vietnamese/Cambodian/Malaysia\", \"GRADE\": \"P\", \"count\": 13}, {\"CUISINE DESCRIPTION\": \"Vietnamese/Cambodian/Malaysia\", \"GRADE\": \"Z\", \"count\": 20}]}}, {\"mode\": \"vega-lite\"});\n",
       "</script>"
      ],
      "text/plain": [
       "alt.Chart(...)"
      ]
     },
     "execution_count": 40,
     "metadata": {},
     "output_type": "execute_result"
    }
   ],
   "source": [
    "dfboro= df[df['BORO']!='0'].groupby(['CUISINE DESCRIPTION','GRADE']).size()\n",
    "dfboro\n",
    "dfboro = dfboro.reset_index(name='count')\n",
    "alt.Chart(dfboro).mark_bar().encode(\n",
    "   x='GRADE:N',\n",
    "   y='count:Q',\n",
    "    color='GRADE:N',\n",
    "    column='CUISINE DESCRIPTION:N'\n",
    ")"
   ]
  },
  {
   "cell_type": "markdown",
   "metadata": {},
   "source": [
    "## Question 3: Top 10 BEST Restaurants In Each Borough (By number of 'A' occurences)"
   ]
  },
  {
   "cell_type": "code",
   "execution_count": 167,
   "metadata": {
    "scrolled": true
   },
   "outputs": [
    {
     "data": {
      "text/html": [
       "\n",
       "<div id=\"altair-viz-b00b1d65539f4801988fb35b14973948\"></div>\n",
       "<script type=\"text/javascript\">\n",
       "  (function(spec, embedOpt){\n",
       "    const outputDiv = document.getElementById(\"altair-viz-b00b1d65539f4801988fb35b14973948\");\n",
       "    const paths = {\n",
       "      \"vega\": \"https://cdn.jsdelivr.net/npm//vega@5?noext\",\n",
       "      \"vega-lib\": \"https://cdn.jsdelivr.net/npm//vega-lib?noext\",\n",
       "      \"vega-lite\": \"https://cdn.jsdelivr.net/npm//vega-lite@4.0.2?noext\",\n",
       "      \"vega-embed\": \"https://cdn.jsdelivr.net/npm//vega-embed@6?noext\",\n",
       "    };\n",
       "\n",
       "    function loadScript(lib) {\n",
       "      return new Promise(function(resolve, reject) {\n",
       "        var s = document.createElement('script');\n",
       "        s.src = paths[lib];\n",
       "        s.async = true;\n",
       "        s.onload = () => resolve(paths[lib]);\n",
       "        s.onerror = () => reject(`Error loading script: ${paths[lib]}`);\n",
       "        document.getElementsByTagName(\"head\")[0].appendChild(s);\n",
       "      });\n",
       "    }\n",
       "\n",
       "    function showError(err) {\n",
       "      outputDiv.innerHTML = `<div class=\"error\" style=\"color:red;\">${err}</div>`;\n",
       "      throw err;\n",
       "    }\n",
       "\n",
       "    function displayChart(vegaEmbed) {\n",
       "      vegaEmbed(outputDiv, spec, embedOpt)\n",
       "        .catch(err => showError(`Javascript Error: ${err.message}<br>This usually means there's a typo in your chart specification. See the javascript console for the full traceback.`));\n",
       "    }\n",
       "\n",
       "    if(typeof define === \"function\" && define.amd) {\n",
       "      requirejs.config({paths});\n",
       "      require([\"vega-embed\"], displayChart, err => showError(`Error loading script: ${err.message}`));\n",
       "    } else if (typeof vegaEmbed === \"function\") {\n",
       "      displayChart(vegaEmbed);\n",
       "    } else {\n",
       "      loadScript(\"vega\")\n",
       "        .then(() => loadScript(\"vega-lite\"))\n",
       "        .then(() => loadScript(\"vega-embed\"))\n",
       "        .catch(showError)\n",
       "        .then(() => displayChart(vegaEmbed));\n",
       "    }\n",
       "  })({\"config\": {\"view\": {\"continuousWidth\": 400, \"continuousHeight\": 300}}, \"data\": {\"name\": \"data-6237f08fa1a74709d95795a53976ce6f\"}, \"mark\": \"bar\", \"encoding\": {\"color\": {\"type\": \"nominal\", \"field\": \"DBA\"}, \"x\": {\"type\": \"nominal\", \"field\": \"DBA\"}, \"y\": {\"type\": \"quantitative\", \"field\": \"count\"}}, \"$schema\": \"https://vega.github.io/schema/vega-lite/v4.0.2.json\", \"datasets\": {\"data-6237f08fa1a74709d95795a53976ce6f\": [{\"DBA\": \"DUNKIN'\", \"count\": 796}, {\"DBA\": \"SUBWAY\", \"count\": 425}, {\"DBA\": \"MCDONALD'S\", \"count\": 336}, {\"DBA\": \"DUNKIN', BASKIN ROBBINS\", \"count\": 320}, {\"DBA\": \"STARBUCKS\", \"count\": 195}, {\"DBA\": \"BURGER KING\", \"count\": 185}, {\"DBA\": \"POPEYES\", \"count\": 145}, {\"DBA\": \"DOMINO'S\", \"count\": 94}, {\"DBA\": \"CROWN FRIED CHICKEN\", \"count\": 89}, {\"DBA\": \"KFC\", \"count\": 88}]}}, {\"mode\": \"vega-lite\"});\n",
       "</script>"
      ],
      "text/plain": [
       "alt.Chart(...)"
      ]
     },
     "execution_count": 167,
     "metadata": {},
     "output_type": "execute_result"
    }
   ],
   "source": [
    "dfbklyn = df[(df['GRADE'] == 'A') & (df['BORO'] =='Brooklyn')].groupby(['DBA']).size()\n",
    "dfbklyn = dfbklyn.reset_index(name='count').sort_values('count', ascending=False).head(10)\n",
    "alt.Chart(dfbklyn).mark_bar().encode(\n",
    "    x='DBA:N',\n",
    "    y='count:Q',\n",
    "        color='DBA:N'\n",
    ")\n",
    "\n",
    "# dfQueens = df[(df['GRADE'] == 'A') & (df['BORO'] =='Queens')].groupby(['DBA']).size()\n",
    "# dfQueens = dfQueens.reset_index(name='count').sort_values('count', ascending=False).head(10)\n",
    "# alt.Chart(dfQueens).mark_bar().encode(\n",
    "#     x='DBA:N',\n",
    "#     y='count:Q',\n",
    "#         color='DBA:N'\n",
    "# )\n",
    "\n",
    "\n",
    "# df1 = dfboro[dfboro['BORO']== 'BRONX']\n",
    "# dfboro = dfboro.reset_index(name='count')\n",
    "# dfboro = dfboro.sort_values('count', ascending=False)\n",
    "# dfboro\n",
    "# alt.Chart(dfboro).mark_bar().encode(\n",
    "#     x='DBA:N',\n",
    "#     y='count:Q',\n",
    "#         color='DBA:N',\n",
    "#         column='BORO:N'\n",
    "# )"
   ]
  },
  {
   "cell_type": "code",
   "execution_count": null,
   "metadata": {},
   "outputs": [],
   "source": []
  },
  {
   "cell_type": "code",
   "execution_count": null,
   "metadata": {},
   "outputs": [],
   "source": []
  },
  {
   "cell_type": "code",
   "execution_count": null,
   "metadata": {},
   "outputs": [],
   "source": []
  }
 ],
 "metadata": {
  "kernelspec": {
   "display_name": "Python 3",
   "language": "python",
   "name": "python3"
  },
  "language_info": {
   "codemirror_mode": {
    "name": "ipython",
    "version": 3
   },
   "file_extension": ".py",
   "mimetype": "text/x-python",
   "name": "python",
   "nbconvert_exporter": "python",
   "pygments_lexer": "ipython3",
   "version": "3.6.4"
  }
 },
 "nbformat": 4,
 "nbformat_minor": 4
}
