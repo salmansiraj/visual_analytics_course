{
 "cells": [
  {
   "cell_type": "code",
   "execution_count": 107,
   "metadata": {},
   "outputs": [],
   "source": [
    "import numpy as np\n",
    "import pandas as pd\n",
    "import seaborn as sns"
   ]
  },
  {
   "cell_type": "markdown",
   "metadata": {},
   "source": [
    "## Data Exploration"
   ]
  },
  {
   "cell_type": "code",
   "execution_count": 108,
   "metadata": {},
   "outputs": [],
   "source": [
    "df = pd.read_csv(\"./2019_nCoV_data_new.csv\")"
   ]
  },
  {
   "cell_type": "code",
   "execution_count": 109,
   "metadata": {},
   "outputs": [
    {
     "data": {
      "text/html": [
       "<div>\n",
       "<style scoped>\n",
       "    .dataframe tbody tr th:only-of-type {\n",
       "        vertical-align: middle;\n",
       "    }\n",
       "\n",
       "    .dataframe tbody tr th {\n",
       "        vertical-align: top;\n",
       "    }\n",
       "\n",
       "    .dataframe thead th {\n",
       "        text-align: right;\n",
       "    }\n",
       "</style>\n",
       "<table border=\"1\" class=\"dataframe\">\n",
       "  <thead>\n",
       "    <tr style=\"text-align: right;\">\n",
       "      <th></th>\n",
       "      <th>Sno</th>\n",
       "      <th>Date</th>\n",
       "      <th>Province/State</th>\n",
       "      <th>Country</th>\n",
       "      <th>Last Update</th>\n",
       "      <th>Confirmed</th>\n",
       "      <th>Deaths</th>\n",
       "      <th>Recovered</th>\n",
       "    </tr>\n",
       "  </thead>\n",
       "  <tbody>\n",
       "    <tr>\n",
       "      <th>0</th>\n",
       "      <td>1</td>\n",
       "      <td>1/22/2020 12:00</td>\n",
       "      <td>Anhui</td>\n",
       "      <td>China</td>\n",
       "      <td>1/22/2020 12:00</td>\n",
       "      <td>1.0</td>\n",
       "      <td>0.0</td>\n",
       "      <td>0.0</td>\n",
       "    </tr>\n",
       "    <tr>\n",
       "      <th>1</th>\n",
       "      <td>2</td>\n",
       "      <td>1/22/2020 12:00</td>\n",
       "      <td>Beijing</td>\n",
       "      <td>China</td>\n",
       "      <td>1/22/2020 12:00</td>\n",
       "      <td>14.0</td>\n",
       "      <td>0.0</td>\n",
       "      <td>0.0</td>\n",
       "    </tr>\n",
       "    <tr>\n",
       "      <th>2</th>\n",
       "      <td>3</td>\n",
       "      <td>1/22/2020 12:00</td>\n",
       "      <td>Chongqing</td>\n",
       "      <td>China</td>\n",
       "      <td>1/22/2020 12:00</td>\n",
       "      <td>6.0</td>\n",
       "      <td>0.0</td>\n",
       "      <td>0.0</td>\n",
       "    </tr>\n",
       "    <tr>\n",
       "      <th>3</th>\n",
       "      <td>4</td>\n",
       "      <td>1/22/2020 12:00</td>\n",
       "      <td>Fujian</td>\n",
       "      <td>China</td>\n",
       "      <td>1/22/2020 12:00</td>\n",
       "      <td>1.0</td>\n",
       "      <td>0.0</td>\n",
       "      <td>0.0</td>\n",
       "    </tr>\n",
       "    <tr>\n",
       "      <th>4</th>\n",
       "      <td>5</td>\n",
       "      <td>1/22/2020 12:00</td>\n",
       "      <td>Gansu</td>\n",
       "      <td>China</td>\n",
       "      <td>1/22/2020 12:00</td>\n",
       "      <td>0.0</td>\n",
       "      <td>0.0</td>\n",
       "      <td>0.0</td>\n",
       "    </tr>\n",
       "    <tr>\n",
       "      <th>5</th>\n",
       "      <td>6</td>\n",
       "      <td>1/22/2020 12:00</td>\n",
       "      <td>Guangdong</td>\n",
       "      <td>China</td>\n",
       "      <td>1/22/2020 12:00</td>\n",
       "      <td>26.0</td>\n",
       "      <td>0.0</td>\n",
       "      <td>0.0</td>\n",
       "    </tr>\n",
       "    <tr>\n",
       "      <th>6</th>\n",
       "      <td>7</td>\n",
       "      <td>1/22/2020 12:00</td>\n",
       "      <td>Guangxi</td>\n",
       "      <td>China</td>\n",
       "      <td>1/22/2020 12:00</td>\n",
       "      <td>2.0</td>\n",
       "      <td>0.0</td>\n",
       "      <td>0.0</td>\n",
       "    </tr>\n",
       "    <tr>\n",
       "      <th>7</th>\n",
       "      <td>8</td>\n",
       "      <td>1/22/2020 12:00</td>\n",
       "      <td>Guizhou</td>\n",
       "      <td>China</td>\n",
       "      <td>1/22/2020 12:00</td>\n",
       "      <td>1.0</td>\n",
       "      <td>0.0</td>\n",
       "      <td>0.0</td>\n",
       "    </tr>\n",
       "    <tr>\n",
       "      <th>8</th>\n",
       "      <td>9</td>\n",
       "      <td>1/22/2020 12:00</td>\n",
       "      <td>Hainan</td>\n",
       "      <td>China</td>\n",
       "      <td>1/22/2020 12:00</td>\n",
       "      <td>4.0</td>\n",
       "      <td>0.0</td>\n",
       "      <td>0.0</td>\n",
       "    </tr>\n",
       "    <tr>\n",
       "      <th>9</th>\n",
       "      <td>10</td>\n",
       "      <td>1/22/2020 12:00</td>\n",
       "      <td>Hebei</td>\n",
       "      <td>China</td>\n",
       "      <td>1/22/2020 12:00</td>\n",
       "      <td>1.0</td>\n",
       "      <td>0.0</td>\n",
       "      <td>0.0</td>\n",
       "    </tr>\n",
       "  </tbody>\n",
       "</table>\n",
       "</div>"
      ],
      "text/plain": [
       "   Sno             Date Province/State Country      Last Update  Confirmed  \\\n",
       "0    1  1/22/2020 12:00          Anhui   China  1/22/2020 12:00        1.0   \n",
       "1    2  1/22/2020 12:00        Beijing   China  1/22/2020 12:00       14.0   \n",
       "2    3  1/22/2020 12:00      Chongqing   China  1/22/2020 12:00        6.0   \n",
       "3    4  1/22/2020 12:00         Fujian   China  1/22/2020 12:00        1.0   \n",
       "4    5  1/22/2020 12:00          Gansu   China  1/22/2020 12:00        0.0   \n",
       "5    6  1/22/2020 12:00      Guangdong   China  1/22/2020 12:00       26.0   \n",
       "6    7  1/22/2020 12:00        Guangxi   China  1/22/2020 12:00        2.0   \n",
       "7    8  1/22/2020 12:00        Guizhou   China  1/22/2020 12:00        1.0   \n",
       "8    9  1/22/2020 12:00         Hainan   China  1/22/2020 12:00        4.0   \n",
       "9   10  1/22/2020 12:00          Hebei   China  1/22/2020 12:00        1.0   \n",
       "\n",
       "   Deaths  Recovered  \n",
       "0     0.0        0.0  \n",
       "1     0.0        0.0  \n",
       "2     0.0        0.0  \n",
       "3     0.0        0.0  \n",
       "4     0.0        0.0  \n",
       "5     0.0        0.0  \n",
       "6     0.0        0.0  \n",
       "7     0.0        0.0  \n",
       "8     0.0        0.0  \n",
       "9     0.0        0.0  "
      ]
     },
     "execution_count": 109,
     "metadata": {},
     "output_type": "execute_result"
    }
   ],
   "source": [
    "df.head(10)\n"
   ]
  },
  {
   "cell_type": "markdown",
   "metadata": {},
   "source": [
    "## Question\n",
    "#### Given that the number of patients with confirmed 2019-nCoV is increasing over time (in January), why there are drops in the chart generated from the notebook we created in class? \n",
    "Find the notebook [here](https://github.com/nyuvis/visual_analytics_course/blob/master/labs/lab1_Jupyter/2019_nCov.ipynb)"
   ]
  },
  {
   "cell_type": "code",
   "execution_count": 110,
   "metadata": {},
   "outputs": [],
   "source": [
    "### put your answer here\n",
    "# There was a sharp decrease in 1/28/2020 at 18:00 where the confirmed patients drops to 1. \n",
    "# This number is seen as outlier and skews the graph \n",
    "# as the rest of the data has a consistent positive linear trend. \n"
   ]
  },
  {
   "cell_type": "markdown",
   "metadata": {},
   "source": [
    "## Preprocessing\n",
    "Because we want to generate a line chart where x-positions represent unique dates, we need to preprocess the date. In this dataset, there are differernt formats of date and time in the dataset, so we change all the date and time information into a uniform format with only date information.\n",
    "\n",
    "\n",
    "Here we use the libraray `datetime` to achieve this. If you do not have this libraray, please install it. More details of the library `datetime` can be found here: https://docs.python.org/3.4/library/datetime.html?highlight=datetime\n",
    "\n",
    "You can see a few examples of tranforming a time string into a `datetime.date` type. *%m* means Month as a zero-padded decimal number; *%M* means Minute as a zero-padded decimal number. The meanings can also be found in the library documentation.\n",
    " "
   ]
  },
  {
   "cell_type": "code",
   "execution_count": 111,
   "metadata": {},
   "outputs": [],
   "source": [
    "import datetime"
   ]
  },
  {
   "cell_type": "code",
   "execution_count": 112,
   "metadata": {},
   "outputs": [
    {
     "data": {
      "text/plain": [
       "datetime.date(2020, 1, 23)"
      ]
     },
     "execution_count": 112,
     "metadata": {},
     "output_type": "execute_result"
    }
   ],
   "source": [
    "# 1/23/20 12:00 PM\n",
    "datetime.datetime.strptime('1/23/20 12:00 PM', \"%m/%d/%y %I:%M %p\").date()"
   ]
  },
  {
   "cell_type": "code",
   "execution_count": 113,
   "metadata": {},
   "outputs": [
    {
     "data": {
      "text/plain": [
       "datetime.date(2020, 2, 1)"
      ]
     },
     "execution_count": 113,
     "metadata": {},
     "output_type": "execute_result"
    }
   ],
   "source": [
    "# 2020-01-02 23:33:00\n",
    "datetime.datetime.strptime('2020-01-02 23:33:00', \"%Y-%d-%m %H:%M:%S\").date()"
   ]
  },
  {
   "cell_type": "markdown",
   "metadata": {},
   "source": [
    "### Task 0: add one column of 'Date' for dates in a uniform format. \n",
    "Code is provided below, you do not need to change it."
   ]
  },
  {
   "cell_type": "code",
   "execution_count": 114,
   "metadata": {},
   "outputs": [],
   "source": [
    "dates = []\n",
    "for x in df['Last Update']:\n",
    "    try:\n",
    "        pos = x.index('2020')\n",
    "        fullyear = True\n",
    "    except:\n",
    "        fullyear = False\n",
    "        \n",
    "    try:\n",
    "        pos = x.index('PM')\n",
    "        hour24 = False\n",
    "    except:\n",
    "        hour24 = True\n",
    "        \n",
    "        \n",
    "    if (fullyear and hour24):        \n",
    "        dates.append(datetime.datetime.strptime(x, \"%m/%d/%Y %H:%M\").date())\n",
    "    elif (fullyear and not hour24):\n",
    "        dates.append(datetime.datetime.strptime(x, \"%m/%d/%Y %I:%M %p\").date())\n",
    "    elif (not fullyear and not hour24):\n",
    "        dates.append(datetime.datetime.strptime(x, \"%m/%d/%y %I:%M %p\").date())\n",
    "\n",
    "df['Date'] = dates"
   ]
  },
  {
   "cell_type": "markdown",
   "metadata": {},
   "source": [
    "## Task 1: get unique values in the column `Date` and print them."
   ]
  },
  {
   "cell_type": "code",
   "execution_count": 115,
   "metadata": {},
   "outputs": [
    {
     "data": {
      "text/plain": [
       "[datetime.date(2020, 1, 22),\n",
       " datetime.date(2020, 1, 23),\n",
       " datetime.date(2020, 1, 24),\n",
       " datetime.date(2020, 1, 25),\n",
       " datetime.date(2020, 1, 26),\n",
       " datetime.date(2020, 1, 27),\n",
       " datetime.date(2020, 1, 28),\n",
       " datetime.date(2020, 1, 29),\n",
       " datetime.date(2020, 1, 30),\n",
       " datetime.date(2020, 1, 31)]"
      ]
     },
     "execution_count": 115,
     "metadata": {},
     "output_type": "execute_result"
    }
   ],
   "source": [
    "uniq_dates = list(df['Date'].unique())\n",
    "uniq_dates"
   ]
  },
  {
   "cell_type": "markdown",
   "metadata": {},
   "source": [
    "## Task 2: construct a DataFrame for plotting a line chart.\n",
    "Please construct a DataFrame with 4 columns: Date, confirmed, recovered, deaths"
   ]
  },
  {
   "cell_type": "code",
   "execution_count": 116,
   "metadata": {},
   "outputs": [
    {
     "data": {
      "text/html": [
       "<div>\n",
       "<style scoped>\n",
       "    .dataframe tbody tr th:only-of-type {\n",
       "        vertical-align: middle;\n",
       "    }\n",
       "\n",
       "    .dataframe tbody tr th {\n",
       "        vertical-align: top;\n",
       "    }\n",
       "\n",
       "    .dataframe thead th {\n",
       "        text-align: right;\n",
       "    }\n",
       "</style>\n",
       "<table border=\"1\" class=\"dataframe\">\n",
       "  <thead>\n",
       "    <tr style=\"text-align: right;\">\n",
       "      <th></th>\n",
       "      <th>Date</th>\n",
       "      <th>confirmed</th>\n",
       "      <th>recovered</th>\n",
       "      <th>deaths</th>\n",
       "    </tr>\n",
       "  </thead>\n",
       "  <tbody>\n",
       "    <tr>\n",
       "      <th>0</th>\n",
       "      <td>2020-01-22</td>\n",
       "      <td>555.0</td>\n",
       "      <td>0.0</td>\n",
       "      <td>0.0</td>\n",
       "    </tr>\n",
       "    <tr>\n",
       "      <th>1</th>\n",
       "      <td>2020-01-23</td>\n",
       "      <td>653.0</td>\n",
       "      <td>30.0</td>\n",
       "      <td>18.0</td>\n",
       "    </tr>\n",
       "    <tr>\n",
       "      <th>2</th>\n",
       "      <td>2020-01-24</td>\n",
       "      <td>941.0</td>\n",
       "      <td>36.0</td>\n",
       "      <td>26.0</td>\n",
       "    </tr>\n",
       "    <tr>\n",
       "      <th>3</th>\n",
       "      <td>2020-01-25</td>\n",
       "      <td>2019.0</td>\n",
       "      <td>49.0</td>\n",
       "      <td>56.0</td>\n",
       "    </tr>\n",
       "    <tr>\n",
       "      <th>4</th>\n",
       "      <td>2020-01-26</td>\n",
       "      <td>2794.0</td>\n",
       "      <td>54.0</td>\n",
       "      <td>80.0</td>\n",
       "    </tr>\n",
       "    <tr>\n",
       "      <th>5</th>\n",
       "      <td>2020-01-27</td>\n",
       "      <td>4473.0</td>\n",
       "      <td>63.0</td>\n",
       "      <td>107.0</td>\n",
       "    </tr>\n",
       "    <tr>\n",
       "      <th>6</th>\n",
       "      <td>2020-01-28</td>\n",
       "      <td>6057.0</td>\n",
       "      <td>110.0</td>\n",
       "      <td>132.0</td>\n",
       "    </tr>\n",
       "    <tr>\n",
       "      <th>7</th>\n",
       "      <td>2020-01-29</td>\n",
       "      <td>7783.0</td>\n",
       "      <td>133.0</td>\n",
       "      <td>170.0</td>\n",
       "    </tr>\n",
       "    <tr>\n",
       "      <th>8</th>\n",
       "      <td>2020-01-30</td>\n",
       "      <td>9776.0</td>\n",
       "      <td>187.0</td>\n",
       "      <td>213.0</td>\n",
       "    </tr>\n",
       "    <tr>\n",
       "      <th>9</th>\n",
       "      <td>2020-01-31</td>\n",
       "      <td>11374.0</td>\n",
       "      <td>252.0</td>\n",
       "      <td>259.0</td>\n",
       "    </tr>\n",
       "  </tbody>\n",
       "</table>\n",
       "</div>"
      ],
      "text/plain": [
       "         Date  confirmed  recovered  deaths\n",
       "0  2020-01-22      555.0        0.0     0.0\n",
       "1  2020-01-23      653.0       30.0    18.0\n",
       "2  2020-01-24      941.0       36.0    26.0\n",
       "3  2020-01-25     2019.0       49.0    56.0\n",
       "4  2020-01-26     2794.0       54.0    80.0\n",
       "5  2020-01-27     4473.0       63.0   107.0\n",
       "6  2020-01-28     6057.0      110.0   132.0\n",
       "7  2020-01-29     7783.0      133.0   170.0\n",
       "8  2020-01-30     9776.0      187.0   213.0\n",
       "9  2020-01-31    11374.0      252.0   259.0"
      ]
     },
     "execution_count": 116,
     "metadata": {},
     "output_type": "execute_result"
    }
   ],
   "source": [
    "confirmed = [] \n",
    "recovered = []\n",
    "deaths = []\n",
    "for date in uniq_dates:\n",
    "    confirmed.append(df[df['Date']==date]['Confirmed'].sum())\n",
    "    recovered.append(df[df['Date']==date]['Recovered'].sum())\n",
    "    deaths.append(df[df['Date']==date]['Deaths'].sum())\n",
    "\n",
    "to_plot = pd.DataFrame()\n",
    "to_plot['Date'] = uniq_dates\n",
    "to_plot['confirmed'] = confirmed\n",
    "to_plot['recovered'] = recovered\n",
    "to_plot['deaths'] = deaths\n",
    "\n",
    "to_plot"
   ]
  },
  {
   "cell_type": "markdown",
   "metadata": {},
   "source": [
    "## Task 3: Visualization\n",
    "Plot a line chart that shows how the values of \"confirmed\", \"recovered\", and \"deaths\" change over time."
   ]
  },
  {
   "cell_type": "code",
   "execution_count": 117,
   "metadata": {
    "scrolled": false
   },
   "outputs": [
    {
     "data": {
      "text/plain": [
       "<matplotlib.axes._subplots.AxesSubplot at 0x116386210>"
      ]
     },
     "execution_count": 117,
     "metadata": {},
     "output_type": "execute_result"
    },
    {
     "data": {
      "image/png": "[encoded data removed]",
      "text/plain": [
       "<Figure size 432x288 with 1 Axes>"
      ]
     },
     "metadata": {
      "needs_background": "light"
     },
     "output_type": "display_data"
    }
   ],
   "source": [
    "line_plot = to_plot.set_index('Date')\n",
    "\n",
    "sns.lineplot(data=line_plot)\n"
   ]
  },
  {
   "cell_type": "markdown",
   "metadata": {},
   "source": [
    "## Task 4: Markdown Grammar Practice\n",
    "Please read the content of markdown cells in the slides/pdf of the lab. Create a few markdown cells as described below:\n",
    "- A header\n",
    "- A ordered list\n",
    "- A bullet list\n",
    "- Bold and Italics text"
   ]
  },
  {
   "cell_type": "markdown",
   "metadata": {},
   "source": [
    "# Header : lab1_assignment\n",
    "\n",
    "### Ordered List : Major + Courses\n",
    "1. **Computer Science**\n",
    "    1. *Visual Analytics*\n",
    "    2. *Programming Languages*\n",
    "    3. *Data Structures*\n",
    "2. **Mechanical Engineering**\n",
    "    1. *Fluid Mechanics* \n",
    "    2. *Physics*\n",
    "        1. Mechanics, Electricity and magnetism, Optics\n",
    "\n",
    "### Bullet List : Major + Courses\n",
    "- **Computer Science** \n",
    "    * *Visual Analytics*\n",
    "    * *Programming Languages*\n",
    "    * *Data Structures*\n",
    "- **Mechanical Engineering** \n",
    "    * *Fluid Mechanics* \n",
    "   \n"
   ]
  },
  {
   "cell_type": "code",
   "execution_count": null,
   "metadata": {},
   "outputs": [],
   "source": []
  }
 ],
 "metadata": {
  "kernelspec": {
   "display_name": "Python 2",
   "language": "python",
   "name": "python2"
  },
  "language_info": {
   "codemirror_mode": {
    "name": "ipython",
    "version": 2
   },
   "file_extension": ".py",
   "mimetype": "text/x-python",
   "name": "python",
   "nbconvert_exporter": "python",
   "pygments_lexer": "ipython2",
   "version": "2.7.15"
  }
 },
 "nbformat": 4,
 "nbformat_minor": 4
}
