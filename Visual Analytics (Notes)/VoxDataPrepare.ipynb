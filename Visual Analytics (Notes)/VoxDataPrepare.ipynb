{
 "cells": [
  {
   "cell_type": "code",
   "execution_count": 1,
   "metadata": {},
   "outputs": [],
   "source": [
    "import pandas as pd"
   ]
  },
  {
   "cell_type": "markdown",
   "metadata": {},
   "source": [
    "## Load Data"
   ]
  },
  {
   "cell_type": "code",
   "execution_count": 2,
   "metadata": {},
   "outputs": [],
   "source": [
    "df = pd.read_csv(filepath_or_buffer='input/dsjVoxArticles.tsv', sep='\\t',\n",
    "                         header=0, index_col=None, lineterminator='\\n')"
   ]
  },
  {
   "cell_type": "markdown",
   "metadata": {},
   "source": [
    "## Data Sense-making"
   ]
  },
  {
   "cell_type": "code",
   "execution_count": 3,
   "metadata": {},
   "outputs": [
    {
     "data": {
      "text/plain": [
       "title             Bitcoin is down 60 percent this year. Here's w...\n",
       "author                                               Timothy B. Lee\n",
       "category                                         Business & Finance\n",
       "published_date                                  2014-03-31 14:01:30\n",
       "updated_on                                      2014-12-16 16:37:36\n",
       "slug              http://www.vox.com/2014/3/31/5557170/bitcoin-b...\n",
       "blurb             Bitcoins have lost more than 60 percent of the...\n",
       "body              <p>The markets haven't been kind to<span> </sp...\n",
       "Name: 0, dtype: object"
      ]
     },
     "execution_count": 3,
     "metadata": {},
     "output_type": "execute_result"
    }
   ],
   "source": [
    "df.iloc[0]"
   ]
  },
  {
   "cell_type": "code",
   "execution_count": 4,
   "metadata": {},
   "outputs": [
    {
     "name": "stdout",
     "output_type": "stream",
     "text": [
      "(186,)\n"
     ]
    },
    {
     "data": {
      "text/plain": [
       "array(['Business & Finance', 'War on Drugs', 'Criminal Justice',\n",
       "       'Health Care', 'Explainers', 'Life', 'Science & Health',\n",
       "       'Neuroscience', 'Apple', 'Politics & Policy', 'Culture',\n",
       "       'Human Rights', 'The Latest', 'World', 'Marriage Equality',\n",
       "       'Almanac', 'Transportation', 'Space', 'Emmy Awards', 'Xpress',\n",
       "       'Identities', 'Marijuana Legalization', 'Joe Biden', 'Star Wars',\n",
       "       'Sports', 'North Korea', 'On Instagram', 'Race in America',\n",
       "       'Media', 'Education', 'Gender-Based Violence', 'Supreme Court ',\n",
       "       'Gender Equality', 'Orange Is the New Black', 'Immigration',\n",
       "       'Hillary Clinton', 'Gun Violence', 'Politics', 'ISIS', 'NFL',\n",
       "       'Science of Everyday Life', 'Infectious Disease', 'Congress',\n",
       "       'College Football', 'Campaign Finance', 'Books', 'Vox', 'Music',\n",
       "       '2016 Presidential Election', 'LGBTQ', 'Interviews', 'Ted Cruz',\n",
       "       'Energy & Environment', 'Genetics', 'True Detective',\n",
       "       'Officer-Involved Shootings', 'Jeb Bush',\n",
       "       'Israel-Palestine Conflict', 'The Big Idea', 'MTV VMAs',\n",
       "       'Religion', 'Comic Books', 'Labor Market', 'Obamacare',\n",
       "       'Global Governance', 'Television', 'Movies', 'Natural Disasters',\n",
       "       'Syria', 'Celebrities', 'Technology', 'Russia', 'Best of 2014',\n",
       "       'Poverty', 'Economic Mobility', '2014 Midterm Elections', 'Ebola',\n",
       "       'Scotland', 'Climate Change', 'Net Neutrality', 'Features',\n",
       "       'First Person', 'Maps', 'Cuba', 'Hollywood',\n",
       "       'True Detective, Season 2', 'NSA', 'Mike Pence', 'Social Policy',\n",
       "       'China', 'Gilmore Girls', 'Marvel', 'Vox Sentences',\n",
       "       'Voting Rights', 'Avengers: Age of Ultron', nan, 'Oscars',\n",
       "       'Serial', 'Internet Security', 'Bernie Sanders', 'Telecoms',\n",
       "       '2016 Rio Olympics', 'Gift Guides', 'Fear the Walking Dead',\n",
       "       '2016 Golden Globes', 'Mad Men', 'The Americans', '2016 Grammys',\n",
       "       'Game of Thrones', 'Video', 'Reviews', 'Marco Rubio',\n",
       "       'Donald Trump', 'Mad Men, season 7',\n",
       "       'Mad Men, season 7, episode 8', 'Grist',\n",
       "       'Game of Thrones, season 5, episode 1',\n",
       "       'Mad Men, season 7, episode 9',\n",
       "       'Game of Thrones, season 5, episode 2',\n",
       "       'Mad Men, season 7, episode 10', 'Mad Men, season 7, episode 11',\n",
       "       'Game of Thrones, season 5, episode 3',\n",
       "       'Game of Thrones, season 5, episode 4',\n",
       "       'Mad Men, season 7, episode 12', 'Carly Fiorina',\n",
       "       'Game of Thrones, season 6', 'Mad Men, season 7, episode 13',\n",
       "       'Small Business', 'Mad Men, season 7, episode 14',\n",
       "       'Hannibal, season 3', 'One Change to Save the World',\n",
       "       'Game of Thrones, season 5, episode 10', 'Debates', 'Hate Crimes',\n",
       "       'True Detective, Season 2, Episode 1', 'Mr. Robot',\n",
       "       'True Detective, Season 2, Episode 2',\n",
       "       'True Detective Season 2, Episode 3',\n",
       "       'True Detective, Season 2, Episode 4', 'Ant-Man',\n",
       "       'True Detective, Season 2, Episode 5',\n",
       "       'True Detective Season 2, Episode 6',\n",
       "       'True Detective Season 2, Episode 7', 'Dear Julia', 'UnReal',\n",
       "       'True Detective Season 2, Episode 8', 'Show Me the Evidence',\n",
       "       'Polyarchy', 'Fear the Walking Dead, season 1, episode 1',\n",
       "       'Fear the Walking Dead, season 1, episode 2',\n",
       "       'Mischiefs of Faction', 'Fear the Walking Dead, Season 1',\n",
       "       'Super Bowl 51', 'Episode of the Week', 'Conversations',\n",
       "       'Podcasts', 'The Walking Dead', 'On Snapchat', 'Making a Murderer',\n",
       "       '2016ish', 'Game of Thrones, season 6, episode 1',\n",
       "       'Game of Thrones, season 6, episode 2',\n",
       "       'Game of Thrones season 6, episode 3',\n",
       "       'Game of Thrones, season 6, episode 4',\n",
       "       'Game of Thrones, season 6, episode 5',\n",
       "       'Game of Thrones, season 6, episode 6',\n",
       "       'Game of Thrones, season 6, episode 7',\n",
       "       'Game of Thrones, season 6, episode 9', 'Internet Culture',\n",
       "       'Game of Thrones, season 6, episode 10', 'The Night Of',\n",
       "       'New Money', 'Westworld, season 1', 'Movie of the Week',\n",
       "       'Black Mirror, Season 3', 'Weeds in the Wild', 'Policy',\n",
       "       'Best of 2016', 'Pentagon', 'Terrorism', 'Obama Administration',\n",
       "       'Hannibal', 'Strikethrough', \"I Think You're Interesting\",\n",
       "       'Social Programs', 'Reproductive Health'], dtype=object)"
      ]
     },
     "execution_count": 4,
     "metadata": {},
     "output_type": "execute_result"
    }
   ],
   "source": [
    "print(df['category'].unique().shape)\n",
    "df['category'].unique()"
   ]
  },
  {
   "cell_type": "code",
   "execution_count": 5,
   "metadata": {},
   "outputs": [
    {
     "name": "stdout",
     "output_type": "stream",
     "text": [
      "<p>The markets haven't been kind to<span> </span><a href=\"http://www.vox.com/cards/bitcoin/\" style=\"font-size: 17px; line-height: 28.4624996185303px;\">Bitcoin</a> in 2014. The currency reached a high of nearly $1,000 in January before falling to around $350 this month, a plunge of more than 60 percent. It would be easy to write Bitcoin off as a fad whose novelty has worn off.</p> \\n<p>After all, dollars seem superior in almost every respect. T<span>hey're accepted everywhere, they're convenient to use, and they have a stable value. Bitcoin is an inferior currency on all three counts.</span></p> \\n<p><q class=\"right\"><span>Bitcoin's detractors are making the same mistake as many Bitcoin fans</span> </q></p> \\n<p><span>Yet it would be foolish to write Bitcoin off. The currency has had months-long slumps in the past, only to bounce back. </span>More importantly, it's a mistake to think about Bitcoin as a new kind of currency. W<span>hat makes Bitcoin potentially revolutionary is that it's the world's first completely open financial network.</span></p> \\n<p><span>History suggests that open platforms like Bitcoin often become fertile soil for innovation. Think about the internet. It didn't seem like a very practical technology in the 1980s. But it was an open platform that anyone could build on, and in the long run it proved to be really useful.</span></p> \\n<p>The internet succeeded because Silicon Valley have created applications that harness the internet's power while shielding users from its complexity. <span>You don't have to be an expert on the internet's TCP/IP protocols to check Facebook on your iPhone.</span></p> \\n<p>Bitcoin applications can work the same way. There are already some Bitcoin applications that allow customers to make transactions over the Bitcoin network without being exposed to fluctuations in the value of Bitcoin's currency. That basic model should work for a wide variety of Bitcoin-based services, allowing the Bitcoin payment network to reach a mainstream audience.</p> \\n<p><img src=\"http://cdn2.vox-cdn.com/assets/4215235/imp.jpg\" class=\"photo\" alt=\"Imp\"></p> \\n<p><span><span></span></span></p> \\n<p class=\"caption\">This is the very first node on the ARPANET, the predecessor to the Internet that launched in 1969. (Flickr/<a href=\"https://www.flickr.com/photos/fastlizard4/6294438012/\">FastLizard4</a>)</p> \\n<p><span></span></p> \\n<h3><span>The first open financial network</span></h3> \\n<p>The Bitcoin network serves the same purpose as mainstream payment networks such as Visa or Western Union. But there's an important difference. The Visa and Western Union networks are owned and operated by for-profit companies. If you want to build a business based on one of those networks, you have to get permission from the owner.</p> \\n<p>And that's not always easy. To use the Visa network, for example, you have to comply with <a href=\"https://usa.visa.com/download/merchants/visa-international-operating-regulations-main.pdf\">hundreds of pages</a> of regulations. The Visa network also has high fees, and there are some things Visa won't let you do on its network at all.</p> \\n<p>Bitcoin is different. Because no one owns or controls the network, there are no limits on how people can use it. Some people have used that freedom to do illegal things like buying drugs or gambling online. But it also means there's a low barrier to entry for building new Bitcoin-based financial services.</p> \\n<p>There's an obvious parallel to the internet. Before the internet became mainstream, the leading online services were commercial networks like Compuserve and Prodigy. The companies that ran the network decided what services would be available on them.</p> \\n<p><span>In contrast, the internet was designed for anyone to create new services. Tim Berners-Lee didn't need to ask anyone's permission to create the world wide web. He simply wrote the first web browser and web server and posted them online for others to download. Soon thousands of people were using the software and the web was born.</span></p> \\n<h3>Finding Bitcoin's killer app</h3> \\n<p>So what will people do with Bitcoin? It's hard to predict tomorrow's innovations, but we can get some idea of Bitcoin's potential by thinking about weaknesses of the conventional financial system.</p> \\n<p><q class=\"left\"><span>Bitcoin is such a good deal for merchants that they may find it worthwhile to offer their customers discounts for paying with Bitcoin instead of cash or credit cards</span></q></p> \\n<p>One obvious application is international money transfers. Companies like Western Union and Moneygram can charge as much as 8 percent to transfer cash from one country to another, and transfers can take as long as 3 days to complete. In contrast, Bitcoin transactions only take about 30 minutes to clear, and Bitcoin transaction fees could be a lot less than 8 percent.</p> \\n<p>People have been <a target=\"_blank\" href=\"http://www.vox.com/2014/11/1/7139785/there-are-now-285-bitcoin-atms-around-the-world\">building Bitcoin ATMs</a> to let people convert between bitcoins and their local currency. The first Bitcoin ATM was launched a little over a year ago. Today, there are <a target=\"_blank\" href=\"http://coinatmradar.com/\">329 of them</a>.</p> \\n<p><span>If these devices continue to proliferate, they could become a useful alternative to conventional money-transfer services. Currently, each machine charges a transaction fee of around 3 percent, so the total cost of transferring money from one Bitcoin ATM to another is around 6 percent. That's comparable to the fees charged by incumbent money transfer services, and competition is likely to push down Bitcoin ATM fees over time.</span></p> \\n<p>A more ambitious application for Bitcoin would be as an alternative to credit cards for daily purchases. Startups such Bitpay have already figured out how to make Bitcoin attractive to merchants as a way of accepting payments. Credit card networks charge merchants around 3 percent to process transactions. Bitpay charges 1 percent or less to accept Bitcoin payments on behalf of merchants. Bitpay merchants don't have to worry about the headache of disputed payments known as \"chargebacks.\"</p> \\n<p><span>Of course, for Bitcoin to take off as an alternative to credit cards, consumers will have to start using them regularly. And that's going to be a hard sell, especially if consumers are exposed to the risk of Bitcoin's volatility.</span></p> \\n<p>But a Bitcoin-based payment app could also have some advantages. One is security. The current credit card network essentially works on the honor system, allowing any merchant to charge a credit card and relying on after-the-fact adjudication to police fraud. Bitcoin could allow companies to experiment with alternative approaches that build in security at the front end, for example by asking users to confirm a transaction on their smartphones before it's approved. That could cut fraud, reducing the hassle of disputing fraudulent payments and allowing lower fees.</p> \\n<p>Moreover, Bitcoin is such a good deal for merchants that they may find it worthwhile to offer their customers discounts for paying with Bitcoin instead of cash or credit cards. That might entice bargain-hunting consumers who aren't otherwise interested in trying a new payment technology.</p> \\n<p><img src=\"http://cdn0.vox-cdn.com/assets/4215267/6355318323_4c41d3ef76_b.jpg\" class=\"photo\" alt=\"6355318323_4c41d3ef76_b\"></p> \\n<p class=\"caption\"><a href=\"https://www.flickr.com/photos/68751915@N05/6355318323/sizes/l\" style=\"font-size: 12px; font-style: italic; line-height: 15px;\">401(K) 2013</a></p> \\n<h3><span>Using Bitcoin-the-network without Bitcoin-the-currency</span></h3> \\n<p>The biggest stumbling block for many Bitcoin services is Bitcoin's volatility. The current generation of Bitcoin \"wallet\" apps, which store bitcoins on behalf of users, expose consumers to fluctuations in Bitcoin's value. Ordinary consumers are unlikely to ever be comfortable with a payment system where their wealth can shrink by 10 percent or more in a single day.</p> \\n<p>Fortunately, it's possible to design Bitcoin-based financial services that don't expose users to fluctuations in Bitcoin's value. Bitpay is a good example. Bitpay merchants set prices in conventional currencies such as the dollar, converting to the equivalent number of Bitcoins at the time of sale. Once the sale is made, Bitpay immediately converts it to an equivalent number of dollars and deposits the cash in the merchant's conventional bank account. This means that from the merchant's perspective, Bitpay is just another way of accepting dollars. A Bitpay merchant isn't affected at all by fluctuations in the value of Bitcoin.</p> \\n<p>The same principle could apply to any other Bitcoin-based service. A consumer-friendly payments app could store a user's cash in dollars, converting them to bitcoins at the time of payment. Under the hood the app could use the full power of the Bitcoin platform, but from the user's perspective it would just seem like another way of paying for things with dollars.</p> \\n<p>You're probably wondering: if Bitcoin's value is as a payment network, why not just build an open payment network based on a conventional currency like the dollar? An open, dollar-based payment network would be a great idea. The problem is that no one has figured out how to build one.</p> \\n<p>Dollars in the Paypal network are worth a dollar because the Paypal company has promised to honor withdrawal requests. But there's no organization to perform this role on a peer-to-peer network like Bitcoin.</p> \\n<p>Suppose there were a network called Dollarcoin that worked exactly like Bitcoin except a company called Dollarcoin Inc. promised to convert dollarcoins into dollars. Then the value of one dollarcoin would always equal one dollar. But as the manager of the Dollarcoin network, the Dollarcoin company would face pressure to comply with a variety of laws regarding fraud, money laundering, and so forth. To keep the costs of complying with those requirements under control, it would be forced to regulate who could use the network and how. (Indeed, that's exactly what <a href=\"http://www.amazon.com/The-PayPal-Wars-Battles-Planet/dp/1936488590\">happened to Paypal</a> 15 years ago.) Over time, the Dollarcoin network could become as restrictive as conventional financial networks.</p> \\n<p>Bitcoin's openness depends on the fact that no one owns the network. And with no owner, there's no one to guarantee that bitcoins have a predictable value.</p> \\n<p>Many of Bitcoin's early adopters were acolytes of Ron Paul's brand of hard-money libertarianism. They were attracted to the promise of a currency whose supply was outside of state control, and as a consequence, Bitcoin has gained a reputation as the second coming of the gold standard. That, in turn, has made mainstream economists who are hostile to Ron Paul and the gold standard hostile to Bitcoin.</p> \\n<p>But in reality, the case for Bitcoin simply doesn't have much to do with its unorthodox monetary policy. Bitcoin is a payment network that happens to have its own currency, not the other way around. It's worth taking seriously whether or not you agree with Ron Paul's views on the Federal Reserve.</p>\n",
      "(23024, 8)\n"
     ]
    }
   ],
   "source": [
    "print(df.iloc[0]['body'])\n",
    "print(df.shape)"
   ]
  },
  {
   "cell_type": "markdown",
   "metadata": {},
   "source": [
    "## Data Preprocessing"
   ]
  },
  {
   "cell_type": "markdown",
   "metadata": {},
   "source": [
    "We are going to use the library `Beautiful Soup` to process this html file. `Beautiful Soup` is a Python library for pulling data out of HTML and XML files. You can check more information about this library from <a href=\"https://www.crummy.com/software/BeautifulSoup/bs4/doc/\">this link</a>"
   ]
  },
  {
   "cell_type": "code",
   "execution_count": 6,
   "metadata": {},
   "outputs": [
    {
     "name": "stdout",
     "output_type": "stream",
     "text": [
      "The markets haven't been kind to Bitcoin in 2014. The currency reached a high of nearly $1,000 in January before falling to around $350 this month, a plunge of more than 60 percent. It would be easy to write Bitcoin off as a fad whose novelty has worn off. \\nAfter all, dollars seem superior in almost every respect. They're accepted everywhere, they're convenient to use, and they have a stable value. Bitcoin is an inferior currency on all three counts. \\nBitcoin's detractors are making the same mistake as many Bitcoin fans  \\nYet it would be foolish to write Bitcoin off. The currency has had months-long slumps in the past, only to bounce back. More importantly, it's a mistake to think about Bitcoin as a new kind of currency. What makes Bitcoin potentially revolutionary is that it's the world's first completely open financial network. \\nHistory suggests that open platforms like Bitcoin often become fertile soil for innovation. Think about the internet. It didn't seem like a very practical technology in the 1980s. But it was an open platform that anyone could build on, and in the long run it proved to be really useful. \\nThe internet succeeded because Silicon Valley have created applications that harness the internet's power while shielding users from its complexity. You don't have to be an expert on the internet's TCP/IP protocols to check Facebook on your iPhone. \\nBitcoin applications can work the same way. There are already some Bitcoin applications that allow customers to make transactions over the Bitcoin network without being exposed to fluctuations in the value of Bitcoin's currency. That basic model should work for a wide variety of Bitcoin-based services, allowing the Bitcoin payment network to reach a mainstream audience. \\n \\n \\nThis is the very first node on the ARPANET, the predecessor to the Internet that launched in 1969. (Flickr/FastLizard4) \\n \\nThe first open financial network \\nThe Bitcoin network serves the same purpose as mainstream payment networks such as Visa or Western Union. But there's an important difference. The Visa and Western Union networks are owned and operated by for-profit companies. If you want to build a business based on one of those networks, you have to get permission from the owner. \\nAnd that's not always easy. To use the Visa network, for example, you have to comply with hundreds of pages of regulations. The Visa network also has high fees, and there are some things Visa won't let you do on its network at all. \\nBitcoin is different. Because no one owns or controls the network, there are no limits on how people can use it. Some people have used that freedom to do illegal things like buying drugs or gambling online. But it also means there's a low barrier to entry for building new Bitcoin-based financial services. \\nThere's an obvious parallel to the internet. Before the internet became mainstream, the leading online services were commercial networks like Compuserve and Prodigy. The companies that ran the network decided what services would be available on them. \\nIn contrast, the internet was designed for anyone to create new services. Tim Berners-Lee didn't need to ask anyone's permission to create the world wide web. He simply wrote the first web browser and web server and posted them online for others to download. Soon thousands of people were using the software and the web was born. \\nFinding Bitcoin's killer app \\nSo what will people do with Bitcoin? It's hard to predict tomorrow's innovations, but we can get some idea of Bitcoin's potential by thinking about weaknesses of the conventional financial system. \\nBitcoin is such a good deal for merchants that they may find it worthwhile to offer their customers discounts for paying with Bitcoin instead of cash or credit cards \\nOne obvious application is international money transfers. Companies like Western Union and Moneygram can charge as much as 8 percent to transfer cash from one country to another, and transfers can take as long as 3 days to complete. In contrast, Bitcoin transactions only take about 30 minutes to clear, and Bitcoin transaction fees could be a lot less than 8 percent. \\nPeople have been building Bitcoin ATMs to let people convert between bitcoins and their local currency. The first Bitcoin ATM was launched a little over a year ago. Today, there are 329 of them. \\nIf these devices continue to proliferate, they could become a useful alternative to conventional money-transfer services. Currently, each machine charges a transaction fee of around 3 percent, so the total cost of transferring money from one Bitcoin ATM to another is around 6 percent. That's comparable to the fees charged by incumbent money transfer services, and competition is likely to push down Bitcoin ATM fees over time. \\nA more ambitious application for Bitcoin would be as an alternative to credit cards for daily purchases. Startups such Bitpay have already figured out how to make Bitcoin attractive to merchants as a way of accepting payments. Credit card networks charge merchants around 3 percent to process transactions. Bitpay charges 1 percent or less to accept Bitcoin payments on behalf of merchants. Bitpay merchants don't have to worry about the headache of disputed payments known as \"chargebacks.\" \\nOf course, for Bitcoin to take off as an alternative to credit cards, consumers will have to start using them regularly. And that's going to be a hard sell, especially if consumers are exposed to the risk of Bitcoin's volatility. \\nBut a Bitcoin-based payment app could also have some advantages. One is security. The current credit card network essentially works on the honor system, allowing any merchant to charge a credit card and relying on after-the-fact adjudication to police fraud. Bitcoin could allow companies to experiment with alternative approaches that build in security at the front end, for example by asking users to confirm a transaction on their smartphones before it's approved. That could cut fraud, reducing the hassle of disputing fraudulent payments and allowing lower fees. \\nMoreover, Bitcoin is such a good deal for merchants that they may find it worthwhile to offer their customers discounts for paying with Bitcoin instead of cash or credit cards. That might entice bargain-hunting consumers who aren't otherwise interested in trying a new payment technology. \\n \\n401(K) 2013 \\nUsing Bitcoin-the-network without Bitcoin-the-currency \\nThe biggest stumbling block for many Bitcoin services is Bitcoin's volatility. The current generation of Bitcoin \"wallet\" apps, which store bitcoins on behalf of users, expose consumers to fluctuations in Bitcoin's value. Ordinary consumers are unlikely to ever be comfortable with a payment system where their wealth can shrink by 10 percent or more in a single day. \\nFortunately, it's possible to design Bitcoin-based financial services that don't expose users to fluctuations in Bitcoin's value. Bitpay is a good example. Bitpay merchants set prices in conventional currencies such as the dollar, converting to the equivalent number of Bitcoins at the time of sale. Once the sale is made, Bitpay immediately converts it to an equivalent number of dollars and deposits the cash in the merchant's conventional bank account. This means that from the merchant's perspective, Bitpay is just another way of accepting dollars. A Bitpay merchant isn't affected at all by fluctuations in the value of Bitcoin. \\nThe same principle could apply to any other Bitcoin-based service. A consumer-friendly payments app could store a user's cash in dollars, converting them to bitcoins at the time of payment. Under the hood the app could use the full power of the Bitcoin platform, but from the user's perspective it would just seem like another way of paying for things with dollars. \\nYou're probably wondering: if Bitcoin's value is as a payment network, why not just build an open payment network based on a conventional currency like the dollar? An open, dollar-based payment network would be a great idea. The problem is that no one has figured out how to build one. \\nDollars in the Paypal network are worth a dollar because the Paypal company has promised to honor withdrawal requests. But there's no organization to perform this role on a peer-to-peer network like Bitcoin. \\nSuppose there were a network called Dollarcoin that worked exactly like Bitcoin except a company called Dollarcoin Inc. promised to convert dollarcoins into dollars. Then the value of one dollarcoin would always equal one dollar. But as the manager of the Dollarcoin network, the Dollarcoin company would face pressure to comply with a variety of laws regarding fraud, money laundering, and so forth. To keep the costs of complying with those requirements under control, it would be forced to regulate who could use the network and how. (Indeed, that's exactly what happened to Paypal 15 years ago.) Over time, the Dollarcoin network could become as restrictive as conventional financial networks. \\nBitcoin's openness depends on the fact that no one owns the network. And with no owner, there's no one to guarantee that bitcoins have a predictable value. \\nMany of Bitcoin's early adopters were acolytes of Ron Paul's brand of hard-money libertarianism. They were attracted to the promise of a currency whose supply was outside of state control, and as a consequence, Bitcoin has gained a reputation as the second coming of the gold standard. That, in turn, has made mainstream economists who are hostile to Ron Paul and the gold standard hostile to Bitcoin. \\nBut in reality, the case for Bitcoin simply doesn't have much to do with its unorthodox monetary policy. Bitcoin is a payment network that happens to have its own currency, not the other way around. It's worth taking seriously whether or not you agree with Ron Paul's views on the Federal Reserve.\n"
     ]
    }
   ],
   "source": [
    "from bs4 import BeautifulSoup \n",
    "soup = BeautifulSoup(df.iloc[0]['body'])\n",
    "print(soup.get_text())"
   ]
  },
  {
   "cell_type": "markdown",
   "metadata": {},
   "source": [
    "#### remove missing values and remove all `\\n`"
   ]
  },
  {
   "cell_type": "code",
   "execution_count": 7,
   "metadata": {},
   "outputs": [],
   "source": [
    "data_df = df.dropna()"
   ]
  },
  {
   "cell_type": "code",
   "execution_count": 8,
   "metadata": {},
   "outputs": [
    {
     "name": "stderr",
     "output_type": "stream",
     "text": [
      "/usr/local/lib/python3.7/site-packages/ipykernel_launcher.py:1: SettingWithCopyWarning: \n",
      "A value is trying to be set on a copy of a slice from a DataFrame.\n",
      "Try using .loc[row_indexer,col_indexer] = value instead\n",
      "\n",
      "See the caveats in the documentation: https://pandas.pydata.org/pandas-docs/stable/user_guide/indexing.html#returning-a-view-versus-a-copy\n",
      "  \"\"\"Entry point for launching an IPython kernel.\n"
     ]
    }
   ],
   "source": [
    "data_df['body'] = data_df['body'].apply(lambda x: x.replace(\"\\\\n\", \"\"))"
   ]
  },
  {
   "cell_type": "code",
   "execution_count": 14,
   "metadata": {},
   "outputs": [],
   "source": [
    "data_ready = data_df.sample(frac=0.3, replace=True, random_state=1)"
   ]
  },
  {
   "cell_type": "code",
   "execution_count": 15,
   "metadata": {},
   "outputs": [
    {
     "data": {
      "text/plain": [
       "(6904, 8)"
      ]
     },
     "execution_count": 15,
     "metadata": {},
     "output_type": "execute_result"
    }
   ],
   "source": [
    "data_ready.shape"
   ]
  },
  {
   "cell_type": "code",
   "execution_count": 16,
   "metadata": {},
   "outputs": [
    {
     "data": {
      "text/plain": [
       "title             Every year of a prison term makes a couple 32 ...\n",
       "author                                                    Dara Lind\n",
       "category                                           Criminal Justice\n",
       "published_date                                  2014-05-29 12:30:05\n",
       "updated_on                                      2014-05-29 12:30:07\n",
       "slug              http://www.vox.com/2014/5/29/5756646/every-yea...\n",
       "blurb             But even a short jail stay can strain a marria...\n",
       "body              A new study by criminologists Sonja Siennick a...\n",
       "Name: 235, dtype: object"
      ]
     },
     "execution_count": 16,
     "metadata": {},
     "output_type": "execute_result"
    }
   ],
   "source": [
    "data_ready['body'] = data_ready['body'].apply(lambda x: BeautifulSoup(x).get_text())\n",
    "\n",
    "data_ready.iloc[0]"
   ]
  },
  {
   "cell_type": "code",
   "execution_count": 17,
   "metadata": {},
   "outputs": [
    {
     "data": {
      "text/plain": [
       "'A new study by criminologists Sonja Siennick and Eric Stewart of Florida State University and Jeremy Staff of Penn State takes a hard look at the effects of incarceration on marriage. Here\\'s what we already know from other research, what this study says, and the questions that remain unanswered. What we already knew about incarceration and divorce Incarceration increases divorce rates. Studies consistently show that incarceration during marriage is correlated with higher divorce rates. When one spouse has been incarcerated before getting married, the couple isn\\'t any more likely to split up — but when a spouse is incarcerated during the marriage, the odds of divorce increase. Even after the inmate is released from prison, the marriage is still at risk. In fact, inmates and their spouses can be optimistic about their marriages before the inmate is released — but that optimism often falls apart.\\xa0One study of Dutch men found that their odds of divorce increased over the ten years after their incarceration. The longer the inmate is in prison, the more likely the marriage is to fail. One recent study found that each year of incarceration increases the odds that the inmate\\'s marriage will end in divorce (before or after the inmate gets out of prison) by an average of 32 percent. What this study adds Young married couples aren\\'t likely to go to jail. The researchers of this study based their work on a long-term survey of thousands of young American adults, and focused on those who were married by 18-28 years old. That\\'s earlier than many Americans marry — and doesn\\'t appear to overlap much with the population of Americans who go to jail. The study\\'s authors describe incarceration among married people as \"rare,\" \\xa0and their paper was based on fewer than 100 subjects. But when one spouse is incarcerated — even briefly — it\\'s bad for the marriage. Most of the respondents who\\'d been incarcerated weren\\'t in jail for very long. But even in the case of shorter jail or prison stays, current or former inmates were more likely to get divorced than people who\\'d never been incarcerated. In particular, spouses report that their marriages are less loving and more violent after incarceration than they were before. The authors of this study were particularly interested in how incarceration affected particular factors that might make it less appealing to stay in a marriage; easier to leave; or more attractive to find another partner. They found that after being incarcerated, former inmates said that there was less love in their relationships, more relationship violence, and more extramarital sex than people who\\'d never been incarcerated. (People who were surveyed about their marriages before going to prison didn\\'t report these affects, making it less likely that stressful marriages and incarceration are just things that go together.)  Despite his wife\\'s tears in this photo, Tom DeLay didn\\'t end up going to prison. Ben Sklar/Getty What we still don\\'t know  How representative are young married couples of all married couples, or of the inmate population as a whole? The authors of this study admit that people who get married young are more likely to break up when there\\'s trouble in their marriages than people who marry older. They\\'re also not necessarily representative of the broader population — or of people who get incarcerated — in terms of race, religion, or socioeconomic status. While previous studies about the effect of longer prison terms on marriage have been broader, this study about the effect of shorter stays on marriage might be working from an unrepresentative sample. Does stress on married couples come from the pain of separation, or from social stigma from others? The authors of this study suggest that because their evidence shows even a short jail stay can make a marriage more likely to dissolve years later, incarceration can\\'t just lead to divorce because of the pain of separation.\\xa0Instead, they say, it shows that the stigma facing someone who\\'s been incarcerated makes it harder to keep a marriage together, and easier for a spouse to leave.  But since their study subjects come from a group where incarceration is relatively uncommon, there might be more stigma facing them within their circles of immediate friends and family than there is in places where incarceration is more common. Many criminologists think that the communities where young people are most likely to be incarcerated don\\'t hold out as much stigma. So this might be one place where this study is dangerous to generalize. Is better inmate marital counseling the answer? The study\\'s authors suggest that their research shows how prisons could use marital counseling, during and after incarceration, to help keep couples close and promote nonviolent conflict resolution. Maybe it could. But there\\'s still a lot more research showing that incarceration harms marriages than showing what parts of a marriage, in particular, it weakens. So for the moment, it seems more likely that policymakers have a better shot at fixing the harms shown in these studies by putting fewer people in prison or jail to begin with.'"
      ]
     },
     "execution_count": 17,
     "metadata": {},
     "output_type": "execute_result"
    }
   ],
   "source": [
    "data_ready.iloc[0]['body']"
   ]
  },
  {
   "cell_type": "code",
   "execution_count": 18,
   "metadata": {},
   "outputs": [],
   "source": [
    "data_ready.to_csv('VoxData.csv', sep=',', index=False)"
   ]
  },
  {
   "cell_type": "code",
   "execution_count": null,
   "metadata": {},
   "outputs": [],
   "source": []
  }
 ],
 "metadata": {
  "kernelspec": {
   "display_name": "Python 3",
   "language": "python",
   "name": "python3"
  },
  "language_info": {
   "codemirror_mode": {
    "name": "ipython",
    "version": 3
   },
   "file_extension": ".py",
   "mimetype": "text/x-python",
   "name": "python",
   "nbconvert_exporter": "python",
   "pygments_lexer": "ipython3",
   "version": "3.7.6"
  }
 },
 "nbformat": 4,
 "nbformat_minor": 2
}
